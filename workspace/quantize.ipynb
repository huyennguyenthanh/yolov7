{
 "cells": [
  {
   "cell_type": "code",
   "execution_count": 2,
   "metadata": {},
   "outputs": [
    {
     "name": "stdout",
     "output_type": "stream",
     "text": [
      "None\n"
     ]
    }
   ],
   "source": [
    "import os\n",
    "print(os.environ.get('CUDA_PATH'))"
   ]
  },
  {
   "cell_type": "code",
   "execution_count": 1,
   "metadata": {},
   "outputs": [],
   "source": [
    "from IPython.core.interactiveshell import InteractiveShell\n",
    "InteractiveShell.ast_node_interactivity = \"all\""
   ]
  },
  {
   "cell_type": "code",
   "execution_count": 2,
   "metadata": {},
   "outputs": [
    {
     "name": "stderr",
     "output_type": "stream",
     "text": [
      "/home/nguyen.thanh.huyenb/anaconda3/envs/yolo/lib/python3.10/site-packages/tqdm/auto.py:22: TqdmWarning: IProgress not found. Please update jupyter and ipywidgets. See https://ipywidgets.readthedocs.io/en/stable/user_install.html\n",
      "  from .autonotebook import tqdm as notebook_tqdm\n",
      "/home/nguyen.thanh.huyenb/anaconda3/envs/yolo/lib/python3.10/site-packages/nncf/torch/__init__.py:23: UserWarning: NNCF provides best results with torch==1.9.1, while current torch version is 1.13.0 - consider switching to torch==1.9.1\n",
      "  warnings.warn(\"NNCF provides best results with torch=={bkc}, \"\n",
      "/home/nguyen.thanh.huyenb/anaconda3/envs/yolo/lib/python3.10/site-packages/nncf/torch/dynamic_graph/patch_pytorch.py:163: UserWarning: Not patching unique_dim since it is missing in this version of PyTorch\n",
      "  warnings.warn(\"Not patching {} since it is missing in this version of PyTorch\".format(op_name))\n"
     ]
    }
   ],
   "source": [
    "import torch\n",
    "import nncf\n",
    "from nncf import NNCFConfig\n",
    "from nncf.torch import create_compressed_model\n",
    "from nncf.torch import register_default_init_args\n"
   ]
  },
  {
   "cell_type": "code",
   "execution_count": 3,
   "metadata": {},
   "outputs": [
    {
     "name": "stdout",
     "output_type": "stream",
     "text": [
      "Fusing layers... \n",
      "RepConv.fuse_repvgg_block\n",
      "RepConv.fuse_repvgg_block\n",
      "RepConv.fuse_repvgg_block\n",
      "IDetect.fuse\n"
     ]
    },
    {
     "name": "stderr",
     "output_type": "stream",
     "text": [
      "/home/nguyen.thanh.huyenb/anaconda3/envs/yolo/lib/python3.10/site-packages/torch/functional.py:504: UserWarning: torch.meshgrid: in an upcoming release, it will be required to pass the indexing argument. (Triggered internally at /opt/conda/conda-bld/pytorch_1666642922335/work/aten/src/ATen/native/TensorShape.cpp:3190.)\n",
      "  return _VF.meshgrid(tensors, **kwargs)  # type: ignore[attr-defined]\n"
     ]
    },
    {
     "data": {
      "text/plain": [
       "32"
      ]
     },
     "execution_count": 3,
     "metadata": {},
     "output_type": "execute_result"
    }
   ],
   "source": [
    "from models.experimental import attempt_load\n",
    "weight_path = \"/home/nguyen.thanh.huyenb/yolov7/yolov7/runs/train/yolov79/weights/best.pt\"\n",
    "model = attempt_load(weight_path, map_location=\"cpu\")\n",
    "gs = max(int(model.stride.max()), 32) \n",
    "gs"
   ]
  },
  {
   "cell_type": "code",
   "execution_count": 22,
   "metadata": {},
   "outputs": [],
   "source": [
    "def collate_fn(batch):\n",
    "    img, label, path, shapes = zip(*batch)  # transposed\n",
    "    for i, l in enumerate(label):\n",
    "        l[:, 0] = i  # add target image index for build_targets()\n",
    "    return (torch.stack(img, 0)) #, torch.cat(label, 0), # path, shapes"
   ]
  },
  {
   "cell_type": "code",
   "execution_count": 23,
   "metadata": {},
   "outputs": [],
   "source": [
    "class OPT:\n",
    "    single_cls = False\n",
    "\n",
    "opt = OPT()"
   ]
  },
  {
   "cell_type": "code",
   "execution_count": 24,
   "metadata": {},
   "outputs": [
    {
     "name": "stderr",
     "output_type": "stream",
     "text": [
      "Scanning '/home/nguyen.thanh.huyenb/yolov7/training_minicoco_dataset/test/labels.cache' images and labels... 10 found, 0 missing, 0 empty, 0 corrupted: 100%|██████████| 10/10 [00:00<?, ?it/s]\n"
     ]
    }
   ],
   "source": [
    "from utils.datasets import create_dataloader\n",
    "data_path = \"/home/nguyen.thanh.huyenb/yolov7/training_minicoco_dataset/test\"\n",
    "imgsz = 320\n",
    "batch_size = 2\n",
    "\n",
    "dataloader = create_dataloader(\n",
    "            data_path,\n",
    "            imgsz,\n",
    "            batch_size,\n",
    "            gs,\n",
    "            opt,\n",
    "            pad=0.5,\n",
    "            rect=True,\n",
    "            collate_fn=collate_fn\n",
    "        )[0]\n"
   ]
  },
  {
   "cell_type": "code",
   "execution_count": 25,
   "metadata": {},
   "outputs": [
    {
     "data": {
      "text/plain": [
       "2"
      ]
     },
     "execution_count": 25,
     "metadata": {},
     "output_type": "execute_result"
    },
    {
     "data": {
      "text/plain": [
       "torch.Size([3, 256, 352])"
      ]
     },
     "execution_count": 25,
     "metadata": {},
     "output_type": "execute_result"
    },
    {
     "data": {
      "text/plain": [
       "torch.Size([3, 256, 352])"
      ]
     },
     "execution_count": 25,
     "metadata": {},
     "output_type": "execute_result"
    }
   ],
   "source": [
    "batch = next(iter(dataloader))\n",
    "len(batch)\n",
    "batch[0].shape\n",
    "batch[1].shape"
   ]
  },
  {
   "cell_type": "code",
   "execution_count": 26,
   "metadata": {},
   "outputs": [],
   "source": [
    "nncf_config_dict = {\n",
    "    \"input_info\": [\n",
    "      {\n",
    "        \"sample_size\": [1, 3, 320, 320]\n",
    "        },\n",
    "      # {\n",
    "      #   \"sample_size\": [1, 6]\n",
    "      # }\n",
    "    ],\n",
    "    \"compression\": [\n",
    "    {\n",
    "      \"algorithm\": \"quantization\",\n",
    "      \n",
    "    }\n",
    "    ]\n",
    "}\n",
    "# Load a configuration file to specify compression\n",
    "nncf_config = NNCFConfig.from_dict(nncf_config_dict)"
   ]
  },
  {
   "cell_type": "code",
   "execution_count": 27,
   "metadata": {},
   "outputs": [
    {
     "ename": "NotImplementedError",
     "evalue": "By default it is assumed that the data loader used for initialize produces a tuple/list of (*model_input*, *ground_truth*) and that no special forward arguments have to be set during init. If this is not the case, then instead of your regular data loader you need to pass a specialized version of PTInitializingDataLoader that returns a general (args, kwargs) tuple for your model to be called with at each __next__ call.",
     "output_type": "error",
     "traceback": [
      "\u001b[0;31m---------------------------------------------------------------------------\u001b[0m",
      "\u001b[0;31mNotImplementedError\u001b[0m                       Traceback (most recent call last)",
      "\u001b[1;32m/home/nguyen.thanh.huyenb/yolov7/yolov7/quantize.ipynb Cell 10\u001b[0m in \u001b[0;36m<cell line: 1>\u001b[0;34m()\u001b[0m\n\u001b[0;32m----> <a href='vscode-notebook-cell://ssh-remote%2B7b22686f73744e616d65223a2267707541227d/home/nguyen.thanh.huyenb/yolov7/yolov7/quantize.ipynb#X10sdnNjb2RlLXJlbW90ZQ%3D%3D?line=0'>1</a>\u001b[0m nncf_config \u001b[39m=\u001b[39m register_default_init_args(nncf_config, dataloader)\n\u001b[1;32m      <a href='vscode-notebook-cell://ssh-remote%2B7b22686f73744e616d65223a2267707541227d/home/nguyen.thanh.huyenb/yolov7/yolov7/quantize.ipynb#X10sdnNjb2RlLXJlbW90ZQ%3D%3D?line=1'>2</a>\u001b[0m nncf_config\n",
      "File \u001b[0;32m~/anaconda3/envs/yolo/lib/python3.10/site-packages/nncf/torch/initialization.py:239\u001b[0m, in \u001b[0;36mregister_default_init_args\u001b[0;34m(nncf_config, train_loader, criterion, criterion_fn, train_steps_fn, validate_fn, val_loader, autoq_eval_fn, model_eval_fn, distributed_callbacks, execution_parameters, legr_train_optimizer, device)\u001b[0m\n\u001b[1;32m    223\u001b[0m \u001b[39mdef\u001b[39;00m \u001b[39mregister_default_init_args\u001b[39m(nncf_config: \u001b[39m'\u001b[39m\u001b[39mNNCFConfig\u001b[39m\u001b[39m'\u001b[39m,\n\u001b[1;32m    224\u001b[0m                                train_loader: torch\u001b[39m.\u001b[39mutils\u001b[39m.\u001b[39mdata\u001b[39m.\u001b[39mDataLoader,\n\u001b[1;32m    225\u001b[0m                                criterion: _Loss \u001b[39m=\u001b[39m \u001b[39mNone\u001b[39;00m,\n\u001b[0;32m   (...)\u001b[0m\n\u001b[1;32m    237\u001b[0m                                legr_train_optimizer: torch\u001b[39m.\u001b[39moptim\u001b[39m.\u001b[39mOptimizer \u001b[39m=\u001b[39m \u001b[39mNone\u001b[39;00m,\n\u001b[1;32m    238\u001b[0m                                device: \u001b[39mstr\u001b[39m \u001b[39m=\u001b[39m \u001b[39mNone\u001b[39;00m, ) \u001b[39m-\u001b[39m\u001b[39m>\u001b[39m \u001b[39m'\u001b[39m\u001b[39mNNCFConfig\u001b[39m\u001b[39m'\u001b[39m:\n\u001b[0;32m--> 239\u001b[0m     nncf_config\u001b[39m.\u001b[39mregister_extra_structs([QuantizationRangeInitArgs(data_loader\u001b[39m=\u001b[39mwrap_dataloader_for_init(train_loader),\n\u001b[1;32m    240\u001b[0m                                                                   device\u001b[39m=\u001b[39mdevice),\n\u001b[1;32m    241\u001b[0m                                         BNAdaptationInitArgs(data_loader\u001b[39m=\u001b[39mwrap_dataloader_for_init(train_loader),\n\u001b[1;32m    242\u001b[0m                                                              device\u001b[39m=\u001b[39mdevice),\n\u001b[1;32m    243\u001b[0m \n\u001b[1;32m    244\u001b[0m                                         ])\n\u001b[1;32m    245\u001b[0m     \u001b[39mif\u001b[39;00m train_loader \u001b[39mand\u001b[39;00m train_steps_fn \u001b[39mand\u001b[39;00m val_loader \u001b[39mand\u001b[39;00m validate_fn:\n\u001b[1;32m    246\u001b[0m         nncf_config\u001b[39m.\u001b[39mregister_extra_structs([LeGRInitArgs(\n\u001b[1;32m    247\u001b[0m             train_loader\u001b[39m=\u001b[39mtrain_loader,\n\u001b[1;32m    248\u001b[0m             train_fn\u001b[39m=\u001b[39mtrain_steps_fn,\n\u001b[0;32m   (...)\u001b[0m\n\u001b[1;32m    252\u001b[0m             nncf_config\u001b[39m=\u001b[39mnncf_config,\n\u001b[1;32m    253\u001b[0m         )])\n",
      "File \u001b[0;32m~/anaconda3/envs/yolo/lib/python3.10/site-packages/nncf/torch/initialization.py:78\u001b[0m, in \u001b[0;36mwrap_dataloader_for_init\u001b[0;34m(data_loader)\u001b[0m\n\u001b[1;32m     76\u001b[0m     \u001b[39mif\u001b[39;00m \u001b[39misinstance\u001b[39m(loaded_item, (\u001b[39mtuple\u001b[39m, \u001b[39mlist\u001b[39m)) \u001b[39mand\u001b[39;00m \u001b[39mlen\u001b[39m(loaded_item) \u001b[39m==\u001b[39m \u001b[39m2\u001b[39m:\n\u001b[1;32m     77\u001b[0m         \u001b[39mreturn\u001b[39;00m DefaultInitializingDataLoader(data_loader)\n\u001b[0;32m---> 78\u001b[0m     \u001b[39mraise\u001b[39;00m \u001b[39mNotImplementedError\u001b[39;00m(\u001b[39m\"\u001b[39m\u001b[39mBy default it is assumed that the data loader used for initialize \u001b[39m\u001b[39m\"\u001b[39m\n\u001b[1;32m     79\u001b[0m                               \u001b[39m\"\u001b[39m\u001b[39mproduces a tuple/list of (*model_input*, *ground_truth*) and that no special \u001b[39m\u001b[39m\"\u001b[39m\n\u001b[1;32m     80\u001b[0m                               \u001b[39m\"\u001b[39m\u001b[39mforward arguments have to be set during init. If this is not the case, then instead \u001b[39m\u001b[39m\"\u001b[39m\n\u001b[1;32m     81\u001b[0m                               \u001b[39m\"\u001b[39m\u001b[39mof your regular data loader you need to pass a specialized version of \u001b[39m\u001b[39m\"\u001b[39m\n\u001b[1;32m     82\u001b[0m                               \u001b[39m\"\u001b[39m\u001b[39mPTInitializingDataLoader that returns a general (args, kwargs) tuple for your \u001b[39m\u001b[39m\"\u001b[39m\n\u001b[1;32m     83\u001b[0m                               \u001b[39m\"\u001b[39m\u001b[39mmodel to be called with at each __next__ call.\u001b[39m\u001b[39m\"\u001b[39m)\n\u001b[1;32m     84\u001b[0m \u001b[39mreturn\u001b[39;00m data_loader\n",
      "\u001b[0;31mNotImplementedError\u001b[0m: By default it is assumed that the data loader used for initialize produces a tuple/list of (*model_input*, *ground_truth*) and that no special forward arguments have to be set during init. If this is not the case, then instead of your regular data loader you need to pass a specialized version of PTInitializingDataLoader that returns a general (args, kwargs) tuple for your model to be called with at each __next__ call."
     ]
    }
   ],
   "source": [
    "nncf_config = register_default_init_args(nncf_config, dataloader)\n",
    "nncf_config\n"
   ]
  },
  {
   "cell_type": "code",
   "execution_count": 28,
   "metadata": {},
   "outputs": [
    {
     "name": "stdout",
     "output_type": "stream",
     "text": [
      "INFO:nncf:Wrapping module Model/Sequential[model]/Conv[0]/Conv2d[conv] by Model/Sequential[model]/Conv[0]/NNCFConv2d[conv]\n",
      "INFO:nncf:Wrapping module Model/Sequential[model]/Conv[1]/Conv2d[conv] by Model/Sequential[model]/Conv[1]/NNCFConv2d[conv]\n",
      "INFO:nncf:Wrapping module Model/Sequential[model]/Conv[2]/Conv2d[conv] by Model/Sequential[model]/Conv[2]/NNCFConv2d[conv]\n",
      "INFO:nncf:Wrapping module Model/Sequential[model]/Conv[3]/Conv2d[conv] by Model/Sequential[model]/Conv[3]/NNCFConv2d[conv]\n",
      "INFO:nncf:Wrapping module Model/Sequential[model]/Conv[4]/Conv2d[conv] by Model/Sequential[model]/Conv[4]/NNCFConv2d[conv]\n",
      "INFO:nncf:Wrapping module Model/Sequential[model]/Conv[5]/Conv2d[conv] by Model/Sequential[model]/Conv[5]/NNCFConv2d[conv]\n",
      "INFO:nncf:Wrapping module Model/Sequential[model]/Conv[6]/Conv2d[conv] by Model/Sequential[model]/Conv[6]/NNCFConv2d[conv]\n",
      "INFO:nncf:Wrapping module Model/Sequential[model]/Conv[7]/Conv2d[conv] by Model/Sequential[model]/Conv[7]/NNCFConv2d[conv]\n",
      "INFO:nncf:Wrapping module Model/Sequential[model]/Conv[8]/Conv2d[conv] by Model/Sequential[model]/Conv[8]/NNCFConv2d[conv]\n",
      "INFO:nncf:Wrapping module Model/Sequential[model]/Conv[9]/Conv2d[conv] by Model/Sequential[model]/Conv[9]/NNCFConv2d[conv]\n",
      "INFO:nncf:Wrapping module Model/Sequential[model]/Conv[11]/Conv2d[conv] by Model/Sequential[model]/Conv[11]/NNCFConv2d[conv]\n",
      "INFO:nncf:Wrapping module Model/Sequential[model]/Conv[13]/Conv2d[conv] by Model/Sequential[model]/Conv[13]/NNCFConv2d[conv]\n",
      "INFO:nncf:Wrapping module Model/Sequential[model]/Conv[14]/Conv2d[conv] by Model/Sequential[model]/Conv[14]/NNCFConv2d[conv]\n",
      "INFO:nncf:Wrapping module Model/Sequential[model]/Conv[15]/Conv2d[conv] by Model/Sequential[model]/Conv[15]/NNCFConv2d[conv]\n",
      "INFO:nncf:Wrapping module Model/Sequential[model]/Conv[17]/Conv2d[conv] by Model/Sequential[model]/Conv[17]/NNCFConv2d[conv]\n",
      "INFO:nncf:Wrapping module Model/Sequential[model]/Conv[18]/Conv2d[conv] by Model/Sequential[model]/Conv[18]/NNCFConv2d[conv]\n",
      "INFO:nncf:Wrapping module Model/Sequential[model]/Conv[19]/Conv2d[conv] by Model/Sequential[model]/Conv[19]/NNCFConv2d[conv]\n",
      "INFO:nncf:Wrapping module Model/Sequential[model]/Conv[20]/Conv2d[conv] by Model/Sequential[model]/Conv[20]/NNCFConv2d[conv]\n",
      "INFO:nncf:Wrapping module Model/Sequential[model]/Conv[21]/Conv2d[conv] by Model/Sequential[model]/Conv[21]/NNCFConv2d[conv]\n",
      "INFO:nncf:Wrapping module Model/Sequential[model]/Conv[22]/Conv2d[conv] by Model/Sequential[model]/Conv[22]/NNCFConv2d[conv]\n",
      "INFO:nncf:Wrapping module Model/Sequential[model]/Conv[24]/Conv2d[conv] by Model/Sequential[model]/Conv[24]/NNCFConv2d[conv]\n",
      "INFO:nncf:Wrapping module Model/Sequential[model]/Conv[26]/Conv2d[conv] by Model/Sequential[model]/Conv[26]/NNCFConv2d[conv]\n",
      "INFO:nncf:Wrapping module Model/Sequential[model]/Conv[27]/Conv2d[conv] by Model/Sequential[model]/Conv[27]/NNCFConv2d[conv]\n",
      "INFO:nncf:Wrapping module Model/Sequential[model]/Conv[28]/Conv2d[conv] by Model/Sequential[model]/Conv[28]/NNCFConv2d[conv]\n",
      "INFO:nncf:Wrapping module Model/Sequential[model]/Conv[30]/Conv2d[conv] by Model/Sequential[model]/Conv[30]/NNCFConv2d[conv]\n",
      "INFO:nncf:Wrapping module Model/Sequential[model]/Conv[31]/Conv2d[conv] by Model/Sequential[model]/Conv[31]/NNCFConv2d[conv]\n",
      "INFO:nncf:Wrapping module Model/Sequential[model]/Conv[32]/Conv2d[conv] by Model/Sequential[model]/Conv[32]/NNCFConv2d[conv]\n",
      "INFO:nncf:Wrapping module Model/Sequential[model]/Conv[33]/Conv2d[conv] by Model/Sequential[model]/Conv[33]/NNCFConv2d[conv]\n",
      "INFO:nncf:Wrapping module Model/Sequential[model]/Conv[34]/Conv2d[conv] by Model/Sequential[model]/Conv[34]/NNCFConv2d[conv]\n",
      "INFO:nncf:Wrapping module Model/Sequential[model]/Conv[35]/Conv2d[conv] by Model/Sequential[model]/Conv[35]/NNCFConv2d[conv]\n",
      "INFO:nncf:Wrapping module Model/Sequential[model]/Conv[37]/Conv2d[conv] by Model/Sequential[model]/Conv[37]/NNCFConv2d[conv]\n",
      "INFO:nncf:Wrapping module Model/Sequential[model]/Conv[39]/Conv2d[conv] by Model/Sequential[model]/Conv[39]/NNCFConv2d[conv]\n",
      "INFO:nncf:Wrapping module Model/Sequential[model]/Conv[40]/Conv2d[conv] by Model/Sequential[model]/Conv[40]/NNCFConv2d[conv]\n",
      "INFO:nncf:Wrapping module Model/Sequential[model]/Conv[41]/Conv2d[conv] by Model/Sequential[model]/Conv[41]/NNCFConv2d[conv]\n",
      "INFO:nncf:Wrapping module Model/Sequential[model]/Conv[43]/Conv2d[conv] by Model/Sequential[model]/Conv[43]/NNCFConv2d[conv]\n",
      "INFO:nncf:Wrapping module Model/Sequential[model]/Conv[44]/Conv2d[conv] by Model/Sequential[model]/Conv[44]/NNCFConv2d[conv]\n",
      "INFO:nncf:Wrapping module Model/Sequential[model]/Conv[45]/Conv2d[conv] by Model/Sequential[model]/Conv[45]/NNCFConv2d[conv]\n",
      "INFO:nncf:Wrapping module Model/Sequential[model]/Conv[46]/Conv2d[conv] by Model/Sequential[model]/Conv[46]/NNCFConv2d[conv]\n",
      "INFO:nncf:Wrapping module Model/Sequential[model]/Conv[47]/Conv2d[conv] by Model/Sequential[model]/Conv[47]/NNCFConv2d[conv]\n",
      "INFO:nncf:Wrapping module Model/Sequential[model]/Conv[48]/Conv2d[conv] by Model/Sequential[model]/Conv[48]/NNCFConv2d[conv]\n",
      "INFO:nncf:Wrapping module Model/Sequential[model]/Conv[50]/Conv2d[conv] by Model/Sequential[model]/Conv[50]/NNCFConv2d[conv]\n",
      "INFO:nncf:Wrapping module Model/Sequential[model]/SPPCSPC[51]/Conv[cv1]/Conv2d[conv] by Model/Sequential[model]/SPPCSPC[51]/Conv[cv1]/NNCFConv2d[conv]\n",
      "INFO:nncf:Wrapping module Model/Sequential[model]/SPPCSPC[51]/Conv[cv2]/Conv2d[conv] by Model/Sequential[model]/SPPCSPC[51]/Conv[cv2]/NNCFConv2d[conv]\n",
      "INFO:nncf:Wrapping module Model/Sequential[model]/SPPCSPC[51]/Conv[cv3]/Conv2d[conv] by Model/Sequential[model]/SPPCSPC[51]/Conv[cv3]/NNCFConv2d[conv]\n",
      "INFO:nncf:Wrapping module Model/Sequential[model]/SPPCSPC[51]/Conv[cv4]/Conv2d[conv] by Model/Sequential[model]/SPPCSPC[51]/Conv[cv4]/NNCFConv2d[conv]\n",
      "INFO:nncf:Wrapping module Model/Sequential[model]/SPPCSPC[51]/Conv[cv5]/Conv2d[conv] by Model/Sequential[model]/SPPCSPC[51]/Conv[cv5]/NNCFConv2d[conv]\n",
      "INFO:nncf:Wrapping module Model/Sequential[model]/SPPCSPC[51]/Conv[cv6]/Conv2d[conv] by Model/Sequential[model]/SPPCSPC[51]/Conv[cv6]/NNCFConv2d[conv]\n",
      "INFO:nncf:Wrapping module Model/Sequential[model]/SPPCSPC[51]/Conv[cv7]/Conv2d[conv] by Model/Sequential[model]/SPPCSPC[51]/Conv[cv7]/NNCFConv2d[conv]\n",
      "INFO:nncf:Wrapping module Model/Sequential[model]/Conv[52]/Conv2d[conv] by Model/Sequential[model]/Conv[52]/NNCFConv2d[conv]\n",
      "INFO:nncf:Wrapping module Model/Sequential[model]/Conv[54]/Conv2d[conv] by Model/Sequential[model]/Conv[54]/NNCFConv2d[conv]\n",
      "INFO:nncf:Wrapping module Model/Sequential[model]/Conv[56]/Conv2d[conv] by Model/Sequential[model]/Conv[56]/NNCFConv2d[conv]\n",
      "INFO:nncf:Wrapping module Model/Sequential[model]/Conv[57]/Conv2d[conv] by Model/Sequential[model]/Conv[57]/NNCFConv2d[conv]\n",
      "INFO:nncf:Wrapping module Model/Sequential[model]/Conv[58]/Conv2d[conv] by Model/Sequential[model]/Conv[58]/NNCFConv2d[conv]\n",
      "INFO:nncf:Wrapping module Model/Sequential[model]/Conv[59]/Conv2d[conv] by Model/Sequential[model]/Conv[59]/NNCFConv2d[conv]\n",
      "INFO:nncf:Wrapping module Model/Sequential[model]/Conv[60]/Conv2d[conv] by Model/Sequential[model]/Conv[60]/NNCFConv2d[conv]\n",
      "INFO:nncf:Wrapping module Model/Sequential[model]/Conv[61]/Conv2d[conv] by Model/Sequential[model]/Conv[61]/NNCFConv2d[conv]\n",
      "INFO:nncf:Wrapping module Model/Sequential[model]/Conv[63]/Conv2d[conv] by Model/Sequential[model]/Conv[63]/NNCFConv2d[conv]\n",
      "INFO:nncf:Wrapping module Model/Sequential[model]/Conv[64]/Conv2d[conv] by Model/Sequential[model]/Conv[64]/NNCFConv2d[conv]\n",
      "INFO:nncf:Wrapping module Model/Sequential[model]/Conv[66]/Conv2d[conv] by Model/Sequential[model]/Conv[66]/NNCFConv2d[conv]\n",
      "INFO:nncf:Wrapping module Model/Sequential[model]/Conv[68]/Conv2d[conv] by Model/Sequential[model]/Conv[68]/NNCFConv2d[conv]\n",
      "INFO:nncf:Wrapping module Model/Sequential[model]/Conv[69]/Conv2d[conv] by Model/Sequential[model]/Conv[69]/NNCFConv2d[conv]\n",
      "INFO:nncf:Wrapping module Model/Sequential[model]/Conv[70]/Conv2d[conv] by Model/Sequential[model]/Conv[70]/NNCFConv2d[conv]\n",
      "INFO:nncf:Wrapping module Model/Sequential[model]/Conv[71]/Conv2d[conv] by Model/Sequential[model]/Conv[71]/NNCFConv2d[conv]\n",
      "INFO:nncf:Wrapping module Model/Sequential[model]/Conv[72]/Conv2d[conv] by Model/Sequential[model]/Conv[72]/NNCFConv2d[conv]\n",
      "INFO:nncf:Wrapping module Model/Sequential[model]/Conv[73]/Conv2d[conv] by Model/Sequential[model]/Conv[73]/NNCFConv2d[conv]\n",
      "INFO:nncf:Wrapping module Model/Sequential[model]/Conv[75]/Conv2d[conv] by Model/Sequential[model]/Conv[75]/NNCFConv2d[conv]\n",
      "INFO:nncf:Wrapping module Model/Sequential[model]/Conv[77]/Conv2d[conv] by Model/Sequential[model]/Conv[77]/NNCFConv2d[conv]\n",
      "INFO:nncf:Wrapping module Model/Sequential[model]/Conv[78]/Conv2d[conv] by Model/Sequential[model]/Conv[78]/NNCFConv2d[conv]\n",
      "INFO:nncf:Wrapping module Model/Sequential[model]/Conv[79]/Conv2d[conv] by Model/Sequential[model]/Conv[79]/NNCFConv2d[conv]\n",
      "INFO:nncf:Wrapping module Model/Sequential[model]/Conv[81]/Conv2d[conv] by Model/Sequential[model]/Conv[81]/NNCFConv2d[conv]\n",
      "INFO:nncf:Wrapping module Model/Sequential[model]/Conv[82]/Conv2d[conv] by Model/Sequential[model]/Conv[82]/NNCFConv2d[conv]\n",
      "INFO:nncf:Wrapping module Model/Sequential[model]/Conv[83]/Conv2d[conv] by Model/Sequential[model]/Conv[83]/NNCFConv2d[conv]\n",
      "INFO:nncf:Wrapping module Model/Sequential[model]/Conv[84]/Conv2d[conv] by Model/Sequential[model]/Conv[84]/NNCFConv2d[conv]\n",
      "INFO:nncf:Wrapping module Model/Sequential[model]/Conv[85]/Conv2d[conv] by Model/Sequential[model]/Conv[85]/NNCFConv2d[conv]\n",
      "INFO:nncf:Wrapping module Model/Sequential[model]/Conv[86]/Conv2d[conv] by Model/Sequential[model]/Conv[86]/NNCFConv2d[conv]\n",
      "INFO:nncf:Wrapping module Model/Sequential[model]/Conv[88]/Conv2d[conv] by Model/Sequential[model]/Conv[88]/NNCFConv2d[conv]\n",
      "INFO:nncf:Wrapping module Model/Sequential[model]/Conv[90]/Conv2d[conv] by Model/Sequential[model]/Conv[90]/NNCFConv2d[conv]\n",
      "INFO:nncf:Wrapping module Model/Sequential[model]/Conv[91]/Conv2d[conv] by Model/Sequential[model]/Conv[91]/NNCFConv2d[conv]\n",
      "INFO:nncf:Wrapping module Model/Sequential[model]/Conv[92]/Conv2d[conv] by Model/Sequential[model]/Conv[92]/NNCFConv2d[conv]\n",
      "INFO:nncf:Wrapping module Model/Sequential[model]/Conv[94]/Conv2d[conv] by Model/Sequential[model]/Conv[94]/NNCFConv2d[conv]\n",
      "INFO:nncf:Wrapping module Model/Sequential[model]/Conv[95]/Conv2d[conv] by Model/Sequential[model]/Conv[95]/NNCFConv2d[conv]\n",
      "INFO:nncf:Wrapping module Model/Sequential[model]/Conv[96]/Conv2d[conv] by Model/Sequential[model]/Conv[96]/NNCFConv2d[conv]\n",
      "INFO:nncf:Wrapping module Model/Sequential[model]/Conv[97]/Conv2d[conv] by Model/Sequential[model]/Conv[97]/NNCFConv2d[conv]\n",
      "INFO:nncf:Wrapping module Model/Sequential[model]/Conv[98]/Conv2d[conv] by Model/Sequential[model]/Conv[98]/NNCFConv2d[conv]\n",
      "INFO:nncf:Wrapping module Model/Sequential[model]/Conv[99]/Conv2d[conv] by Model/Sequential[model]/Conv[99]/NNCFConv2d[conv]\n",
      "INFO:nncf:Wrapping module Model/Sequential[model]/Conv[101]/Conv2d[conv] by Model/Sequential[model]/Conv[101]/NNCFConv2d[conv]\n",
      "INFO:nncf:Wrapping module Model/Sequential[model]/RepConv[102]/Conv2d[rbr_reparam] by Model/Sequential[model]/RepConv[102]/NNCFConv2d[rbr_reparam]\n",
      "INFO:nncf:Wrapping module Model/Sequential[model]/RepConv[103]/Conv2d[rbr_reparam] by Model/Sequential[model]/RepConv[103]/NNCFConv2d[rbr_reparam]\n",
      "INFO:nncf:Wrapping module Model/Sequential[model]/RepConv[104]/Conv2d[rbr_reparam] by Model/Sequential[model]/RepConv[104]/NNCFConv2d[rbr_reparam]\n",
      "INFO:nncf:Wrapping module Model/Sequential[model]/IDetect[105]/ModuleList[m]/Conv2d[0] by Model/Sequential[model]/IDetect[105]/ModuleList[m]/NNCFConv2d[0]\n",
      "INFO:nncf:Wrapping module Model/Sequential[model]/IDetect[105]/ModuleList[m]/Conv2d[1] by Model/Sequential[model]/IDetect[105]/ModuleList[m]/NNCFConv2d[1]\n",
      "INFO:nncf:Wrapping module Model/Sequential[model]/IDetect[105]/ModuleList[m]/Conv2d[2] by Model/Sequential[model]/IDetect[105]/ModuleList[m]/NNCFConv2d[2]\n"
     ]
    },
    {
     "ename": "KeyError",
     "evalue": "232",
     "output_type": "error",
     "traceback": [
      "\u001b[0;31m---------------------------------------------------------------------------\u001b[0m",
      "\u001b[0;31mKeyError\u001b[0m                                  Traceback (most recent call last)",
      "\u001b[1;32m/home/nguyen.thanh.huyenb/yolov7/yolov7/quantize.ipynb Cell 11\u001b[0m in \u001b[0;36m<cell line: 1>\u001b[0;34m()\u001b[0m\n\u001b[0;32m----> <a href='vscode-notebook-cell://ssh-remote%2B7b22686f73744e616d65223a2267707541227d/home/nguyen.thanh.huyenb/yolov7/yolov7/quantize.ipynb#X21sdnNjb2RlLXJlbW90ZQ%3D%3D?line=0'>1</a>\u001b[0m compression_ctrl, model \u001b[39m=\u001b[39m create_compressed_model(model, nncf_config)\n",
      "File \u001b[0;32m~/anaconda3/envs/yolo/lib/python3.10/site-packages/nncf/torch/model_creation.py:96\u001b[0m, in \u001b[0;36mcreate_compressed_model\u001b[0;34m(model, config, compression_state, dummy_forward_fn, wrap_inputs_fn, wrap_outputs_fn, dump_graphs)\u001b[0m\n\u001b[1;32m     92\u001b[0m maybe_convert_legacy_names_in_compress_state(compression_state)\n\u001b[1;32m     94\u001b[0m should_init \u001b[39m=\u001b[39m compression_state \u001b[39mis\u001b[39;00m \u001b[39mNone\u001b[39;00m\n\u001b[0;32m---> 96\u001b[0m nncf_network \u001b[39m=\u001b[39m create_nncf_network(model, config, dummy_forward_fn, wrap_inputs_fn, wrap_outputs_fn)\n\u001b[1;32m     98\u001b[0m builder \u001b[39m=\u001b[39m create_compression_algorithm_builder(config, should_init)\n\u001b[1;32m     99\u001b[0m is_state_loadable \u001b[39m=\u001b[39m \u001b[39mnot\u001b[39;00m is_legacy_model_state_dict \u001b[39mand\u001b[39;00m compression_state \u001b[39mis\u001b[39;00m \u001b[39mnot\u001b[39;00m \u001b[39mNone\u001b[39;00m\n",
      "File \u001b[0;32m~/anaconda3/envs/yolo/lib/python3.10/site-packages/nncf/torch/model_creation.py:184\u001b[0m, in \u001b[0;36mcreate_nncf_network\u001b[0;34m(model, config, dummy_forward_fn, wrap_inputs_fn, wrap_outputs_fn)\u001b[0m\n\u001b[1;32m    181\u001b[0m             original_model_accuracy \u001b[39m=\u001b[39m evaluation_args\u001b[39m.\u001b[39meval_fn(model)\n\u001b[1;32m    182\u001b[0m             nncf_logger\u001b[39m.\u001b[39minfo(\u001b[39m\"\u001b[39m\u001b[39mNon-compressed model accuracy = \u001b[39m\u001b[39m{}\u001b[39;00m\u001b[39m\"\u001b[39m\u001b[39m.\u001b[39mformat(original_model_accuracy))\n\u001b[0;32m--> 184\u001b[0m nncf_network \u001b[39m=\u001b[39m NNCFNetwork(model, input_infos\u001b[39m=\u001b[39;49minput_info_list,\n\u001b[1;32m    185\u001b[0m                            dummy_forward_fn\u001b[39m=\u001b[39;49mdummy_forward_fn,\n\u001b[1;32m    186\u001b[0m                            wrap_inputs_fn\u001b[39m=\u001b[39;49mwrap_inputs_fn,\n\u001b[1;32m    187\u001b[0m                            wrap_outputs_fn\u001b[39m=\u001b[39;49mwrap_outputs_fn,\n\u001b[1;32m    188\u001b[0m                            ignored_scopes\u001b[39m=\u001b[39;49mignored_scopes,\n\u001b[1;32m    189\u001b[0m                            target_scopes\u001b[39m=\u001b[39;49mtarget_scopes,\n\u001b[1;32m    190\u001b[0m                            scopes_without_shape_matching\u001b[39m=\u001b[39;49mscopes_without_shape_matching,\n\u001b[1;32m    191\u001b[0m                            original_model_accuracy\u001b[39m=\u001b[39;49moriginal_model_accuracy)\n\u001b[1;32m    193\u001b[0m nncf_network\u001b[39m.\u001b[39mget_tracing_context()\u001b[39m.\u001b[39mdisable_trace_dynamic_graph()\n\u001b[1;32m    195\u001b[0m synchronize_all_processes_in_distributed_mode()\n",
      "File \u001b[0;32m~/anaconda3/envs/yolo/lib/python3.10/site-packages/nncf/torch/nncf_network.py:216\u001b[0m, in \u001b[0;36mNNCFNetwork.__init__\u001b[0;34m(self, module, input_infos, dummy_forward_fn, wrap_inputs_fn, scopes_without_shape_matching, ignored_scopes, target_scopes, reset, wrap_outputs_fn, original_model_accuracy)\u001b[0m\n\u001b[1;32m    212\u001b[0m \u001b[39mif\u001b[39;00m \u001b[39mself\u001b[39m\u001b[39m.\u001b[39mscopes_without_shape_matching:\n\u001b[1;32m    213\u001b[0m     _orig_context\u001b[39m.\u001b[39madd_node_comparators(scopes_without_shape_matching,\n\u001b[1;32m    214\u001b[0m                                        ShapeIgnoringTensorMetaComparator())\n\u001b[0;32m--> 216\u001b[0m \u001b[39mself\u001b[39m\u001b[39m.\u001b[39m_original_dynamic_graph \u001b[39m=\u001b[39m GraphTracer(_orig_graph_build_forward_fn)\u001b[39m.\u001b[39;49mtrace_graph(nncf_wrapped_model,\n\u001b[1;32m    217\u001b[0m                                                                                      _orig_context,\n\u001b[1;32m    218\u001b[0m                                                                                      as_eval\u001b[39m=\u001b[39;49m\u001b[39mTrue\u001b[39;49;00m)\n\u001b[1;32m    219\u001b[0m \u001b[39mself\u001b[39m\u001b[39m.\u001b[39m_original_graph \u001b[39m=\u001b[39m GraphConverter\u001b[39m.\u001b[39mconvert(\u001b[39mself\u001b[39m\u001b[39m.\u001b[39m_original_dynamic_graph,\n\u001b[1;32m    220\u001b[0m                                               input_infos\u001b[39m=\u001b[39m\u001b[39mself\u001b[39m\u001b[39m.\u001b[39minput_infos)\n\u001b[1;32m    221\u001b[0m \u001b[39mself\u001b[39m\u001b[39m.\u001b[39m_compressed_graph \u001b[39m=\u001b[39m \u001b[39mNone\u001b[39;00m  \u001b[39m# type: PTNNCFGraph\u001b[39;00m\n",
      "File \u001b[0;32m~/anaconda3/envs/yolo/lib/python3.10/site-packages/nncf/torch/dynamic_graph/graph_tracer.py:106\u001b[0m, in \u001b[0;36mGraphTracer.trace_graph\u001b[0;34m(self, model, context_to_use, as_eval)\u001b[0m\n\u001b[1;32m    104\u001b[0m \u001b[39mif\u001b[39;00m as_eval:\n\u001b[1;32m    105\u001b[0m     \u001b[39mwith\u001b[39;00m training_mode_switcher(model, is_training\u001b[39m=\u001b[39m\u001b[39mFalse\u001b[39;00m):\n\u001b[0;32m--> 106\u001b[0m         \u001b[39mself\u001b[39;49m\u001b[39m.\u001b[39;49mcustom_forward_fn(model)\n\u001b[1;32m    107\u001b[0m \u001b[39melse\u001b[39;00m:\n\u001b[1;32m    108\u001b[0m     \u001b[39mself\u001b[39m\u001b[39m.\u001b[39mcustom_forward_fn(model)\n",
      "File \u001b[0;32m~/anaconda3/envs/yolo/lib/python3.10/site-packages/nncf/torch/dynamic_graph/graph_tracer.py:149\u001b[0m, in \u001b[0;36mcreate_dummy_forward_fn.<locals>.default_dummy_forward_fn\u001b[0;34m(model)\u001b[0m\n\u001b[1;32m    147\u001b[0m     \u001b[39melse\u001b[39;00m:\n\u001b[1;32m    148\u001b[0m         args, kwargs \u001b[39m=\u001b[39m wrap_inputs_fn(args, kwargs)\n\u001b[0;32m--> 149\u001b[0m retval \u001b[39m=\u001b[39m model(\u001b[39m*\u001b[39;49margs, \u001b[39m*\u001b[39;49m\u001b[39m*\u001b[39;49mkwargs)\n\u001b[1;32m    150\u001b[0m \u001b[39mif\u001b[39;00m with_output_tracing:\n\u001b[1;32m    151\u001b[0m     retval \u001b[39m=\u001b[39m replicate_same_tensors(retval)\n",
      "File \u001b[0;32m~/anaconda3/envs/yolo/lib/python3.10/site-packages/nncf/torch/dynamic_graph/wrappers.py:163\u001b[0m, in \u001b[0;36mwrap_module_call.<locals>.wrapped\u001b[0;34m(self, *args, **kwargs)\u001b[0m\n\u001b[1;32m    161\u001b[0m         ctx\u001b[39m.\u001b[39min_skipped_block \u001b[39m=\u001b[39m \u001b[39mTrue\u001b[39;00m\n\u001b[1;32m    162\u001b[0m \u001b[39melse\u001b[39;00m:\n\u001b[0;32m--> 163\u001b[0m     retval \u001b[39m=\u001b[39m module_call(\u001b[39mself\u001b[39;49m, \u001b[39m*\u001b[39;49margs, \u001b[39m*\u001b[39;49m\u001b[39m*\u001b[39;49mkwargs)\n\u001b[1;32m    165\u001b[0m \u001b[39mif\u001b[39;00m \u001b[39mtype\u001b[39m(\u001b[39mself\u001b[39m)\u001b[39m.\u001b[39m\u001b[39m__name__\u001b[39m \u001b[39min\u001b[39;00m ITERATION_MODULES\u001b[39m.\u001b[39mregistry_dict:\n\u001b[1;32m    166\u001b[0m     ctx\u001b[39m.\u001b[39mreset_operator_call_count_in_scope(ctx\u001b[39m.\u001b[39mscope)\n",
      "File \u001b[0;32m~/anaconda3/envs/yolo/lib/python3.10/site-packages/torch/nn/modules/module.py:1190\u001b[0m, in \u001b[0;36mModule._call_impl\u001b[0;34m(self, *input, **kwargs)\u001b[0m\n\u001b[1;32m   1186\u001b[0m \u001b[39m# If we don't have any hooks, we want to skip the rest of the logic in\u001b[39;00m\n\u001b[1;32m   1187\u001b[0m \u001b[39m# this function, and just call forward.\u001b[39;00m\n\u001b[1;32m   1188\u001b[0m \u001b[39mif\u001b[39;00m \u001b[39mnot\u001b[39;00m (\u001b[39mself\u001b[39m\u001b[39m.\u001b[39m_backward_hooks \u001b[39mor\u001b[39;00m \u001b[39mself\u001b[39m\u001b[39m.\u001b[39m_forward_hooks \u001b[39mor\u001b[39;00m \u001b[39mself\u001b[39m\u001b[39m.\u001b[39m_forward_pre_hooks \u001b[39mor\u001b[39;00m _global_backward_hooks\n\u001b[1;32m   1189\u001b[0m         \u001b[39mor\u001b[39;00m _global_forward_hooks \u001b[39mor\u001b[39;00m _global_forward_pre_hooks):\n\u001b[0;32m-> 1190\u001b[0m     \u001b[39mreturn\u001b[39;00m forward_call(\u001b[39m*\u001b[39;49m\u001b[39minput\u001b[39;49m, \u001b[39m*\u001b[39;49m\u001b[39m*\u001b[39;49mkwargs)\n\u001b[1;32m   1191\u001b[0m \u001b[39m# Do not call functions when jit is used\u001b[39;00m\n\u001b[1;32m   1192\u001b[0m full_backward_hooks, non_full_backward_hooks \u001b[39m=\u001b[39m [], []\n",
      "File \u001b[0;32m~/yolov7/yolov7/models/yolo.py:768\u001b[0m, in \u001b[0;36mModel.forward\u001b[0;34m(self, x, augment, profile)\u001b[0m\n\u001b[1;32m    766\u001b[0m     \u001b[39mreturn\u001b[39;00m torch\u001b[39m.\u001b[39mcat(y, \u001b[39m1\u001b[39m), \u001b[39mNone\u001b[39;00m  \u001b[39m# augmented inference, train\u001b[39;00m\n\u001b[1;32m    767\u001b[0m \u001b[39melse\u001b[39;00m:\n\u001b[0;32m--> 768\u001b[0m     \u001b[39mreturn\u001b[39;00m \u001b[39mself\u001b[39;49m\u001b[39m.\u001b[39;49mforward_once(x, profile)\n",
      "File \u001b[0;32m~/yolov7/yolov7/models/yolo.py:809\u001b[0m, in \u001b[0;36mModel.forward_once\u001b[0;34m(self, x, profile)\u001b[0m\n\u001b[1;32m    806\u001b[0m         dt\u001b[39m.\u001b[39mappend((time_synchronized() \u001b[39m-\u001b[39m t) \u001b[39m*\u001b[39m \u001b[39m100\u001b[39m)\n\u001b[1;32m    807\u001b[0m         \u001b[39mprint\u001b[39m(\u001b[39m\"\u001b[39m\u001b[39m%10.1f\u001b[39;00m\u001b[39m%10.0f\u001b[39;00m\u001b[39m%10.1f\u001b[39;00m\u001b[39mms \u001b[39m\u001b[39m%-40s\u001b[39;00m\u001b[39m\"\u001b[39m \u001b[39m%\u001b[39m (o, m\u001b[39m.\u001b[39mnp, dt[\u001b[39m-\u001b[39m\u001b[39m1\u001b[39m], m\u001b[39m.\u001b[39mtype))\n\u001b[0;32m--> 809\u001b[0m     x \u001b[39m=\u001b[39m m(x)  \u001b[39m# run\u001b[39;00m\n\u001b[1;32m    811\u001b[0m     y\u001b[39m.\u001b[39mappend(x \u001b[39mif\u001b[39;00m m\u001b[39m.\u001b[39mi \u001b[39min\u001b[39;00m \u001b[39mself\u001b[39m\u001b[39m.\u001b[39msave \u001b[39melse\u001b[39;00m \u001b[39mNone\u001b[39;00m)  \u001b[39m# save output\u001b[39;00m\n\u001b[1;32m    813\u001b[0m \u001b[39mif\u001b[39;00m profile:\n",
      "File \u001b[0;32m~/anaconda3/envs/yolo/lib/python3.10/site-packages/nncf/torch/dynamic_graph/wrappers.py:163\u001b[0m, in \u001b[0;36mwrap_module_call.<locals>.wrapped\u001b[0;34m(self, *args, **kwargs)\u001b[0m\n\u001b[1;32m    161\u001b[0m         ctx\u001b[39m.\u001b[39min_skipped_block \u001b[39m=\u001b[39m \u001b[39mTrue\u001b[39;00m\n\u001b[1;32m    162\u001b[0m \u001b[39melse\u001b[39;00m:\n\u001b[0;32m--> 163\u001b[0m     retval \u001b[39m=\u001b[39m module_call(\u001b[39mself\u001b[39;49m, \u001b[39m*\u001b[39;49margs, \u001b[39m*\u001b[39;49m\u001b[39m*\u001b[39;49mkwargs)\n\u001b[1;32m    165\u001b[0m \u001b[39mif\u001b[39;00m \u001b[39mtype\u001b[39m(\u001b[39mself\u001b[39m)\u001b[39m.\u001b[39m\u001b[39m__name__\u001b[39m \u001b[39min\u001b[39;00m ITERATION_MODULES\u001b[39m.\u001b[39mregistry_dict:\n\u001b[1;32m    166\u001b[0m     ctx\u001b[39m.\u001b[39mreset_operator_call_count_in_scope(ctx\u001b[39m.\u001b[39mscope)\n",
      "File \u001b[0;32m~/anaconda3/envs/yolo/lib/python3.10/site-packages/torch/nn/modules/module.py:1190\u001b[0m, in \u001b[0;36mModule._call_impl\u001b[0;34m(self, *input, **kwargs)\u001b[0m\n\u001b[1;32m   1186\u001b[0m \u001b[39m# If we don't have any hooks, we want to skip the rest of the logic in\u001b[39;00m\n\u001b[1;32m   1187\u001b[0m \u001b[39m# this function, and just call forward.\u001b[39;00m\n\u001b[1;32m   1188\u001b[0m \u001b[39mif\u001b[39;00m \u001b[39mnot\u001b[39;00m (\u001b[39mself\u001b[39m\u001b[39m.\u001b[39m_backward_hooks \u001b[39mor\u001b[39;00m \u001b[39mself\u001b[39m\u001b[39m.\u001b[39m_forward_hooks \u001b[39mor\u001b[39;00m \u001b[39mself\u001b[39m\u001b[39m.\u001b[39m_forward_pre_hooks \u001b[39mor\u001b[39;00m _global_backward_hooks\n\u001b[1;32m   1189\u001b[0m         \u001b[39mor\u001b[39;00m _global_forward_hooks \u001b[39mor\u001b[39;00m _global_forward_pre_hooks):\n\u001b[0;32m-> 1190\u001b[0m     \u001b[39mreturn\u001b[39;00m forward_call(\u001b[39m*\u001b[39;49m\u001b[39minput\u001b[39;49m, \u001b[39m*\u001b[39;49m\u001b[39m*\u001b[39;49mkwargs)\n\u001b[1;32m   1191\u001b[0m \u001b[39m# Do not call functions when jit is used\u001b[39;00m\n\u001b[1;32m   1192\u001b[0m full_backward_hooks, non_full_backward_hooks \u001b[39m=\u001b[39m [], []\n",
      "File \u001b[0;32m~/yolov7/yolov7/models/yolo.py:198\u001b[0m, in \u001b[0;36mIDetect.fuseforward\u001b[0;34m(self, x)\u001b[0m\n\u001b[1;32m    195\u001b[0m y \u001b[39m=\u001b[39m x[i]\u001b[39m.\u001b[39msigmoid()\n\u001b[1;32m    196\u001b[0m \u001b[39mif\u001b[39;00m \u001b[39mnot\u001b[39;00m torch\u001b[39m.\u001b[39monnx\u001b[39m.\u001b[39mis_in_onnx_export():\n\u001b[1;32m    197\u001b[0m     y[\u001b[39m.\u001b[39m\u001b[39m.\u001b[39m\u001b[39m.\u001b[39m, \u001b[39m0\u001b[39m:\u001b[39m2\u001b[39m] \u001b[39m=\u001b[39m (\n\u001b[0;32m--> 198\u001b[0m         y[\u001b[39m.\u001b[39;49m\u001b[39m.\u001b[39;49m\u001b[39m.\u001b[39;49m, \u001b[39m0\u001b[39;49m:\u001b[39m2\u001b[39;49m] \u001b[39m*\u001b[39;49m \u001b[39m2.0\u001b[39;49m \u001b[39m-\u001b[39;49m \u001b[39m0.5\u001b[39;49m \u001b[39m+\u001b[39;49m \u001b[39mself\u001b[39;49m\u001b[39m.\u001b[39;49mgrid[i]\n\u001b[1;32m    199\u001b[0m     ) \u001b[39m*\u001b[39m \u001b[39mself\u001b[39m\u001b[39m.\u001b[39mstride[\n\u001b[1;32m    200\u001b[0m         i\n\u001b[1;32m    201\u001b[0m     ]  \u001b[39m# xy\u001b[39;00m\n\u001b[1;32m    202\u001b[0m     y[\u001b[39m.\u001b[39m\u001b[39m.\u001b[39m\u001b[39m.\u001b[39m, \u001b[39m2\u001b[39m:\u001b[39m4\u001b[39m] \u001b[39m=\u001b[39m (y[\u001b[39m.\u001b[39m\u001b[39m.\u001b[39m\u001b[39m.\u001b[39m, \u001b[39m2\u001b[39m:\u001b[39m4\u001b[39m] \u001b[39m*\u001b[39m \u001b[39m2\u001b[39m) \u001b[39m*\u001b[39m\u001b[39m*\u001b[39m \u001b[39m2\u001b[39m \u001b[39m*\u001b[39m \u001b[39mself\u001b[39m\u001b[39m.\u001b[39manchor_grid[i]  \u001b[39m# wh\u001b[39;00m\n\u001b[1;32m    203\u001b[0m \u001b[39melse\u001b[39;00m:\n",
      "File \u001b[0;32m~/anaconda3/envs/yolo/lib/python3.10/site-packages/nncf/torch/dynamic_graph/wrappers.py:108\u001b[0m, in \u001b[0;36mwrap_operator.<locals>.wrapped\u001b[0;34m(*args, **kwargs)\u001b[0m\n\u001b[1;32m    106\u001b[0m     result \u001b[39m=\u001b[39m ctx\u001b[39m.\u001b[39mtensor_cache\n\u001b[1;32m    107\u001b[0m \u001b[39melse\u001b[39;00m:\n\u001b[0;32m--> 108\u001b[0m     result \u001b[39m=\u001b[39m _execute_op(op_address, operator_info, operator, ctx, \u001b[39m*\u001b[39;49margs, \u001b[39m*\u001b[39;49m\u001b[39m*\u001b[39;49mkwargs)\n\u001b[1;32m    110\u001b[0m str_op_address \u001b[39m=\u001b[39m \u001b[39mstr\u001b[39m(op_address)\n\u001b[1;32m    111\u001b[0m \u001b[39mif\u001b[39;00m str_op_address \u001b[39min\u001b[39;00m ctx\u001b[39m.\u001b[39mend_node_name_of_skipped_block:\n",
      "File \u001b[0;32m~/anaconda3/envs/yolo/lib/python3.10/site-packages/nncf/torch/dynamic_graph/wrappers.py:191\u001b[0m, in \u001b[0;36m_execute_op\u001b[0;34m(op_address, operator_info, operator, ctx, *args, **kwargs)\u001b[0m\n\u001b[1;32m    189\u001b[0m \u001b[39melif\u001b[39;00m ctx\u001b[39m.\u001b[39mtrace_dynamic_graph:\n\u001b[1;32m    190\u001b[0m     tensor_metas \u001b[39m=\u001b[39m make_tensor_metas(processed_input)\n\u001b[0;32m--> 191\u001b[0m     node \u001b[39m=\u001b[39m ctx\u001b[39m.\u001b[39;49mfind_operator_node(tensor_metas, op_address)\n\u001b[1;32m    192\u001b[0m     \u001b[39mif\u001b[39;00m node \u001b[39mis\u001b[39;00m \u001b[39mNone\u001b[39;00m:\n\u001b[1;32m    193\u001b[0m         layer_attrs, ignored_algos \u001b[39m=\u001b[39m _collect_module_attrs_and_ignored_algorithms(ctx, op_name)\n",
      "File \u001b[0;32m~/anaconda3/envs/yolo/lib/python3.10/site-packages/nncf/torch/dynamic_graph/context.py:117\u001b[0m, in \u001b[0;36mTracingContext.find_operator_node\u001b[0;34m(self, tensor_metas, op_address)\u001b[0m\n\u001b[1;32m    114\u001b[0m \u001b[39mwith\u001b[39;00m \u001b[39mself\u001b[39m\u001b[39m.\u001b[39m_threading\u001b[39m.\u001b[39mcond:\n\u001b[1;32m    115\u001b[0m     \u001b[39mself\u001b[39m\u001b[39m.\u001b[39m_n_instances_searching_graph \u001b[39m+\u001b[39m\u001b[39m=\u001b[39m \u001b[39m1\u001b[39m\n\u001b[0;32m--> 117\u001b[0m node \u001b[39m=\u001b[39m \u001b[39mself\u001b[39;49m\u001b[39m.\u001b[39;49mgraph\u001b[39m.\u001b[39;49mfind_node(op_address, tensor_metas, \u001b[39mself\u001b[39;49m\u001b[39m.\u001b[39;49m_input_comparators_per_scope)\n\u001b[1;32m    119\u001b[0m \u001b[39mwith\u001b[39;00m \u001b[39mself\u001b[39m\u001b[39m.\u001b[39m_threading\u001b[39m.\u001b[39mcond:\n\u001b[1;32m    120\u001b[0m     \u001b[39mself\u001b[39m\u001b[39m.\u001b[39m_n_instances_searching_graph \u001b[39m-\u001b[39m\u001b[39m=\u001b[39m \u001b[39m1\u001b[39m\n",
      "File \u001b[0;32m~/anaconda3/envs/yolo/lib/python3.10/site-packages/nncf/torch/dynamic_graph/graph.py:524\u001b[0m, in \u001b[0;36mDynamicGraph.find_node\u001b[0;34m(self, op_address, tensor_metas, input_comparators_per_scope)\u001b[0m\n\u001b[1;32m    520\u001b[0m \u001b[39mdef\u001b[39;00m \u001b[39mfind_node\u001b[39m(\u001b[39mself\u001b[39m,\n\u001b[1;32m    521\u001b[0m               op_address: OperationAddress,\n\u001b[1;32m    522\u001b[0m               tensor_metas: List[TensorMeta],\n\u001b[1;32m    523\u001b[0m               input_comparators_per_scope: List[Tuple[TensorMetaComparator, List[\u001b[39mstr\u001b[39m]]]) \u001b[39m-\u001b[39m\u001b[39m>\u001b[39m DynamicGraphNode:\n\u001b[0;32m--> 524\u001b[0m     \u001b[39mreturn\u001b[39;00m \u001b[39mself\u001b[39;49m\u001b[39m.\u001b[39;49mmatch_manager\u001b[39m.\u001b[39;49mfind_node(op_address, tensor_metas, input_comparators_per_scope)\n",
      "File \u001b[0;32m~/anaconda3/envs/yolo/lib/python3.10/site-packages/nncf/torch/dynamic_graph/graph.py:466\u001b[0m, in \u001b[0;36mNodeManager.find_node\u001b[0;34m(self, op_address, tensor_metas, input_comparators_per_scope)\u001b[0m\n\u001b[1;32m    464\u001b[0m matcher \u001b[39m=\u001b[39m \u001b[39mself\u001b[39m\u001b[39m.\u001b[39mchoose_matcher(op_address)\n\u001b[1;32m    465\u001b[0m comparators \u001b[39m=\u001b[39m \u001b[39mself\u001b[39m\u001b[39m.\u001b[39mchoose_tm_comparators(op_address, input_comparators_per_scope)\n\u001b[0;32m--> 466\u001b[0m \u001b[39mreturn\u001b[39;00m matcher\u001b[39m.\u001b[39;49mfind_node(op_address, tensor_metas, comparators)\n",
      "File \u001b[0;32m~/anaconda3/envs/yolo/lib/python3.10/site-packages/nncf/torch/dynamic_graph/graph.py:296\u001b[0m, in \u001b[0;36mDefaultScopeNodeMatcher.find_node\u001b[0;34m(self, op_address, tensor_metas, tm_comparators)\u001b[0m\n\u001b[1;32m    288\u001b[0m \u001b[39mdef\u001b[39;00m \u001b[39mfind_node\u001b[39m(\u001b[39mself\u001b[39m, op_address: OperationAddress,\n\u001b[1;32m    289\u001b[0m               tensor_metas: List[TensorMeta],\n\u001b[1;32m    290\u001b[0m               tm_comparators: List[TensorMetaComparator]) \u001b[39m-\u001b[39m\u001b[39m>\u001b[39m DynamicGraphNode:\n\u001b[1;32m    291\u001b[0m     op_exec_context \u001b[39m=\u001b[39m OperationExecutionContext(op_address\u001b[39m.\u001b[39moperator_name,\n\u001b[1;32m    292\u001b[0m                                                 op_address\u001b[39m.\u001b[39mscope_in_model,\n\u001b[1;32m    293\u001b[0m                                                 op_address\u001b[39m.\u001b[39mcall_order,\n\u001b[1;32m    294\u001b[0m                                                 tensor_metas,\n\u001b[1;32m    295\u001b[0m                                                 tm_comparators\u001b[39m=\u001b[39mtm_comparators)\n\u001b[0;32m--> 296\u001b[0m     node_candidates \u001b[39m=\u001b[39m \u001b[39mself\u001b[39;49m\u001b[39m.\u001b[39;49m_find_nodes_with_matching_context_and_inputs(op_exec_context)\n\u001b[1;32m    297\u001b[0m     \u001b[39mif\u001b[39;00m \u001b[39mnot\u001b[39;00m node_candidates:\n\u001b[1;32m    298\u001b[0m         node_candidates \u001b[39m=\u001b[39m \u001b[39mself\u001b[39m\u001b[39m.\u001b[39m_find_nodes_with_matching_context_among_inputless(op_exec_context)\n",
      "File \u001b[0;32m~/anaconda3/envs/yolo/lib/python3.10/site-packages/nncf/torch/dynamic_graph/graph.py:218\u001b[0m, in \u001b[0;36mDefaultScopeNodeMatcher._find_nodes_with_matching_context_and_inputs\u001b[0;34m(self, op_exec_context)\u001b[0m\n\u001b[1;32m    216\u001b[0m     \u001b[39mcontinue\u001b[39;00m\n\u001b[1;32m    217\u001b[0m creator_id \u001b[39m=\u001b[39m info\u001b[39m.\u001b[39mcreator_id\n\u001b[0;32m--> 218\u001b[0m \u001b[39mfor\u001b[39;00m successor_node_key \u001b[39min\u001b[39;00m \u001b[39mself\u001b[39m\u001b[39m.\u001b[39m_nx_graph\u001b[39m.\u001b[39msuccessors(\u001b[39mself\u001b[39;49m\u001b[39m.\u001b[39;49m_node_id_to_key_dict[creator_id]):\n\u001b[1;32m    219\u001b[0m     successor_node \u001b[39m=\u001b[39m \u001b[39mself\u001b[39m\u001b[39m.\u001b[39m_nx_graph\u001b[39m.\u001b[39mnodes[successor_node_key]\n\u001b[1;32m    220\u001b[0m     \u001b[39mif\u001b[39;00m op_exec_context\u001b[39m.\u001b[39mmatches_saved_inputs_from(successor_node[DynamicGraph\u001b[39m.\u001b[39mOP_EXEC_CONTEXT_NODE_ATTR]):\n",
      "\u001b[0;31mKeyError\u001b[0m: 232"
     ]
    }
   ],
   "source": [
    "compression_ctrl, model = create_compressed_model(model, nncf_config)"
   ]
  },
  {
   "cell_type": "code",
   "execution_count": 2,
   "metadata": {},
   "outputs": [
    {
     "name": "stderr",
     "output_type": "stream",
     "text": [
      "/home/tran.duc.trungb/miniconda3/envs/nncf/lib/python3.9/site-packages/tqdm/auto.py:22: TqdmWarning: IProgress not found. Please update jupyter and ipywidgets. See https://ipywidgets.readthedocs.io/en/stable/user_install.html\n",
      "  from .autonotebook import tqdm as notebook_tqdm\n"
     ]
    }
   ],
   "source": [
    "import torch"
   ]
  },
  {
   "cell_type": "code",
   "execution_count": 4,
   "metadata": {},
   "outputs": [
    {
     "data": {
      "text/plain": [
       "tensor([[0.],\n",
       "        [0.],\n",
       "        [0.],\n",
       "        [0.],\n",
       "        [0.]])"
      ]
     },
     "execution_count": 4,
     "metadata": {},
     "output_type": "execute_result"
    }
   ],
   "source": [
    "torch.zeros(5, 1)"
   ]
  },
  {
   "cell_type": "code",
   "execution_count": null,
   "metadata": {},
   "outputs": [],
   "source": []
  }
 ],
 "metadata": {
  "kernelspec": {
   "display_name": "Python 3.9.15 ('nncf')",
   "language": "python",
   "name": "python3"
  },
  "language_info": {
   "codemirror_mode": {
    "name": "ipython",
    "version": 3
   },
   "file_extension": ".py",
   "mimetype": "text/x-python",
   "name": "python",
   "nbconvert_exporter": "python",
   "pygments_lexer": "ipython3",
   "version": "3.9.15"
  },
  "orig_nbformat": 4,
  "vscode": {
   "interpreter": {
    "hash": "67c51657b60553dd0fe454dc899839101eec57e7c5a61406a201e94e0394666d"
   }
  }
 },
 "nbformat": 4,
 "nbformat_minor": 2
}
