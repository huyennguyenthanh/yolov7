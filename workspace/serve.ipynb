{
 "cells": [
  {
   "cell_type": "code",
   "execution_count": 3,
   "metadata": {},
   "outputs": [],
   "source": [
    "import ovmsclient\n",
    "import cv2\n",
    "import torch\n",
    "import numpy as np\n"
   ]
  },
  {
   "cell_type": "code",
   "execution_count": 4,
   "metadata": {},
   "outputs": [],
   "source": [
    "# ! docker run -v $(pwd)/weights:/opt/weights -p 9000:9000 openvino/model_server:latest --model_path /opt/weights/yolov7 --model_name yolov7 --port 9000"
   ]
  },
  {
   "cell_type": "code",
   "execution_count": 5,
   "metadata": {},
   "outputs": [
    {
     "data": {
      "text/plain": [
       "<ovmsclient.tfs_compat.grpc.serving_client.GrpcClient at 0x7f577f7e79a0>"
      ]
     },
     "execution_count": 5,
     "metadata": {},
     "output_type": "execute_result"
    }
   ],
   "source": [
    "from ovmsclient import make_grpc_client\n",
    "\n",
    "client = make_grpc_client(\"localhost:9000\")\n",
    "client"
   ]
  },
  {
   "cell_type": "code",
   "execution_count": 6,
   "metadata": {},
   "outputs": [
    {
     "data": {
      "text/plain": [
       "dtype('float32')"
      ]
     },
     "execution_count": 6,
     "metadata": {},
     "output_type": "execute_result"
    }
   ],
   "source": [
    "from utils.datasets import letterbox\n",
    "def process_image(image_path,stride ):\n",
    "    image0 = cv2.imread(image_path)\n",
    "    image0.shape\n",
    "\n",
    "    image = letterbox(image0, 320, stride=stride)[0]\n",
    "    image = image[:, :, ::-1].transpose(2, 0, 1)  # BGR to RGB, to 3x416x416\n",
    "    image = np.ascontiguousarray(image)\n",
    "    image = torch.from_numpy(image).to(device).half()\n",
    "    image /= 255.0  # 0 - 255 to 0.0 - 1.0\n",
    "    image = image.unsqueeze(0)\n",
    "    image = image.detach().cpu().numpy()\n",
    "    image = image.astype(np.float32)\n",
    "    \n",
    "\n",
    "    return image, image0\n",
    "\n",
    "image_path = \"/home/nguyen.thanh.huyenb/yolov7/training_minicoco_dataset/test/000000001722.jpg\"\n",
    "image_path = \"/home/nguyen.thanh.huyenb/yolov7/training_minicoco_dataset/test/000000000086.jpg\"\n",
    "image_path = \"/home/nguyen.thanh.huyenb/yolov7/training_minicoco_dataset/test/000000000247.jpg\"\n",
    "image_path = \"/home/nguyen.thanh.huyenb/yolov7/training_minicoco_dataset/test/000000000471.jpg\"\n",
    "device = torch.device('cuda:0' if torch.cuda.is_available() else 'cpu')\n",
    "device\n",
    "image, image0 = process_image(image_path, stride=32)\n",
    "image.shape\n",
    "image.dtype"
   ]
  },
  {
   "cell_type": "code",
   "execution_count": 7,
   "metadata": {},
   "outputs": [],
   "source": [
    "output = client.predict({\"images\": image}, model_name=\"yolov7\")"
   ]
  },
  {
   "cell_type": "code",
   "execution_count": 9,
   "metadata": {},
   "outputs": [
    {
     "data": {
      "text/plain": [
       "(1, 4410, 13)"
      ]
     },
     "execution_count": 9,
     "metadata": {},
     "output_type": "execute_result"
    }
   ],
   "source": [
    "output[\"outputs\"].shape"
   ]
  },
  {
   "cell_type": "code",
   "execution_count": 11,
   "metadata": {},
   "outputs": [
    {
     "name": "stdout",
     "output_type": "stream",
     "text": [
      "torch.Size([1, 6])\n",
      "bus 0.96 \n"
     ]
    }
   ],
   "source": [
    "from utils.general import scale_coords, non_max_suppression\n",
    "def inference(preds, image, image0):\n",
    "    names = ['bicycle', 'car', 'motorcycle', 'airplane', 'bus', 'train', 'truck', 'boat']\n",
    "    preds = torch.Tensor(preds)\n",
    "    preds = non_max_suppression(preds) # list\n",
    "  \n",
    "    pred = preds[0]\n",
    "    print(pred.shape)\n",
    "    pred[:, :4] = scale_coords(image.shape[2:], pred[:, :4], image0.shape).round()\n",
    "\n",
    "    for *xyxy, conf, cls in reversed(pred):\n",
    "        # print(xyxy)\n",
    "        label = f'{names[int(cls)]} {conf:.2f} '\n",
    "        print(label)\n",
    "\n",
    "    return pred\n",
    "\n",
    "preds = inference(output[\"outputs\"], image, image0)"
   ]
  },
  {
   "cell_type": "code",
   "execution_count": 13,
   "metadata": {},
   "outputs": [
    {
     "name": "stdout",
     "output_type": "stream",
     "text": [
      "Save results in  /home/nguyen.thanh.huyenb/yolov7/visualize/test_onnx.jpg\n"
     ]
    },
    {
     "ename": "",
     "evalue": "",
     "output_type": "error",
     "traceback": [
      "\u001b[1;31mThe Kernel crashed while executing code in the the current cell or a previous cell. Please review the code in the cell(s) to identify a possible cause of the failure. Click <a href='https://aka.ms/vscodeJupyterKernelCrash'>here</a> for more info. View Jupyter <a href='command:jupyter.viewOutput'>log</a> for further details."
     ]
    }
   ],
   "source": [
    "def visualize(image, pred, filename=\"/home/nguyen.thanh.huyenb/yolov7/visualize/test_onnx.jpg\"):\n",
    "    names = ['bicycle', 'car', 'motorcycle', 'airplane', 'bus', 'train', 'truck', 'boat']\n",
    "    bboxes = []\n",
    "    cls = []\n",
    "\n",
    "    for p in pred:\n",
    "\n",
    "        bboxes.append(p[:4])\n",
    "        cls.append(p[5].item())\n",
    "       \n",
    "    \n",
    "    for bbox, c in zip(bboxes, cls):\n",
    "        x0, y0, x1, y1 = bbox[0], bbox[1],bbox[2], bbox[3]\n",
    "       \n",
    "        label = names[int(c)]\n",
    "            \n",
    "        x0, y0, x1, y1 = int(x0), int(y0), int(x1), int(y1)\n",
    "        image = cv2.rectangle(image, (int(x0), int(y0)), (int(x1), int(y1)), (255, 0, 0), 1)\n",
    "        image = cv2.putText(image, label, (x0 - 10, y0 - 10), cv2.FONT_HERSHEY_SIMPLEX,\n",
    "                0.5, (255, 0, 0), 1, cv2.LINE_AA)\n",
    "\n",
    "\n",
    "    cv2.imwrite(filename, image)\n",
    "    print(\"Save results in \", filename)\n",
    "        \n",
    "visualize(image0, preds)"
   ]
  },
  {
   "cell_type": "code",
   "execution_count": null,
   "metadata": {},
   "outputs": [],
   "source": []
  }
 ],
 "metadata": {
  "kernelspec": {
   "display_name": "Python 3.10.4 ('yolo')",
   "language": "python",
   "name": "python3"
  },
  "language_info": {
   "codemirror_mode": {
    "name": "ipython",
    "version": 3
   },
   "file_extension": ".py",
   "mimetype": "text/x-python",
   "name": "python",
   "nbconvert_exporter": "python",
   "pygments_lexer": "ipython3",
   "version": "3.10.4"
  },
  "orig_nbformat": 4,
  "vscode": {
   "interpreter": {
    "hash": "d86611e5f23ef28e65b8c0b55517fb070076b5d07ad16736adbe461f02fe8fea"
   }
  }
 },
 "nbformat": 4,
 "nbformat_minor": 2
}
