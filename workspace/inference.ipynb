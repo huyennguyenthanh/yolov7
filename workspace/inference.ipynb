{
 "cells": [
  {
   "cell_type": "code",
   "execution_count": 2,
   "metadata": {},
   "outputs": [],
   "source": [
    "import torch\n",
    "import torch.nn as nn\n",
    "import random\n",
    "import cv2\n",
    "import matplotlib.pyplot as plt\n",
    "import numpy as np\n",
    "import sys\n",
    "sys.path.insert(0, \"/home/nguyen.thanh.huyenb/yolov7/\")"
   ]
  },
  {
   "cell_type": "code",
   "execution_count": 3,
   "metadata": {},
   "outputs": [
    {
     "data": {
      "text/plain": [
       "device(type='cuda', index=0)"
      ]
     },
     "execution_count": 3,
     "metadata": {},
     "output_type": "execute_result"
    }
   ],
   "source": [
    "device = torch.device('cuda:0' if torch.cuda.is_available() else 'cpu')\n",
    "device"
   ]
  },
  {
   "cell_type": "code",
   "execution_count": 4,
   "metadata": {},
   "outputs": [
    {
     "name": "stdout",
     "output_type": "stream",
     "text": [
      "Fusing layers... \n",
      "RepConv.fuse_repvgg_block\n",
      "RepConv.fuse_repvgg_block\n",
      "RepConv.fuse_repvgg_block\n",
      "IDetect.fuse\n"
     ]
    },
    {
     "name": "stderr",
     "output_type": "stream",
     "text": [
      "/home/nguyen.thanh.huyenb/miniconda3/envs/yolo/lib/python3.10/site-packages/torch/functional.py:504: UserWarning: torch.meshgrid: in an upcoming release, it will be required to pass the indexing argument. (Triggered internally at ../aten/src/ATen/native/TensorShape.cpp:3483.)\n",
      "  return _VF.meshgrid(tensors, **kwargs)  # type: ignore[attr-defined]\n"
     ]
    },
    {
     "data": {
      "text/plain": [
       "Model(\n",
       "  (model): Sequential(\n",
       "    (0): Conv(\n",
       "      (conv): Conv2d(3, 32, kernel_size=(3, 3), stride=(1, 1), padding=(1, 1))\n",
       "      (act): SiLU(inplace=True)\n",
       "    )\n",
       "    (1): Conv(\n",
       "      (conv): Conv2d(32, 64, kernel_size=(3, 3), stride=(2, 2), padding=(1, 1))\n",
       "      (act): SiLU(inplace=True)\n",
       "    )\n",
       "    (2): Conv(\n",
       "      (conv): Conv2d(64, 64, kernel_size=(3, 3), stride=(1, 1), padding=(1, 1))\n",
       "      (act): SiLU(inplace=True)\n",
       "    )\n",
       "    (3): Conv(\n",
       "      (conv): Conv2d(64, 128, kernel_size=(3, 3), stride=(2, 2), padding=(1, 1))\n",
       "      (act): SiLU(inplace=True)\n",
       "    )\n",
       "    (4): Conv(\n",
       "      (conv): Conv2d(128, 64, kernel_size=(1, 1), stride=(1, 1))\n",
       "      (act): SiLU(inplace=True)\n",
       "    )\n",
       "    (5): Conv(\n",
       "      (conv): Conv2d(128, 64, kernel_size=(1, 1), stride=(1, 1))\n",
       "      (act): SiLU(inplace=True)\n",
       "    )\n",
       "    (6): Conv(\n",
       "      (conv): Conv2d(64, 64, kernel_size=(3, 3), stride=(1, 1), padding=(1, 1))\n",
       "      (act): SiLU(inplace=True)\n",
       "    )\n",
       "    (7): Conv(\n",
       "      (conv): Conv2d(64, 64, kernel_size=(3, 3), stride=(1, 1), padding=(1, 1))\n",
       "      (act): SiLU(inplace=True)\n",
       "    )\n",
       "    (8): Conv(\n",
       "      (conv): Conv2d(64, 64, kernel_size=(3, 3), stride=(1, 1), padding=(1, 1))\n",
       "      (act): SiLU(inplace=True)\n",
       "    )\n",
       "    (9): Conv(\n",
       "      (conv): Conv2d(64, 64, kernel_size=(3, 3), stride=(1, 1), padding=(1, 1))\n",
       "      (act): SiLU(inplace=True)\n",
       "    )\n",
       "    (10): Concat()\n",
       "    (11): Conv(\n",
       "      (conv): Conv2d(256, 256, kernel_size=(1, 1), stride=(1, 1))\n",
       "      (act): SiLU(inplace=True)\n",
       "    )\n",
       "    (12): MP(\n",
       "      (m): MaxPool2d(kernel_size=2, stride=2, padding=0, dilation=1, ceil_mode=False)\n",
       "    )\n",
       "    (13): Conv(\n",
       "      (conv): Conv2d(256, 128, kernel_size=(1, 1), stride=(1, 1))\n",
       "      (act): SiLU(inplace=True)\n",
       "    )\n",
       "    (14): Conv(\n",
       "      (conv): Conv2d(256, 128, kernel_size=(1, 1), stride=(1, 1))\n",
       "      (act): SiLU(inplace=True)\n",
       "    )\n",
       "    (15): Conv(\n",
       "      (conv): Conv2d(128, 128, kernel_size=(3, 3), stride=(2, 2), padding=(1, 1))\n",
       "      (act): SiLU(inplace=True)\n",
       "    )\n",
       "    (16): Concat()\n",
       "    (17): Conv(\n",
       "      (conv): Conv2d(256, 128, kernel_size=(1, 1), stride=(1, 1))\n",
       "      (act): SiLU(inplace=True)\n",
       "    )\n",
       "    (18): Conv(\n",
       "      (conv): Conv2d(256, 128, kernel_size=(1, 1), stride=(1, 1))\n",
       "      (act): SiLU(inplace=True)\n",
       "    )\n",
       "    (19): Conv(\n",
       "      (conv): Conv2d(128, 128, kernel_size=(3, 3), stride=(1, 1), padding=(1, 1))\n",
       "      (act): SiLU(inplace=True)\n",
       "    )\n",
       "    (20): Conv(\n",
       "      (conv): Conv2d(128, 128, kernel_size=(3, 3), stride=(1, 1), padding=(1, 1))\n",
       "      (act): SiLU(inplace=True)\n",
       "    )\n",
       "    (21): Conv(\n",
       "      (conv): Conv2d(128, 128, kernel_size=(3, 3), stride=(1, 1), padding=(1, 1))\n",
       "      (act): SiLU(inplace=True)\n",
       "    )\n",
       "    (22): Conv(\n",
       "      (conv): Conv2d(128, 128, kernel_size=(3, 3), stride=(1, 1), padding=(1, 1))\n",
       "      (act): SiLU(inplace=True)\n",
       "    )\n",
       "    (23): Concat()\n",
       "    (24): Conv(\n",
       "      (conv): Conv2d(512, 512, kernel_size=(1, 1), stride=(1, 1))\n",
       "      (act): SiLU(inplace=True)\n",
       "    )\n",
       "    (25): MP(\n",
       "      (m): MaxPool2d(kernel_size=2, stride=2, padding=0, dilation=1, ceil_mode=False)\n",
       "    )\n",
       "    (26): Conv(\n",
       "      (conv): Conv2d(512, 256, kernel_size=(1, 1), stride=(1, 1))\n",
       "      (act): SiLU(inplace=True)\n",
       "    )\n",
       "    (27): Conv(\n",
       "      (conv): Conv2d(512, 256, kernel_size=(1, 1), stride=(1, 1))\n",
       "      (act): SiLU(inplace=True)\n",
       "    )\n",
       "    (28): Conv(\n",
       "      (conv): Conv2d(256, 256, kernel_size=(3, 3), stride=(2, 2), padding=(1, 1))\n",
       "      (act): SiLU(inplace=True)\n",
       "    )\n",
       "    (29): Concat()\n",
       "    (30): Conv(\n",
       "      (conv): Conv2d(512, 256, kernel_size=(1, 1), stride=(1, 1))\n",
       "      (act): SiLU(inplace=True)\n",
       "    )\n",
       "    (31): Conv(\n",
       "      (conv): Conv2d(512, 256, kernel_size=(1, 1), stride=(1, 1))\n",
       "      (act): SiLU(inplace=True)\n",
       "    )\n",
       "    (32): Conv(\n",
       "      (conv): Conv2d(256, 256, kernel_size=(3, 3), stride=(1, 1), padding=(1, 1))\n",
       "      (act): SiLU(inplace=True)\n",
       "    )\n",
       "    (33): Conv(\n",
       "      (conv): Conv2d(256, 256, kernel_size=(3, 3), stride=(1, 1), padding=(1, 1))\n",
       "      (act): SiLU(inplace=True)\n",
       "    )\n",
       "    (34): Conv(\n",
       "      (conv): Conv2d(256, 256, kernel_size=(3, 3), stride=(1, 1), padding=(1, 1))\n",
       "      (act): SiLU(inplace=True)\n",
       "    )\n",
       "    (35): Conv(\n",
       "      (conv): Conv2d(256, 256, kernel_size=(3, 3), stride=(1, 1), padding=(1, 1))\n",
       "      (act): SiLU(inplace=True)\n",
       "    )\n",
       "    (36): Concat()\n",
       "    (37): Conv(\n",
       "      (conv): Conv2d(1024, 1024, kernel_size=(1, 1), stride=(1, 1))\n",
       "      (act): SiLU(inplace=True)\n",
       "    )\n",
       "    (38): MP(\n",
       "      (m): MaxPool2d(kernel_size=2, stride=2, padding=0, dilation=1, ceil_mode=False)\n",
       "    )\n",
       "    (39): Conv(\n",
       "      (conv): Conv2d(1024, 512, kernel_size=(1, 1), stride=(1, 1))\n",
       "      (act): SiLU(inplace=True)\n",
       "    )\n",
       "    (40): Conv(\n",
       "      (conv): Conv2d(1024, 512, kernel_size=(1, 1), stride=(1, 1))\n",
       "      (act): SiLU(inplace=True)\n",
       "    )\n",
       "    (41): Conv(\n",
       "      (conv): Conv2d(512, 512, kernel_size=(3, 3), stride=(2, 2), padding=(1, 1))\n",
       "      (act): SiLU(inplace=True)\n",
       "    )\n",
       "    (42): Concat()\n",
       "    (43): Conv(\n",
       "      (conv): Conv2d(1024, 256, kernel_size=(1, 1), stride=(1, 1))\n",
       "      (act): SiLU(inplace=True)\n",
       "    )\n",
       "    (44): Conv(\n",
       "      (conv): Conv2d(1024, 256, kernel_size=(1, 1), stride=(1, 1))\n",
       "      (act): SiLU(inplace=True)\n",
       "    )\n",
       "    (45): Conv(\n",
       "      (conv): Conv2d(256, 256, kernel_size=(3, 3), stride=(1, 1), padding=(1, 1))\n",
       "      (act): SiLU(inplace=True)\n",
       "    )\n",
       "    (46): Conv(\n",
       "      (conv): Conv2d(256, 256, kernel_size=(3, 3), stride=(1, 1), padding=(1, 1))\n",
       "      (act): SiLU(inplace=True)\n",
       "    )\n",
       "    (47): Conv(\n",
       "      (conv): Conv2d(256, 256, kernel_size=(3, 3), stride=(1, 1), padding=(1, 1))\n",
       "      (act): SiLU(inplace=True)\n",
       "    )\n",
       "    (48): Conv(\n",
       "      (conv): Conv2d(256, 256, kernel_size=(3, 3), stride=(1, 1), padding=(1, 1))\n",
       "      (act): SiLU(inplace=True)\n",
       "    )\n",
       "    (49): Concat()\n",
       "    (50): Conv(\n",
       "      (conv): Conv2d(1024, 1024, kernel_size=(1, 1), stride=(1, 1))\n",
       "      (act): SiLU(inplace=True)\n",
       "    )\n",
       "    (51): SPPCSPC(\n",
       "      (cv1): Conv(\n",
       "        (conv): Conv2d(1024, 512, kernel_size=(1, 1), stride=(1, 1))\n",
       "        (act): SiLU(inplace=True)\n",
       "      )\n",
       "      (cv2): Conv(\n",
       "        (conv): Conv2d(1024, 512, kernel_size=(1, 1), stride=(1, 1))\n",
       "        (act): SiLU(inplace=True)\n",
       "      )\n",
       "      (cv3): Conv(\n",
       "        (conv): Conv2d(512, 512, kernel_size=(3, 3), stride=(1, 1), padding=(1, 1))\n",
       "        (act): SiLU(inplace=True)\n",
       "      )\n",
       "      (cv4): Conv(\n",
       "        (conv): Conv2d(512, 512, kernel_size=(1, 1), stride=(1, 1))\n",
       "        (act): SiLU(inplace=True)\n",
       "      )\n",
       "      (m): ModuleList(\n",
       "        (0): MaxPool2d(kernel_size=5, stride=1, padding=2, dilation=1, ceil_mode=False)\n",
       "        (1): MaxPool2d(kernel_size=9, stride=1, padding=4, dilation=1, ceil_mode=False)\n",
       "        (2): MaxPool2d(kernel_size=13, stride=1, padding=6, dilation=1, ceil_mode=False)\n",
       "      )\n",
       "      (cv5): Conv(\n",
       "        (conv): Conv2d(2048, 512, kernel_size=(1, 1), stride=(1, 1))\n",
       "        (act): SiLU(inplace=True)\n",
       "      )\n",
       "      (cv6): Conv(\n",
       "        (conv): Conv2d(512, 512, kernel_size=(3, 3), stride=(1, 1), padding=(1, 1))\n",
       "        (act): SiLU(inplace=True)\n",
       "      )\n",
       "      (cv7): Conv(\n",
       "        (conv): Conv2d(1024, 512, kernel_size=(1, 1), stride=(1, 1))\n",
       "        (act): SiLU(inplace=True)\n",
       "      )\n",
       "    )\n",
       "    (52): Conv(\n",
       "      (conv): Conv2d(512, 256, kernel_size=(1, 1), stride=(1, 1))\n",
       "      (act): SiLU(inplace=True)\n",
       "    )\n",
       "    (53): Upsample(scale_factor=2.0, mode='nearest')\n",
       "    (54): Conv(\n",
       "      (conv): Conv2d(1024, 256, kernel_size=(1, 1), stride=(1, 1))\n",
       "      (act): SiLU(inplace=True)\n",
       "    )\n",
       "    (55): Concat()\n",
       "    (56): Conv(\n",
       "      (conv): Conv2d(512, 256, kernel_size=(1, 1), stride=(1, 1))\n",
       "      (act): SiLU(inplace=True)\n",
       "    )\n",
       "    (57): Conv(\n",
       "      (conv): Conv2d(512, 256, kernel_size=(1, 1), stride=(1, 1))\n",
       "      (act): SiLU(inplace=True)\n",
       "    )\n",
       "    (58): Conv(\n",
       "      (conv): Conv2d(256, 128, kernel_size=(3, 3), stride=(1, 1), padding=(1, 1))\n",
       "      (act): SiLU(inplace=True)\n",
       "    )\n",
       "    (59): Conv(\n",
       "      (conv): Conv2d(128, 128, kernel_size=(3, 3), stride=(1, 1), padding=(1, 1))\n",
       "      (act): SiLU(inplace=True)\n",
       "    )\n",
       "    (60): Conv(\n",
       "      (conv): Conv2d(128, 128, kernel_size=(3, 3), stride=(1, 1), padding=(1, 1))\n",
       "      (act): SiLU(inplace=True)\n",
       "    )\n",
       "    (61): Conv(\n",
       "      (conv): Conv2d(128, 128, kernel_size=(3, 3), stride=(1, 1), padding=(1, 1))\n",
       "      (act): SiLU(inplace=True)\n",
       "    )\n",
       "    (62): Concat()\n",
       "    (63): Conv(\n",
       "      (conv): Conv2d(1024, 256, kernel_size=(1, 1), stride=(1, 1))\n",
       "      (act): SiLU(inplace=True)\n",
       "    )\n",
       "    (64): Conv(\n",
       "      (conv): Conv2d(256, 128, kernel_size=(1, 1), stride=(1, 1))\n",
       "      (act): SiLU(inplace=True)\n",
       "    )\n",
       "    (65): Upsample(scale_factor=2.0, mode='nearest')\n",
       "    (66): Conv(\n",
       "      (conv): Conv2d(512, 128, kernel_size=(1, 1), stride=(1, 1))\n",
       "      (act): SiLU(inplace=True)\n",
       "    )\n",
       "    (67): Concat()\n",
       "    (68): Conv(\n",
       "      (conv): Conv2d(256, 128, kernel_size=(1, 1), stride=(1, 1))\n",
       "      (act): SiLU(inplace=True)\n",
       "    )\n",
       "    (69): Conv(\n",
       "      (conv): Conv2d(256, 128, kernel_size=(1, 1), stride=(1, 1))\n",
       "      (act): SiLU(inplace=True)\n",
       "    )\n",
       "    (70): Conv(\n",
       "      (conv): Conv2d(128, 64, kernel_size=(3, 3), stride=(1, 1), padding=(1, 1))\n",
       "      (act): SiLU(inplace=True)\n",
       "    )\n",
       "    (71): Conv(\n",
       "      (conv): Conv2d(64, 64, kernel_size=(3, 3), stride=(1, 1), padding=(1, 1))\n",
       "      (act): SiLU(inplace=True)\n",
       "    )\n",
       "    (72): Conv(\n",
       "      (conv): Conv2d(64, 64, kernel_size=(3, 3), stride=(1, 1), padding=(1, 1))\n",
       "      (act): SiLU(inplace=True)\n",
       "    )\n",
       "    (73): Conv(\n",
       "      (conv): Conv2d(64, 64, kernel_size=(3, 3), stride=(1, 1), padding=(1, 1))\n",
       "      (act): SiLU(inplace=True)\n",
       "    )\n",
       "    (74): Concat()\n",
       "    (75): Conv(\n",
       "      (conv): Conv2d(512, 128, kernel_size=(1, 1), stride=(1, 1))\n",
       "      (act): SiLU(inplace=True)\n",
       "    )\n",
       "    (76): MP(\n",
       "      (m): MaxPool2d(kernel_size=2, stride=2, padding=0, dilation=1, ceil_mode=False)\n",
       "    )\n",
       "    (77): Conv(\n",
       "      (conv): Conv2d(128, 128, kernel_size=(1, 1), stride=(1, 1))\n",
       "      (act): SiLU(inplace=True)\n",
       "    )\n",
       "    (78): Conv(\n",
       "      (conv): Conv2d(128, 128, kernel_size=(1, 1), stride=(1, 1))\n",
       "      (act): SiLU(inplace=True)\n",
       "    )\n",
       "    (79): Conv(\n",
       "      (conv): Conv2d(128, 128, kernel_size=(3, 3), stride=(2, 2), padding=(1, 1))\n",
       "      (act): SiLU(inplace=True)\n",
       "    )\n",
       "    (80): Concat()\n",
       "    (81): Conv(\n",
       "      (conv): Conv2d(512, 256, kernel_size=(1, 1), stride=(1, 1))\n",
       "      (act): SiLU(inplace=True)\n",
       "    )\n",
       "    (82): Conv(\n",
       "      (conv): Conv2d(512, 256, kernel_size=(1, 1), stride=(1, 1))\n",
       "      (act): SiLU(inplace=True)\n",
       "    )\n",
       "    (83): Conv(\n",
       "      (conv): Conv2d(256, 128, kernel_size=(3, 3), stride=(1, 1), padding=(1, 1))\n",
       "      (act): SiLU(inplace=True)\n",
       "    )\n",
       "    (84): Conv(\n",
       "      (conv): Conv2d(128, 128, kernel_size=(3, 3), stride=(1, 1), padding=(1, 1))\n",
       "      (act): SiLU(inplace=True)\n",
       "    )\n",
       "    (85): Conv(\n",
       "      (conv): Conv2d(128, 128, kernel_size=(3, 3), stride=(1, 1), padding=(1, 1))\n",
       "      (act): SiLU(inplace=True)\n",
       "    )\n",
       "    (86): Conv(\n",
       "      (conv): Conv2d(128, 128, kernel_size=(3, 3), stride=(1, 1), padding=(1, 1))\n",
       "      (act): SiLU(inplace=True)\n",
       "    )\n",
       "    (87): Concat()\n",
       "    (88): Conv(\n",
       "      (conv): Conv2d(1024, 256, kernel_size=(1, 1), stride=(1, 1))\n",
       "      (act): SiLU(inplace=True)\n",
       "    )\n",
       "    (89): MP(\n",
       "      (m): MaxPool2d(kernel_size=2, stride=2, padding=0, dilation=1, ceil_mode=False)\n",
       "    )\n",
       "    (90): Conv(\n",
       "      (conv): Conv2d(256, 256, kernel_size=(1, 1), stride=(1, 1))\n",
       "      (act): SiLU(inplace=True)\n",
       "    )\n",
       "    (91): Conv(\n",
       "      (conv): Conv2d(256, 256, kernel_size=(1, 1), stride=(1, 1))\n",
       "      (act): SiLU(inplace=True)\n",
       "    )\n",
       "    (92): Conv(\n",
       "      (conv): Conv2d(256, 256, kernel_size=(3, 3), stride=(2, 2), padding=(1, 1))\n",
       "      (act): SiLU(inplace=True)\n",
       "    )\n",
       "    (93): Concat()\n",
       "    (94): Conv(\n",
       "      (conv): Conv2d(1024, 512, kernel_size=(1, 1), stride=(1, 1))\n",
       "      (act): SiLU(inplace=True)\n",
       "    )\n",
       "    (95): Conv(\n",
       "      (conv): Conv2d(1024, 512, kernel_size=(1, 1), stride=(1, 1))\n",
       "      (act): SiLU(inplace=True)\n",
       "    )\n",
       "    (96): Conv(\n",
       "      (conv): Conv2d(512, 256, kernel_size=(3, 3), stride=(1, 1), padding=(1, 1))\n",
       "      (act): SiLU(inplace=True)\n",
       "    )\n",
       "    (97): Conv(\n",
       "      (conv): Conv2d(256, 256, kernel_size=(3, 3), stride=(1, 1), padding=(1, 1))\n",
       "      (act): SiLU(inplace=True)\n",
       "    )\n",
       "    (98): Conv(\n",
       "      (conv): Conv2d(256, 256, kernel_size=(3, 3), stride=(1, 1), padding=(1, 1))\n",
       "      (act): SiLU(inplace=True)\n",
       "    )\n",
       "    (99): Conv(\n",
       "      (conv): Conv2d(256, 256, kernel_size=(3, 3), stride=(1, 1), padding=(1, 1))\n",
       "      (act): SiLU(inplace=True)\n",
       "    )\n",
       "    (100): Concat()\n",
       "    (101): Conv(\n",
       "      (conv): Conv2d(2048, 512, kernel_size=(1, 1), stride=(1, 1))\n",
       "      (act): SiLU(inplace=True)\n",
       "    )\n",
       "    (102): RepConv(\n",
       "      (act): SiLU(inplace=True)\n",
       "      (rbr_reparam): Conv2d(128, 256, kernel_size=(3, 3), stride=(1, 1), padding=(1, 1))\n",
       "    )\n",
       "    (103): RepConv(\n",
       "      (act): SiLU(inplace=True)\n",
       "      (rbr_reparam): Conv2d(256, 512, kernel_size=(3, 3), stride=(1, 1), padding=(1, 1))\n",
       "    )\n",
       "    (104): RepConv(\n",
       "      (act): SiLU(inplace=True)\n",
       "      (rbr_reparam): Conv2d(512, 1024, kernel_size=(3, 3), stride=(1, 1), padding=(1, 1))\n",
       "    )\n",
       "    (105): IDetect(\n",
       "      (m): ModuleList(\n",
       "        (0): Conv2d(256, 18, kernel_size=(1, 1), stride=(1, 1))\n",
       "        (1): Conv2d(512, 18, kernel_size=(1, 1), stride=(1, 1))\n",
       "        (2): Conv2d(1024, 18, kernel_size=(1, 1), stride=(1, 1))\n",
       "      )\n",
       "      (ia): ModuleList(\n",
       "        (0-2): 3 x ImplicitA()\n",
       "      )\n",
       "      (im): ModuleList(\n",
       "        (0-2): 3 x ImplicitM()\n",
       "      )\n",
       "    )\n",
       "  )\n",
       ")"
      ]
     },
     "execution_count": 4,
     "metadata": {},
     "output_type": "execute_result"
    }
   ],
   "source": [
    "from models.experimental import attempt_load\n",
    "weights = \"/home/nguyen.thanh.huyenb/yolov7/YOLOv7_test_semi/base_weights/epoch_03.pt\"\n",
    "weights = \"/home/nguyen.thanh.huyenb/yolov7/YOLOv7/fold_2_percent_10_semi2/weights/epoch_009.pt\"\n",
    "model = attempt_load(weights, map_location=device) \n",
    "model.eval()"
   ]
  },
  {
   "cell_type": "code",
   "execution_count": 5,
   "metadata": {},
   "outputs": [
    {
     "data": {
      "text/plain": [
       "(['polyp'], [[100, 160, 42]])"
      ]
     },
     "execution_count": 5,
     "metadata": {},
     "output_type": "execute_result"
    }
   ],
   "source": [
    "stride = int(model.stride.max()) \n",
    "stride\n",
    "names = model.module.names if hasattr(model, 'module') else model.names\n",
    "colors = [[random.randint(0, 255) for _ in range(3)] for _ in names]\n",
    "names, colors"
   ]
  },
  {
   "cell_type": "code",
   "execution_count": 6,
   "metadata": {},
   "outputs": [
    {
     "data": {
      "text/plain": [
       "1.0"
      ]
     },
     "execution_count": 6,
     "metadata": {},
     "output_type": "execute_result"
    }
   ],
   "source": [
    "model.gr"
   ]
  },
  {
   "attachments": {},
   "cell_type": "markdown",
   "metadata": {},
   "source": [
    "## Load image"
   ]
  },
  {
   "cell_type": "code",
   "execution_count": 7,
   "metadata": {},
   "outputs": [],
   "source": [
    "from utils.datasets import letterbox\n",
    "from utils.general import scale_coords, non_max_suppression\n",
    "from utils.semi_psuedo_label_process import non_max_suppression_pseudo_decouple, non_max_suppression_pseudo_decouple_multi_view, xyxy2xywhn\n"
   ]
  },
  {
   "cell_type": "code",
   "execution_count": 8,
   "metadata": {},
   "outputs": [],
   "source": [
    "# 3_244, 160,\n",
    "paths = ['/home/nguyen.thanh.huyenb/PolypsSet/PolypsSet/train2019/images/12303.jpg', '/home/nguyen.thanh.huyenb/PolypsSet/PolypsSet/train2019/images/22037.jpg', '/home/nguyen.thanh.huyenb/PolypsSet/PolypsSet/train2019/images/16006.jpg', '/home/nguyen.thanh.huyenb/PolypsSet/PolypsSet/train2019/images/13021.jpg', '/home/nguyen.thanh.huyenb/PolypsSet/PolypsSet/train2019/images/22438.jpg', '/home/nguyen.thanh.huyenb/PolypsSet/PolypsSet/train2019/images/21530.jpg', '/home/nguyen.thanh.huyenb/PolypsSet/PolypsSet/train2019/images/5966.jpg', '/home/nguyen.thanh.huyenb/PolypsSet/PolypsSet/train2019/images/11259.jpg', '/home/nguyen.thanh.huyenb/PolypsSet/PolypsSet/train2019/images/19036.jpg', '/home/nguyen.thanh.huyenb/PolypsSet/PolypsSet/train2019/images/14941.jpg', '/home/nguyen.thanh.huyenb/PolypsSet/PolypsSet/train2019/images/14393.jpg', '/home/nguyen.thanh.huyenb/PolypsSet/PolypsSet/train2019/images/2714.jpg', '/home/nguyen.thanh.huyenb/PolypsSet/PolypsSet/train2019/images/8063.jpg', '/home/nguyen.thanh.huyenb/PolypsSet/PolypsSet/train2019/images/2500.jpg', '/home/nguyen.thanh.huyenb/PolypsSet/PolypsSet/train2019/images/28623.jpg', '/home/nguyen.thanh.huyenb/PolypsSet/PolypsSet/train2019/images/1564.jpg']"
   ]
  },
  {
   "cell_type": "code",
   "execution_count": 9,
   "metadata": {},
   "outputs": [
    {
     "name": "stdout",
     "output_type": "stream",
     "text": [
      "/home/nguyen.thanh.huyenb/PolypsSet/PolypsSet/valid/images/161.jpg\n"
     ]
    },
    {
     "data": {
      "text/plain": [
       "array([[[0, 0, 0],\n",
       "        [0, 0, 0],\n",
       "        [0, 0, 0],\n",
       "        ...,\n",
       "        [0, 0, 0],\n",
       "        [0, 0, 0],\n",
       "        [0, 0, 0]],\n",
       "\n",
       "       [[0, 0, 0],\n",
       "        [0, 0, 0],\n",
       "        [0, 0, 0],\n",
       "        ...,\n",
       "        [0, 0, 0],\n",
       "        [0, 0, 0],\n",
       "        [0, 0, 0]],\n",
       "\n",
       "       [[0, 0, 0],\n",
       "        [0, 0, 0],\n",
       "        [0, 0, 0],\n",
       "        ...,\n",
       "        [0, 0, 0],\n",
       "        [0, 0, 0],\n",
       "        [0, 0, 0]],\n",
       "\n",
       "       ...,\n",
       "\n",
       "       [[0, 0, 0],\n",
       "        [0, 0, 0],\n",
       "        [0, 0, 0],\n",
       "        ...,\n",
       "        [0, 0, 0],\n",
       "        [0, 0, 0],\n",
       "        [0, 0, 0]],\n",
       "\n",
       "       [[0, 0, 0],\n",
       "        [0, 0, 0],\n",
       "        [0, 0, 0],\n",
       "        ...,\n",
       "        [0, 0, 0],\n",
       "        [0, 0, 0],\n",
       "        [0, 0, 0]],\n",
       "\n",
       "       [[0, 0, 0],\n",
       "        [0, 0, 0],\n",
       "        [0, 0, 0],\n",
       "        ...,\n",
       "        [0, 0, 0],\n",
       "        [0, 0, 0],\n",
       "        [0, 0, 0]]], dtype=uint8)"
      ]
     },
     "execution_count": 9,
     "metadata": {},
     "output_type": "execute_result"
    }
   ],
   "source": [
    "image_path = \"/home/nguyen.thanh.huyenb/PolypsSet/PolypsSet/valid/images/161.jpg\"\n",
    "# image_path = path[3]\n",
    "# image_path = \"/home/nguyen.thanh.huyenb/PolypsSet/PolypsSet/train2019/images/1564.jpg\"\n",
    "# image_path = paths[-1]\n",
    "print(image_path)\n",
    "image0 = cv2.imread(image_path)\n",
    "image0.shape\n",
    "image0"
   ]
  },
  {
   "cell_type": "code",
   "execution_count": 10,
   "metadata": {},
   "outputs": [
    {
     "data": {
      "text/plain": [
       "(3, 480, 640)"
      ]
     },
     "execution_count": 10,
     "metadata": {},
     "output_type": "execute_result"
    }
   ],
   "source": [
    "image = letterbox(image0, (640, 640), stride=stride)[0]\n",
    "image = image[:, :, ::-1].transpose(2, 0, 1)  # BGR to RGB, to 3x416x416\n",
    "image = np.ascontiguousarray(image)\n",
    "image.shape"
   ]
  },
  {
   "cell_type": "code",
   "execution_count": 11,
   "metadata": {},
   "outputs": [
    {
     "data": {
      "text/plain": [
       "tensor([[[[0., 0., 0.,  ..., 0., 0., 0.],\n",
       "          [0., 0., 0.,  ..., 0., 0., 0.],\n",
       "          [0., 0., 0.,  ..., 0., 0., 0.],\n",
       "          ...,\n",
       "          [0., 0., 0.,  ..., 0., 0., 0.],\n",
       "          [0., 0., 0.,  ..., 0., 0., 0.],\n",
       "          [0., 0., 0.,  ..., 0., 0., 0.]],\n",
       "\n",
       "         [[0., 0., 0.,  ..., 0., 0., 0.],\n",
       "          [0., 0., 0.,  ..., 0., 0., 0.],\n",
       "          [0., 0., 0.,  ..., 0., 0., 0.],\n",
       "          ...,\n",
       "          [0., 0., 0.,  ..., 0., 0., 0.],\n",
       "          [0., 0., 0.,  ..., 0., 0., 0.],\n",
       "          [0., 0., 0.,  ..., 0., 0., 0.]],\n",
       "\n",
       "         [[0., 0., 0.,  ..., 0., 0., 0.],\n",
       "          [0., 0., 0.,  ..., 0., 0., 0.],\n",
       "          [0., 0., 0.,  ..., 0., 0., 0.],\n",
       "          ...,\n",
       "          [0., 0., 0.,  ..., 0., 0., 0.],\n",
       "          [0., 0., 0.,  ..., 0., 0., 0.],\n",
       "          [0., 0., 0.,  ..., 0., 0., 0.]]]], device='cuda:0')"
      ]
     },
     "execution_count": 11,
     "metadata": {},
     "output_type": "execute_result"
    }
   ],
   "source": [
    "image = torch.from_numpy(image).to(device).float()\n",
    "image /= 255.0\n",
    "image = image.unsqueeze(0)\n",
    "image"
   ]
  },
  {
   "cell_type": "code",
   "execution_count": 12,
   "metadata": {},
   "outputs": [
    {
     "data": {
      "text/plain": [
       "torch.Size([1, 18900, 6])"
      ]
     },
     "execution_count": 12,
     "metadata": {},
     "output_type": "execute_result"
    }
   ],
   "source": [
    "with torch.no_grad():   # Calculating gradients would cause a GPU memory leak\n",
    "    out = model(image)\n",
    "out[0].shape"
   ]
  },
  {
   "cell_type": "code",
   "execution_count": 13,
   "metadata": {},
   "outputs": [
    {
     "data": {
      "text/plain": [
       "[tensor([[293.34180, 362.02612, 379.13074, 421.78699,   0.83138,   0.00000]], device='cuda:0')]"
      ]
     },
     "execution_count": 13,
     "metadata": {},
     "output_type": "execute_result"
    }
   ],
   "source": [
    "pred = non_max_suppression(out[0], conf_thres=0.01)\n",
    "pred"
   ]
  },
  {
   "cell_type": "code",
   "execution_count": 14,
   "metadata": {},
   "outputs": [
    {
     "data": {
      "text/plain": [
       "tensor([[352.00000, 434.00000, 455.00000, 506.00000,   0.83138,   0.00000]], device='cuda:0')"
      ]
     },
     "execution_count": 14,
     "metadata": {},
     "output_type": "execute_result"
    }
   ],
   "source": [
    "det = pred[0]\n",
    "det[:, :4] = scale_coords(image.shape[2:], det[:, :4], image0.shape).round()\n",
    "det"
   ]
  },
  {
   "cell_type": "code",
   "execution_count": 15,
   "metadata": {},
   "outputs": [
    {
     "name": "stdout",
     "output_type": "stream",
     "text": [
      "polyp 0.83\n"
     ]
    }
   ],
   "source": [
    "for *xyxy, conf, cls in reversed(det):\n",
    "    # print(xyxy)\n",
    "    label = f'{names[int(cls)]} {conf:.2f}'\n",
    "    print(label)"
   ]
  },
  {
   "cell_type": "code",
   "execution_count": 16,
   "metadata": {},
   "outputs": [
    {
     "data": {
      "text/plain": [
       "True"
      ]
     },
     "execution_count": 16,
     "metadata": {},
     "output_type": "execute_result"
    }
   ],
   "source": [
    "image_path = image_path\n",
    "label_dict = {\n",
    "    0: \"polyp\"\n",
    "}\n",
    "image0 = cv2.imread(image_path)\n",
    "for *xyxy, conf, cls in reversed(det):\n",
    "    # Convert xyxy format to xywh format\n",
    "    xyxy = [int(i.cpu()) for i in xyxy]\n",
    "    x, y, w, h =  xyxy[0], xyxy[1], xyxy[2]-xyxy[0], xyxy[3]-xyxy[1]\n",
    "\n",
    "    # Draw the bounding box on the image\n",
    "    image0 = cv2.rectangle(image0, (x, y), (x+w, y+h), (0, 255, 0), 2)\n",
    "    text = f\"{names[int(cls)]}: {conf:.2f}\"\n",
    "    image0 = cv2.putText(image0, text, (x, y-5), cv2.FONT_HERSHEY_SIMPLEX, 0.5, (0, 255, 0), 2)\n",
    "image0.shape\n",
    "cv2.imwrite(\"out.png\", image0)"
   ]
  },
  {
   "cell_type": "code",
   "execution_count": 17,
   "metadata": {},
   "outputs": [
    {
     "data": {
      "text/plain": [
       "True"
      ]
     },
     "execution_count": 17,
     "metadata": {},
     "output_type": "execute_result"
    }
   ],
   "source": [
    "cv2.imwrite(\"out.png\", image0)"
   ]
  },
  {
   "attachments": {},
   "cell_type": "markdown",
   "metadata": {},
   "source": [
    "## Dataloader"
   ]
  },
  {
   "cell_type": "code",
   "execution_count": 18,
   "metadata": {},
   "outputs": [],
   "source": [
    "from utils.datasets import create_dataloader\n",
    "from utils.datasets import LoadImagesAndLabels\n",
    "from utils.datasets_semi import LoadImagesAndLabelsSemi\n",
    "from utils.plots import plot_images\n",
    "import yaml\n",
    "from utils.general import check_img_size\n",
    "import os"
   ]
  },
  {
   "cell_type": "code",
   "execution_count": 19,
   "metadata": {},
   "outputs": [
    {
     "data": {
      "text/plain": [
       "(640, 640)"
      ]
     },
     "execution_count": 19,
     "metadata": {},
     "output_type": "execute_result"
    }
   ],
   "source": [
    "path = \"/home/nguyen.thanh.huyenb/PolypsSet/Semi_PolypsSet/semi_1_labels_fold_2_percent_10/train2019.2@10-unlabeled.json\"\n",
    "img_size = [640,640]\n",
    "rect = False\n",
    "batch_size = 16\n",
    "augment=True\n",
    "cache=False\n",
    "pad=0.0\n",
    "rect=False\n",
    "stride=32             \n",
    "rank=-1\n",
    "world_size=1\n",
    "workers=8\n",
    "image_weights=False\n",
    "quad=False\n",
    "prefix=''\n",
    "gs = stride = 32\n",
    "imgsz,imgsz_test = [check_img_size(x, gs) for x in img_size]\n",
    "imgsz,imgsz_test"
   ]
  },
  {
   "cell_type": "code",
   "execution_count": 20,
   "metadata": {},
   "outputs": [],
   "source": [
    "def load_hyperparameter(hyp_path):\n",
    "        \"\"\"Hyperparameters\"\"\"\n",
    "        with open(hyp_path) as f:\n",
    "            hyp = yaml.load(f, Loader=yaml.SafeLoader)\n",
    "        return hyp\n",
    "hyp = load_hyperparameter(\"/home/nguyen.thanh.huyenb/yolov7/data/hyp.scratch.p5.yaml\")\n",
    "hyp[\"mosaic\"] = 0"
   ]
  },
  {
   "cell_type": "code",
   "execution_count": 21,
   "metadata": {},
   "outputs": [
    {
     "name": "stdout",
     "output_type": "stream",
     "text": [
      "loading annotations into memory...\n",
      "Done (t=0.08s)\n",
      "creating index...\n",
      "index created!\n",
      "/home/nguyen.thanh.huyenb/PolypsSet/PolypsSet/train2019/labels/1.txt\n",
      "/home/nguyen.thanh.huyenb/PolypsSet/Semi_PolypsSet/semi_1_labels_fold_2_percent_10/train2019.2@10-unlabeled.json\n",
      "/home/nguyen.thanh.huyenb/PolypsSet/Semi_PolypsSet/semi_1_labels_fold_2_percent_10/train2019.2@10-unlabeled.cache\n"
     ]
    },
    {
     "name": "stderr",
     "output_type": "stream",
     "text": [
      "Scanning '/home/nguyen.thanh.huyenb/PolypsSet/Semi_PolypsSet/semi_1_labels_fold_2_percent_10/train2019.2@10-unlabeled.cache' images and labels... 26015 found, 0 missing, 1540 empty, 0 corrupted: 100%|██████████| 26015/26015 [00:00<?, ?it/s]\n"
     ]
    }
   ],
   "source": [
    "dataset = LoadImagesAndLabelsSemi(path, imgsz, batch_size,\n",
    "                                      augment=True,  # augment images\n",
    "                                      hyp=hyp,  # augmentation hyperparameters\n",
    "                                      rect=rect,  # rectangular training\n",
    "                                      cache_images=cache,\n",
    "                                      single_cls=True,\n",
    "                                      stride=int(stride),\n",
    "                                      pad=pad,\n",
    "                                      mosaic=True,\n",
    "                                      image_weights=image_weights,\n",
    "                                      prefix=prefix)"
   ]
  },
  {
   "cell_type": "code",
   "execution_count": 22,
   "metadata": {},
   "outputs": [],
   "source": [
    "from utils.datasets import InfiniteDataLoader\n",
    "\n",
    "batch_size = min(batch_size, len(dataset))\n",
    "nw = min([os.cpu_count() // world_size, batch_size if batch_size > 1 else 0, workers])  # number of workers\n",
    "sampler = torch.utils.data.distributed.DistributedSampler(dataset) if rank != -1 else None\n",
    "loader = torch.utils.data.DataLoader if image_weights else InfiniteDataLoader\n",
    "# Use torch.utils.data.DataLoader() if dataset.properties will update during training else InfiniteDataLoader()\n",
    "dataloader = loader(dataset,\n",
    "                    batch_size=batch_size,\n",
    "                    num_workers=nw,\n",
    "                    sampler=sampler,\n",
    "                    pin_memory=True,\n",
    "                    shuffle=True,\n",
    "                    collate_fn=LoadImagesAndLabelsSemi.collate_fn4 if quad else LoadImagesAndLabelsSemi.collate_fn)"
   ]
  },
  {
   "cell_type": "code",
   "execution_count": 23,
   "metadata": {},
   "outputs": [
    {
     "data": {
      "text/plain": [
       "(tensor([[ 0.00000,  0.00000,  0.67847,  0.65807,  0.17242,  0.17764],\n",
       "         [ 1.00000,  0.00000,  0.23564,  0.51939,  0.46703,  0.42998],\n",
       "         [ 2.00000,  0.00000,  0.18721,  0.55771,  0.37442,  0.54323],\n",
       "         [ 3.00000,  0.00000,  0.53183,  0.49787,  0.26257,  0.22502],\n",
       "         [ 4.00000,  0.00000,  0.47499,  0.53946,  0.26933,  0.27127],\n",
       "         [ 5.00000,  0.00000,  0.48888,  0.64358,  0.22598,  0.22591],\n",
       "         [ 6.00000,  0.00000,  0.26915,  0.46326,  0.53830,  0.64124],\n",
       "         [ 7.00000,  0.00000,  0.70232,  0.44550,  0.27623,  0.31850],\n",
       "         [ 8.00000,  0.00000,  0.80252,  0.66096,  0.22008,  0.21917],\n",
       "         [ 9.00000,  0.00000,  0.53428,  0.51797,  0.14823,  0.12379],\n",
       "         [10.00000,  0.00000,  0.69080,  0.70206,  0.32845,  0.28692],\n",
       "         [11.00000,  0.00000,  0.33760,  0.39679,  0.39576,  0.35828],\n",
       "         [12.00000,  0.00000,  0.27591,  0.51140,  0.20563,  0.20351],\n",
       "         [13.00000,  0.00000,  0.30762,  0.59206,  0.37754,  0.33073],\n",
       "         [14.00000,  0.00000,  0.44405,  0.64815,  0.07974,  0.07779],\n",
       "         [15.00000,  0.00000,  0.46940,  0.51429,  0.37159,  0.40308]]),\n",
       " ['/home/nguyen.thanh.huyenb/PolypsSet/PolypsSet/train2019/images/21334.jpg',\n",
       "  '/home/nguyen.thanh.huyenb/PolypsSet/PolypsSet/train2019/images/2675.jpg',\n",
       "  '/home/nguyen.thanh.huyenb/PolypsSet/PolypsSet/train2019/images/10769.jpg',\n",
       "  '/home/nguyen.thanh.huyenb/PolypsSet/PolypsSet/train2019/images/8021.jpg',\n",
       "  '/home/nguyen.thanh.huyenb/PolypsSet/PolypsSet/train2019/images/27694.jpg',\n",
       "  '/home/nguyen.thanh.huyenb/PolypsSet/PolypsSet/train2019/images/28695.jpg',\n",
       "  '/home/nguyen.thanh.huyenb/PolypsSet/PolypsSet/train2019/images/6063.jpg',\n",
       "  '/home/nguyen.thanh.huyenb/PolypsSet/PolypsSet/train2019/images/6544.jpg',\n",
       "  '/home/nguyen.thanh.huyenb/PolypsSet/PolypsSet/train2019/images/24353.jpg',\n",
       "  '/home/nguyen.thanh.huyenb/PolypsSet/PolypsSet/train2019/images/12107.jpg',\n",
       "  '/home/nguyen.thanh.huyenb/PolypsSet/PolypsSet/train2019/images/27728.jpg',\n",
       "  '/home/nguyen.thanh.huyenb/PolypsSet/PolypsSet/train2019/images/18957.jpg',\n",
       "  '/home/nguyen.thanh.huyenb/PolypsSet/PolypsSet/train2019/images/13666.jpg',\n",
       "  '/home/nguyen.thanh.huyenb/PolypsSet/PolypsSet/train2019/images/13888.jpg',\n",
       "  '/home/nguyen.thanh.huyenb/PolypsSet/PolypsSet/train2019/images/17620.jpg',\n",
       "  '/home/nguyen.thanh.huyenb/PolypsSet/PolypsSet/train2019/images/9070.jpg'])"
      ]
     },
     "execution_count": 23,
     "metadata": {},
     "output_type": "execute_result"
    }
   ],
   "source": [
    "# img, labels_out, path, shapes =  next(iter(dataloader))\n",
    "label_imgs, label_targets, path, shape =  next(iter(dataloader))\n",
    "(img, img_strong) = label_imgs \n",
    "labels_out = label_targets\n",
    "plot_images(img, labels_out, path, \"images.jpg\")\n",
    "labels_out, path"
   ]
  },
  {
   "cell_type": "code",
   "execution_count": 24,
   "metadata": {},
   "outputs": [
    {
     "data": {
      "text/plain": [
       "tensor([[[[114, 114, 114,  ..., 114, 114, 114],\n",
       "          [114, 114, 114,  ..., 114, 114, 114],\n",
       "          [114, 114, 114,  ..., 114, 114, 114],\n",
       "          ...,\n",
       "          [114, 114, 114,  ...,   1,   0,   0],\n",
       "          [114, 114, 114,  ...,   1,   0,   0],\n",
       "          [114, 114, 114,  ...,   0,   0,   0]],\n",
       "\n",
       "         [[114, 114, 114,  ..., 114, 114, 114],\n",
       "          [114, 114, 114,  ..., 114, 114, 114],\n",
       "          [114, 114, 114,  ..., 114, 114, 114],\n",
       "          ...,\n",
       "          [114, 114, 114,  ...,   1,   0,   0],\n",
       "          [114, 114, 114,  ...,   1,   0,   0],\n",
       "          [114, 114, 114,  ...,   0,   0,   0]],\n",
       "\n",
       "         [[114, 114, 114,  ..., 114, 114, 114],\n",
       "          [114, 114, 114,  ..., 114, 114, 114],\n",
       "          [114, 114, 114,  ..., 114, 114, 114],\n",
       "          ...,\n",
       "          [114, 114, 114,  ...,   1,   0,   0],\n",
       "          [114, 114, 114,  ...,   1,   0,   0],\n",
       "          [114, 114, 114,  ...,   0,   0,   0]]],\n",
       "\n",
       "\n",
       "        [[[114, 114, 114,  ..., 114, 114, 114],\n",
       "          [114, 114, 114,  ..., 114, 114, 114],\n",
       "          [114, 114, 114,  ..., 114, 114, 114],\n",
       "          ...,\n",
       "          [114, 114, 114,  ..., 114, 114, 114],\n",
       "          [114, 114, 114,  ..., 114, 114, 114],\n",
       "          [114, 114, 114,  ..., 114, 114, 114]],\n",
       "\n",
       "         [[114, 114, 114,  ..., 114, 114, 114],\n",
       "          [114, 114, 114,  ..., 114, 114, 114],\n",
       "          [114, 114, 114,  ..., 114, 114, 114],\n",
       "          ...,\n",
       "          [114, 114, 114,  ..., 114, 114, 114],\n",
       "          [114, 114, 114,  ..., 114, 114, 114],\n",
       "          [114, 114, 114,  ..., 114, 114, 114]],\n",
       "\n",
       "         [[114, 114, 114,  ..., 114, 114, 114],\n",
       "          [114, 114, 114,  ..., 114, 114, 114],\n",
       "          [114, 114, 114,  ..., 114, 114, 114],\n",
       "          ...,\n",
       "          [114, 114, 114,  ..., 114, 114, 114],\n",
       "          [114, 114, 114,  ..., 114, 114, 114],\n",
       "          [114, 114, 114,  ..., 114, 114, 114]]],\n",
       "\n",
       "\n",
       "        [[[114, 114, 114,  ..., 114, 114, 114],\n",
       "          [114, 114, 114,  ..., 114, 114, 114],\n",
       "          [114, 114, 114,  ..., 114, 114, 114],\n",
       "          ...,\n",
       "          [114, 114, 114,  ..., 114, 114, 114],\n",
       "          [114, 114, 114,  ..., 114, 114, 114],\n",
       "          [114, 114, 114,  ..., 114, 114, 114]],\n",
       "\n",
       "         [[114, 114, 114,  ..., 114, 114, 114],\n",
       "          [114, 114, 114,  ..., 114, 114, 114],\n",
       "          [114, 114, 114,  ..., 114, 114, 114],\n",
       "          ...,\n",
       "          [114, 114, 114,  ..., 114, 114, 114],\n",
       "          [114, 114, 114,  ..., 114, 114, 114],\n",
       "          [114, 114, 114,  ..., 114, 114, 114]],\n",
       "\n",
       "         [[114, 114, 114,  ..., 114, 114, 114],\n",
       "          [114, 114, 114,  ..., 114, 114, 114],\n",
       "          [114, 114, 114,  ..., 114, 114, 114],\n",
       "          ...,\n",
       "          [114, 114, 114,  ..., 114, 114, 114],\n",
       "          [114, 114, 114,  ..., 114, 114, 114],\n",
       "          [114, 114, 114,  ..., 114, 114, 114]]],\n",
       "\n",
       "\n",
       "        ...,\n",
       "\n",
       "\n",
       "        [[[114, 114, 114,  ..., 114, 114, 114],\n",
       "          [114, 114, 114,  ..., 114, 114, 114],\n",
       "          [114, 114, 114,  ..., 114, 114, 114],\n",
       "          ...,\n",
       "          [ 14,  14,  14,  ..., 114, 114, 114],\n",
       "          [ 13,  11,  12,  ..., 114, 114, 114],\n",
       "          [  6,   6,   8,  ..., 114, 114, 114]],\n",
       "\n",
       "         [[114, 114, 114,  ..., 114, 114, 114],\n",
       "          [114, 114, 114,  ..., 114, 114, 114],\n",
       "          [114, 114, 114,  ..., 114, 114, 114],\n",
       "          ...,\n",
       "          [ 18,  18,  18,  ..., 114, 114, 114],\n",
       "          [ 17,  15,  16,  ..., 114, 114, 114],\n",
       "          [ 10,  10,  12,  ..., 114, 114, 114]],\n",
       "\n",
       "         [[114, 114, 114,  ..., 114, 114, 114],\n",
       "          [114, 114, 114,  ..., 114, 114, 114],\n",
       "          [114, 114, 114,  ..., 114, 114, 114],\n",
       "          ...,\n",
       "          [ 17,  17,  17,  ..., 114, 114, 114],\n",
       "          [ 16,  14,  15,  ..., 114, 114, 114],\n",
       "          [  9,   9,  11,  ..., 114, 114, 114]]],\n",
       "\n",
       "\n",
       "        [[[114, 114, 114,  ..., 114, 114, 114],\n",
       "          [114, 114, 114,  ..., 114, 114, 114],\n",
       "          [114, 114, 114,  ..., 114, 114, 114],\n",
       "          ...,\n",
       "          [114, 114, 114,  ..., 114, 114, 114],\n",
       "          [114, 114, 114,  ..., 114, 114, 114],\n",
       "          [114, 114, 114,  ..., 114, 114, 114]],\n",
       "\n",
       "         [[114, 114, 114,  ..., 114, 114, 114],\n",
       "          [114, 114, 114,  ..., 114, 114, 114],\n",
       "          [114, 114, 114,  ..., 114, 114, 114],\n",
       "          ...,\n",
       "          [114, 114, 114,  ..., 114, 114, 114],\n",
       "          [114, 114, 114,  ..., 114, 114, 114],\n",
       "          [114, 114, 114,  ..., 114, 114, 114]],\n",
       "\n",
       "         [[114, 114, 114,  ..., 114, 114, 114],\n",
       "          [114, 114, 114,  ..., 114, 114, 114],\n",
       "          [114, 114, 114,  ..., 114, 114, 114],\n",
       "          ...,\n",
       "          [114, 114, 114,  ..., 114, 114, 114],\n",
       "          [114, 114, 114,  ..., 114, 114, 114],\n",
       "          [114, 114, 114,  ..., 114, 114, 114]]],\n",
       "\n",
       "\n",
       "        [[[114, 114, 114,  ..., 114, 114, 114],\n",
       "          [114, 114, 114,  ..., 114, 114, 114],\n",
       "          [114, 114, 114,  ..., 114, 114, 114],\n",
       "          ...,\n",
       "          [114, 114, 114,  ..., 114, 114, 114],\n",
       "          [114, 114, 114,  ..., 114, 114, 114],\n",
       "          [114, 114, 114,  ..., 114, 114, 114]],\n",
       "\n",
       "         [[114, 114, 114,  ..., 114, 114, 114],\n",
       "          [114, 114, 114,  ..., 114, 114, 114],\n",
       "          [114, 114, 114,  ..., 114, 114, 114],\n",
       "          ...,\n",
       "          [114, 114, 114,  ..., 114, 114, 114],\n",
       "          [114, 114, 114,  ..., 114, 114, 114],\n",
       "          [114, 114, 114,  ..., 114, 114, 114]],\n",
       "\n",
       "         [[114, 114, 114,  ..., 114, 114, 114],\n",
       "          [114, 114, 114,  ..., 114, 114, 114],\n",
       "          [114, 114, 114,  ..., 114, 114, 114],\n",
       "          ...,\n",
       "          [114, 114, 114,  ..., 114, 114, 114],\n",
       "          [114, 114, 114,  ..., 114, 114, 114],\n",
       "          [114, 114, 114,  ..., 114, 114, 114]]]], dtype=torch.uint8)"
      ]
     },
     "execution_count": 24,
     "metadata": {},
     "output_type": "execute_result"
    }
   ],
   "source": [
    "img"
   ]
  },
  {
   "cell_type": "code",
   "execution_count": 25,
   "metadata": {},
   "outputs": [
    {
     "data": {
      "text/plain": [
       "tensor([[[[0.44706, 0.44706, 0.44706,  ..., 0.44706, 0.44706, 0.44706],\n",
       "          [0.44706, 0.44706, 0.44706,  ..., 0.44706, 0.44706, 0.44706],\n",
       "          [0.44706, 0.44706, 0.44706,  ..., 0.44706, 0.44706, 0.44706],\n",
       "          ...,\n",
       "          [0.44706, 0.44706, 0.44706,  ..., 0.00392, 0.00000, 0.00000],\n",
       "          [0.44706, 0.44706, 0.44706,  ..., 0.00392, 0.00000, 0.00000],\n",
       "          [0.44706, 0.44706, 0.44706,  ..., 0.00000, 0.00000, 0.00000]],\n",
       "\n",
       "         [[0.44706, 0.44706, 0.44706,  ..., 0.44706, 0.44706, 0.44706],\n",
       "          [0.44706, 0.44706, 0.44706,  ..., 0.44706, 0.44706, 0.44706],\n",
       "          [0.44706, 0.44706, 0.44706,  ..., 0.44706, 0.44706, 0.44706],\n",
       "          ...,\n",
       "          [0.44706, 0.44706, 0.44706,  ..., 0.00392, 0.00000, 0.00000],\n",
       "          [0.44706, 0.44706, 0.44706,  ..., 0.00392, 0.00000, 0.00000],\n",
       "          [0.44706, 0.44706, 0.44706,  ..., 0.00000, 0.00000, 0.00000]],\n",
       "\n",
       "         [[0.44706, 0.44706, 0.44706,  ..., 0.44706, 0.44706, 0.44706],\n",
       "          [0.44706, 0.44706, 0.44706,  ..., 0.44706, 0.44706, 0.44706],\n",
       "          [0.44706, 0.44706, 0.44706,  ..., 0.44706, 0.44706, 0.44706],\n",
       "          ...,\n",
       "          [0.44706, 0.44706, 0.44706,  ..., 0.00392, 0.00000, 0.00000],\n",
       "          [0.44706, 0.44706, 0.44706,  ..., 0.00392, 0.00000, 0.00000],\n",
       "          [0.44706, 0.44706, 0.44706,  ..., 0.00000, 0.00000, 0.00000]]],\n",
       "\n",
       "\n",
       "        [[[0.44706, 0.44706, 0.44706,  ..., 0.44706, 0.44706, 0.44706],\n",
       "          [0.44706, 0.44706, 0.44706,  ..., 0.44706, 0.44706, 0.44706],\n",
       "          [0.44706, 0.44706, 0.44706,  ..., 0.44706, 0.44706, 0.44706],\n",
       "          ...,\n",
       "          [0.44706, 0.44706, 0.44706,  ..., 0.44706, 0.44706, 0.44706],\n",
       "          [0.44706, 0.44706, 0.44706,  ..., 0.44706, 0.44706, 0.44706],\n",
       "          [0.44706, 0.44706, 0.44706,  ..., 0.44706, 0.44706, 0.44706]],\n",
       "\n",
       "         [[0.44706, 0.44706, 0.44706,  ..., 0.44706, 0.44706, 0.44706],\n",
       "          [0.44706, 0.44706, 0.44706,  ..., 0.44706, 0.44706, 0.44706],\n",
       "          [0.44706, 0.44706, 0.44706,  ..., 0.44706, 0.44706, 0.44706],\n",
       "          ...,\n",
       "          [0.44706, 0.44706, 0.44706,  ..., 0.44706, 0.44706, 0.44706],\n",
       "          [0.44706, 0.44706, 0.44706,  ..., 0.44706, 0.44706, 0.44706],\n",
       "          [0.44706, 0.44706, 0.44706,  ..., 0.44706, 0.44706, 0.44706]],\n",
       "\n",
       "         [[0.44706, 0.44706, 0.44706,  ..., 0.44706, 0.44706, 0.44706],\n",
       "          [0.44706, 0.44706, 0.44706,  ..., 0.44706, 0.44706, 0.44706],\n",
       "          [0.44706, 0.44706, 0.44706,  ..., 0.44706, 0.44706, 0.44706],\n",
       "          ...,\n",
       "          [0.44706, 0.44706, 0.44706,  ..., 0.44706, 0.44706, 0.44706],\n",
       "          [0.44706, 0.44706, 0.44706,  ..., 0.44706, 0.44706, 0.44706],\n",
       "          [0.44706, 0.44706, 0.44706,  ..., 0.44706, 0.44706, 0.44706]]],\n",
       "\n",
       "\n",
       "        [[[0.44706, 0.44706, 0.44706,  ..., 0.44706, 0.44706, 0.44706],\n",
       "          [0.44706, 0.44706, 0.44706,  ..., 0.44706, 0.44706, 0.44706],\n",
       "          [0.44706, 0.44706, 0.44706,  ..., 0.44706, 0.44706, 0.44706],\n",
       "          ...,\n",
       "          [0.44706, 0.44706, 0.44706,  ..., 0.44706, 0.44706, 0.44706],\n",
       "          [0.44706, 0.44706, 0.44706,  ..., 0.44706, 0.44706, 0.44706],\n",
       "          [0.44706, 0.44706, 0.44706,  ..., 0.44706, 0.44706, 0.44706]],\n",
       "\n",
       "         [[0.44706, 0.44706, 0.44706,  ..., 0.44706, 0.44706, 0.44706],\n",
       "          [0.44706, 0.44706, 0.44706,  ..., 0.44706, 0.44706, 0.44706],\n",
       "          [0.44706, 0.44706, 0.44706,  ..., 0.44706, 0.44706, 0.44706],\n",
       "          ...,\n",
       "          [0.44706, 0.44706, 0.44706,  ..., 0.44706, 0.44706, 0.44706],\n",
       "          [0.44706, 0.44706, 0.44706,  ..., 0.44706, 0.44706, 0.44706],\n",
       "          [0.44706, 0.44706, 0.44706,  ..., 0.44706, 0.44706, 0.44706]],\n",
       "\n",
       "         [[0.44706, 0.44706, 0.44706,  ..., 0.44706, 0.44706, 0.44706],\n",
       "          [0.44706, 0.44706, 0.44706,  ..., 0.44706, 0.44706, 0.44706],\n",
       "          [0.44706, 0.44706, 0.44706,  ..., 0.44706, 0.44706, 0.44706],\n",
       "          ...,\n",
       "          [0.44706, 0.44706, 0.44706,  ..., 0.44706, 0.44706, 0.44706],\n",
       "          [0.44706, 0.44706, 0.44706,  ..., 0.44706, 0.44706, 0.44706],\n",
       "          [0.44706, 0.44706, 0.44706,  ..., 0.44706, 0.44706, 0.44706]]],\n",
       "\n",
       "\n",
       "        ...,\n",
       "\n",
       "\n",
       "        [[[0.44706, 0.44706, 0.44706,  ..., 0.44706, 0.44706, 0.44706],\n",
       "          [0.44706, 0.44706, 0.44706,  ..., 0.44706, 0.44706, 0.44706],\n",
       "          [0.44706, 0.44706, 0.44706,  ..., 0.44706, 0.44706, 0.44706],\n",
       "          ...,\n",
       "          [0.05490, 0.05490, 0.05490,  ..., 0.44706, 0.44706, 0.44706],\n",
       "          [0.05098, 0.04314, 0.04706,  ..., 0.44706, 0.44706, 0.44706],\n",
       "          [0.02353, 0.02353, 0.03137,  ..., 0.44706, 0.44706, 0.44706]],\n",
       "\n",
       "         [[0.44706, 0.44706, 0.44706,  ..., 0.44706, 0.44706, 0.44706],\n",
       "          [0.44706, 0.44706, 0.44706,  ..., 0.44706, 0.44706, 0.44706],\n",
       "          [0.44706, 0.44706, 0.44706,  ..., 0.44706, 0.44706, 0.44706],\n",
       "          ...,\n",
       "          [0.07059, 0.07059, 0.07059,  ..., 0.44706, 0.44706, 0.44706],\n",
       "          [0.06667, 0.05882, 0.06275,  ..., 0.44706, 0.44706, 0.44706],\n",
       "          [0.03922, 0.03922, 0.04706,  ..., 0.44706, 0.44706, 0.44706]],\n",
       "\n",
       "         [[0.44706, 0.44706, 0.44706,  ..., 0.44706, 0.44706, 0.44706],\n",
       "          [0.44706, 0.44706, 0.44706,  ..., 0.44706, 0.44706, 0.44706],\n",
       "          [0.44706, 0.44706, 0.44706,  ..., 0.44706, 0.44706, 0.44706],\n",
       "          ...,\n",
       "          [0.06667, 0.06667, 0.06667,  ..., 0.44706, 0.44706, 0.44706],\n",
       "          [0.06275, 0.05490, 0.05882,  ..., 0.44706, 0.44706, 0.44706],\n",
       "          [0.03529, 0.03529, 0.04314,  ..., 0.44706, 0.44706, 0.44706]]],\n",
       "\n",
       "\n",
       "        [[[0.44706, 0.44706, 0.44706,  ..., 0.44706, 0.44706, 0.44706],\n",
       "          [0.44706, 0.44706, 0.44706,  ..., 0.44706, 0.44706, 0.44706],\n",
       "          [0.44706, 0.44706, 0.44706,  ..., 0.44706, 0.44706, 0.44706],\n",
       "          ...,\n",
       "          [0.44706, 0.44706, 0.44706,  ..., 0.44706, 0.44706, 0.44706],\n",
       "          [0.44706, 0.44706, 0.44706,  ..., 0.44706, 0.44706, 0.44706],\n",
       "          [0.44706, 0.44706, 0.44706,  ..., 0.44706, 0.44706, 0.44706]],\n",
       "\n",
       "         [[0.44706, 0.44706, 0.44706,  ..., 0.44706, 0.44706, 0.44706],\n",
       "          [0.44706, 0.44706, 0.44706,  ..., 0.44706, 0.44706, 0.44706],\n",
       "          [0.44706, 0.44706, 0.44706,  ..., 0.44706, 0.44706, 0.44706],\n",
       "          ...,\n",
       "          [0.44706, 0.44706, 0.44706,  ..., 0.44706, 0.44706, 0.44706],\n",
       "          [0.44706, 0.44706, 0.44706,  ..., 0.44706, 0.44706, 0.44706],\n",
       "          [0.44706, 0.44706, 0.44706,  ..., 0.44706, 0.44706, 0.44706]],\n",
       "\n",
       "         [[0.44706, 0.44706, 0.44706,  ..., 0.44706, 0.44706, 0.44706],\n",
       "          [0.44706, 0.44706, 0.44706,  ..., 0.44706, 0.44706, 0.44706],\n",
       "          [0.44706, 0.44706, 0.44706,  ..., 0.44706, 0.44706, 0.44706],\n",
       "          ...,\n",
       "          [0.44706, 0.44706, 0.44706,  ..., 0.44706, 0.44706, 0.44706],\n",
       "          [0.44706, 0.44706, 0.44706,  ..., 0.44706, 0.44706, 0.44706],\n",
       "          [0.44706, 0.44706, 0.44706,  ..., 0.44706, 0.44706, 0.44706]]],\n",
       "\n",
       "\n",
       "        [[[0.44706, 0.44706, 0.44706,  ..., 0.44706, 0.44706, 0.44706],\n",
       "          [0.44706, 0.44706, 0.44706,  ..., 0.44706, 0.44706, 0.44706],\n",
       "          [0.44706, 0.44706, 0.44706,  ..., 0.44706, 0.44706, 0.44706],\n",
       "          ...,\n",
       "          [0.44706, 0.44706, 0.44706,  ..., 0.44706, 0.44706, 0.44706],\n",
       "          [0.44706, 0.44706, 0.44706,  ..., 0.44706, 0.44706, 0.44706],\n",
       "          [0.44706, 0.44706, 0.44706,  ..., 0.44706, 0.44706, 0.44706]],\n",
       "\n",
       "         [[0.44706, 0.44706, 0.44706,  ..., 0.44706, 0.44706, 0.44706],\n",
       "          [0.44706, 0.44706, 0.44706,  ..., 0.44706, 0.44706, 0.44706],\n",
       "          [0.44706, 0.44706, 0.44706,  ..., 0.44706, 0.44706, 0.44706],\n",
       "          ...,\n",
       "          [0.44706, 0.44706, 0.44706,  ..., 0.44706, 0.44706, 0.44706],\n",
       "          [0.44706, 0.44706, 0.44706,  ..., 0.44706, 0.44706, 0.44706],\n",
       "          [0.44706, 0.44706, 0.44706,  ..., 0.44706, 0.44706, 0.44706]],\n",
       "\n",
       "         [[0.44706, 0.44706, 0.44706,  ..., 0.44706, 0.44706, 0.44706],\n",
       "          [0.44706, 0.44706, 0.44706,  ..., 0.44706, 0.44706, 0.44706],\n",
       "          [0.44706, 0.44706, 0.44706,  ..., 0.44706, 0.44706, 0.44706],\n",
       "          ...,\n",
       "          [0.44706, 0.44706, 0.44706,  ..., 0.44706, 0.44706, 0.44706],\n",
       "          [0.44706, 0.44706, 0.44706,  ..., 0.44706, 0.44706, 0.44706],\n",
       "          [0.44706, 0.44706, 0.44706,  ..., 0.44706, 0.44706, 0.44706]]]])"
      ]
     },
     "execution_count": 25,
     "metadata": {},
     "output_type": "execute_result"
    }
   ],
   "source": [
    "img = img.float()\n",
    "\n",
    "img /= 255\n",
    "img"
   ]
  },
  {
   "cell_type": "code",
   "execution_count": 38,
   "metadata": {},
   "outputs": [
    {
     "data": {
      "text/plain": [
       "torch.Size([16, 25200, 6])"
      ]
     },
     "execution_count": 38,
     "metadata": {},
     "output_type": "execute_result"
    }
   ],
   "source": [
    "with torch.no_grad():   # Calculating gradients would cause a GPU memory leak\n",
    "    out = model(img.to(device))\n",
    "out[0].shape"
   ]
  },
  {
   "cell_type": "code",
   "execution_count": 39,
   "metadata": {},
   "outputs": [
    {
     "data": {
      "text/plain": [
       "(torch.Size([16, 3, 80, 80, 6]),\n",
       " torch.Size([16, 3, 40, 40, 6]),\n",
       " torch.Size([16, 3, 20, 20, 6]))"
      ]
     },
     "execution_count": 39,
     "metadata": {},
     "output_type": "execute_result"
    }
   ],
   "source": [
    "out[1][0].shape, out[1][1].shape, out[1][2].shape"
   ]
  },
  {
   "cell_type": "code",
   "execution_count": 40,
   "metadata": {},
   "outputs": [
    {
     "data": {
      "text/plain": [
       "(19200, 4800, 1200)"
      ]
     },
     "execution_count": 40,
     "metadata": {},
     "output_type": "execute_result"
    }
   ],
   "source": [
    "3*80*80 , 3*40*40 , 3*20*20"
   ]
  },
  {
   "cell_type": "code",
   "execution_count": 41,
   "metadata": {},
   "outputs": [
    {
     "data": {
      "text/plain": [
       "[tensor([[373.96167, 363.33322, 493.80249, 483.78085,   0.95230,   0.00000]], device='cuda:0'),\n",
       " tensor([[ 13.39743, 200.69562, 293.64038, 460.66107,   0.93433,   0.00000]], device='cuda:0'),\n",
       " tensor([[ 46.60094, 195.41460, 164.52548, 335.67969,   0.62974,   0.00000]], device='cuda:0'),\n",
       " tensor([[3.26337e+02, 1.10855e+00, 5.93722e+02, 6.40405e+02, 9.86246e-01, 0.00000e+00],\n",
       "         [9.36274e+01, 1.31122e+00, 3.78615e+02, 6.38745e+02, 9.37050e-01, 0.00000e+00],\n",
       "         [2.61640e+02, 2.29868e+02, 4.21485e+02, 4.12679e+02, 8.63989e-01, 0.00000e+00],\n",
       "         [2.53581e+02, 7.07387e+01, 4.30781e+02, 5.67174e+02, 3.62440e-01, 0.00000e+00]], device='cuda:0'),\n",
       " tensor([[ 2.78490e+02, -2.15973e-01,  5.30787e+02,  6.39406e+02,  9.93248e-01,  0.00000e+00],\n",
       "         [ 2.54534e+02,  4.05653e+02,  4.95120e+02,  6.41852e+02,  9.20979e-01,  0.00000e+00],\n",
       "         [ 2.18476e+02,  2.19916e+02,  3.94103e+02,  4.86091e+02,  8.34105e-01,  0.00000e+00],\n",
       "         [ 8.59593e+01,  7.60104e+00,  3.45731e+02,  6.32548e+02,  5.16438e-01,  0.00000e+00]], device='cuda:0'),\n",
       " tensor([[233.86536, 323.14337, 396.70599, 488.57098,   0.94196,   0.00000]], device='cuda:0'),\n",
       " tensor([[  3.74706, 110.69366, 305.35358, 507.40125,   0.75219,   0.00000]], device='cuda:0'),\n",
       " tensor([[385.07916, 170.38086, 539.65765, 387.65637,   0.89693,   0.00000]], device='cuda:0'),\n",
       " tensor([[437.83105, 344.11740, 594.79810, 507.25308,   0.82806,   0.00000]], device='cuda:0'),\n",
       " tensor([[ 1.02133e+02,  6.58264e-01,  3.77597e+02,  6.40541e+02,  9.90415e-01,  0.00000e+00],\n",
       "         [ 3.12658e+02, -2.91138e-01,  5.69256e+02,  6.41189e+02,  9.72883e-01,  0.00000e+00],\n",
       "         [ 2.68523e+02, -9.43268e-01,  4.12009e+02,  6.37641e+02,  8.98737e-01,  0.00000e+00],\n",
       "         [ 2.80795e+02,  2.30953e+02,  3.99930e+02,  4.22400e+02,  8.11015e-01,  0.00000e+00],\n",
       "         [ 4.49776e+02, -5.80383e-01,  6.11350e+02,  6.41277e+02,  4.29630e-01,  0.00000e+00]], device='cuda:0'),\n",
       " tensor([[331.24969, 348.52698, 541.99615, 541.87164,   0.91875,   0.00000]], device='cuda:0'),\n",
       " tensor([[ 93.51433, 162.08470, 332.20093, 368.30414,   0.93021,   0.00000]], device='cuda:0'),\n",
       " tensor([[ 1.77661e+02, -7.95624e-01,  4.65682e+02,  6.36511e+02,  9.69176e-01,  0.00000e+00],\n",
       "         [ 1.11026e+02,  2.53203e+02,  2.47389e+02,  4.03951e+02,  9.09847e-01,  0.00000e+00],\n",
       "         [ 1.94099e+02,  5.33412e+02,  4.33098e+02,  6.40074e+02,  4.30294e-01,  0.00000e+00]], device='cuda:0'),\n",
       " tensor([[ 44.98590, 278.32288, 331.90698, 516.93207,   0.64541,   0.00000]], device='cuda:0'),\n",
       " tensor([], device='cuda:0', size=(0, 6)),\n",
       " tensor([[180.01538, 211.58528, 404.41205, 457.49451,   0.89420,   0.00000]], device='cuda:0')]"
      ]
     },
     "execution_count": 41,
     "metadata": {},
     "output_type": "execute_result"
    }
   ],
   "source": [
    "pred = non_max_suppression(out[0][:, : , :] ,conf_thres=0.25, iou_thres=0.5)\n",
    "pred"
   ]
  },
  {
   "cell_type": "code",
   "execution_count": 42,
   "metadata": {},
   "outputs": [
    {
     "data": {
      "text/plain": [
       "([tensor([[373.96167, 363.33322, 493.80249, 483.78085,   0.93452,   0.00000]], device='cuda:0'),\n",
       "  tensor([[ 13.39743, 200.69562, 293.64038, 460.66107,   0.92018,   0.00000]], device='cuda:0'),\n",
       "  tensor([[ 46.60094, 195.41460, 164.52548, 335.67969,   0.61957,   0.00000]], device='cuda:0'),\n",
       "  tensor([[3.27029e+02, 1.23019e+00, 5.93698e+02, 6.39625e+02, 9.73663e-01, 0.00000e+00],\n",
       "          [9.36274e+01, 1.31122e+00, 3.78615e+02, 6.38745e+02, 9.26665e-01, 0.00000e+00],\n",
       "          [2.61640e+02, 2.29868e+02, 4.21485e+02, 4.12679e+02, 8.49867e-01, 0.00000e+00],\n",
       "          [2.53581e+02, 7.07387e+01, 4.30781e+02, 5.67174e+02, 3.56541e-01, 0.00000e+00]], device='cuda:0'),\n",
       "  tensor([[2.82183e+02, 2.99072e-01, 5.30762e+02, 6.38039e+02, 9.78215e-01, 0.00000e+00],\n",
       "          [2.54534e+02, 4.05653e+02, 4.95120e+02, 6.41852e+02, 9.04955e-01, 0.00000e+00],\n",
       "          [2.18476e+02, 2.19916e+02, 3.94103e+02, 4.86091e+02, 8.19051e-01, 0.00000e+00],\n",
       "          [8.59593e+01, 7.60104e+00, 3.45731e+02, 6.32548e+02, 5.06998e-01, 0.00000e+00]], device='cuda:0'),\n",
       "  tensor([[233.86536, 323.14337, 396.70599, 488.57098,   0.92854,   0.00000]], device='cuda:0'),\n",
       "  tensor([[  3.74706, 110.69366, 305.35358, 507.40125,   0.74178,   0.00000]], device='cuda:0'),\n",
       "  tensor([[385.07916, 170.38086, 539.65765, 387.65637,   0.88443,   0.00000]], device='cuda:0'),\n",
       "  tensor([[437.83105, 344.11740, 594.79810, 507.25308,   0.81594,   0.00000]], device='cuda:0'),\n",
       "  tensor([[ 1.02133e+02,  6.58264e-01,  3.77597e+02,  6.40541e+02,  9.79647e-01,  0.00000e+00],\n",
       "          [ 3.12658e+02, -2.91138e-01,  5.69256e+02,  6.41189e+02,  9.59317e-01,  0.00000e+00],\n",
       "          [ 2.68523e+02, -9.43268e-01,  4.12009e+02,  6.37641e+02,  8.80188e-01,  0.00000e+00],\n",
       "          [ 2.80795e+02,  2.30953e+02,  3.99930e+02,  4.22400e+02,  7.94087e-01,  0.00000e+00],\n",
       "          [ 4.49776e+02, -5.80383e-01,  6.11350e+02,  6.41277e+02,  4.22105e-01,  0.00000e+00]], device='cuda:0'),\n",
       "  tensor([[331.24969, 348.52698, 541.99615, 541.87164,   0.90508,   0.00000]], device='cuda:0'),\n",
       "  tensor([[ 93.51433, 162.08470, 332.20093, 368.30414,   0.91667,   0.00000]], device='cuda:0'),\n",
       "  tensor([[ 1.77661e+02, -7.95624e-01,  4.65682e+02,  6.36511e+02,  9.55724e-01,  0.00000e+00],\n",
       "          [ 1.11026e+02,  2.53203e+02,  2.47389e+02,  4.03951e+02,  8.92102e-01,  0.00000e+00],\n",
       "          [ 1.94099e+02,  5.33412e+02,  4.33098e+02,  6.40074e+02,  4.22205e-01,  0.00000e+00]], device='cuda:0'),\n",
       "  tensor([[ 44.98590, 278.32288, 331.90698, 516.93207,   0.63389,   0.00000]], device='cuda:0'),\n",
       "  tensor([], device='cuda:0', size=(0, 6)),\n",
       "  tensor([[180.01538, 211.58528, 404.41205, 457.49451,   0.88161,   0.00000]], device='cuda:0')],\n",
       " [tensor([[373.96167, 363.33322, 493.80249, 483.78085,   0.93452,   0.00000]], device='cuda:0'),\n",
       "  tensor([[ 13.39743, 200.69562, 293.64038, 460.66107,   0.92018,   0.00000]], device='cuda:0'),\n",
       "  tensor([[ 46.60094, 195.41460, 164.52548, 335.67969,   0.61957,   0.00000]], device='cuda:0'),\n",
       "  tensor([[3.27029e+02, 1.23019e+00, 5.93698e+02, 6.39625e+02, 9.73663e-01, 0.00000e+00],\n",
       "          [9.36274e+01, 1.31122e+00, 3.78615e+02, 6.38745e+02, 9.26665e-01, 0.00000e+00],\n",
       "          [2.61640e+02, 2.29868e+02, 4.21485e+02, 4.12679e+02, 8.49867e-01, 0.00000e+00],\n",
       "          [2.53581e+02, 7.07387e+01, 4.30781e+02, 5.67174e+02, 3.56541e-01, 0.00000e+00]], device='cuda:0'),\n",
       "  tensor([[2.82183e+02, 2.99072e-01, 5.30762e+02, 6.38039e+02, 9.78215e-01, 0.00000e+00],\n",
       "          [2.54534e+02, 4.05653e+02, 4.95120e+02, 6.41852e+02, 9.04955e-01, 0.00000e+00],\n",
       "          [2.18476e+02, 2.19916e+02, 3.94103e+02, 4.86091e+02, 8.19051e-01, 0.00000e+00],\n",
       "          [8.59593e+01, 7.60104e+00, 3.45731e+02, 6.32548e+02, 5.06998e-01, 0.00000e+00]], device='cuda:0'),\n",
       "  tensor([[233.86536, 323.14337, 396.70599, 488.57098,   0.92854,   0.00000]], device='cuda:0'),\n",
       "  tensor([[  3.74706, 110.69366, 305.35358, 507.40125,   0.74178,   0.00000]], device='cuda:0'),\n",
       "  tensor([[385.07916, 170.38086, 539.65765, 387.65637,   0.88443,   0.00000]], device='cuda:0'),\n",
       "  tensor([[437.83105, 344.11740, 594.79810, 507.25308,   0.81594,   0.00000]], device='cuda:0'),\n",
       "  tensor([[ 1.02133e+02,  6.58264e-01,  3.77597e+02,  6.40541e+02,  9.79647e-01,  0.00000e+00],\n",
       "          [ 3.12658e+02, -2.91138e-01,  5.69256e+02,  6.41189e+02,  9.59317e-01,  0.00000e+00],\n",
       "          [ 2.68523e+02, -9.43268e-01,  4.12009e+02,  6.37641e+02,  8.80188e-01,  0.00000e+00],\n",
       "          [ 2.80795e+02,  2.30953e+02,  3.99930e+02,  4.22400e+02,  7.94087e-01,  0.00000e+00],\n",
       "          [ 4.49776e+02, -5.80383e-01,  6.11350e+02,  6.41277e+02,  4.22105e-01,  0.00000e+00]], device='cuda:0'),\n",
       "  tensor([[331.24969, 348.52698, 541.99615, 541.87164,   0.90508,   0.00000]], device='cuda:0'),\n",
       "  tensor([[ 93.51433, 162.08470, 332.20093, 368.30414,   0.91667,   0.00000]], device='cuda:0'),\n",
       "  tensor([[ 1.77661e+02, -7.95624e-01,  4.65682e+02,  6.36511e+02,  9.55724e-01,  0.00000e+00],\n",
       "          [ 1.11026e+02,  2.53203e+02,  2.47389e+02,  4.03951e+02,  8.92102e-01,  0.00000e+00],\n",
       "          [ 1.94099e+02,  5.33412e+02,  4.33098e+02,  6.40074e+02,  4.22205e-01,  0.00000e+00]], device='cuda:0'),\n",
       "  tensor([[ 44.98590, 278.32288, 331.90698, 516.93207,   0.63389,   0.00000]], device='cuda:0'),\n",
       "  tensor([], device='cuda:0', size=(0, 6)),\n",
       "  tensor([[180.01538, 211.58528, 404.41205, 457.49451,   0.88161,   0.00000]], device='cuda:0')])"
      ]
     },
     "execution_count": 42,
     "metadata": {},
     "output_type": "execute_result"
    }
   ],
   "source": [
    "pred1, pred_cls = non_max_suppression_pseudo_decouple(out[0],conf_thres=0.25, iou_thres=0.45)\n",
    "pred1, pred_cls"
   ]
  },
  {
   "cell_type": "code",
   "execution_count": 43,
   "metadata": {},
   "outputs": [
    {
     "data": {
      "text/plain": [
       "(tensor([[ 0.00000,  0.00000,  0.67794,  0.71574,  0.18725,  0.25093,  0.95230],\n",
       "         [ 1.00000,  0.00000,  0.23990,  0.52026,  0.43793,  0.49329,  0.93433],\n",
       "         [ 2.00000,  0.00000,  0.16494,  0.38656,  0.18426,  0.29222,  0.62974],\n",
       "         [ 3.00000,  0.00000,  0.71969,  0.50000,  0.41831,  1.00000,  0.98625],\n",
       "         [ 3.00000,  0.00000,  0.36940,  0.50000,  0.44585,  1.00000,  0.93705],\n",
       "         [ 3.00000,  0.00000,  0.53435,  0.50254,  0.25007,  0.36489,  0.86399],\n",
       "         [ 3.00000,  0.00000,  0.53532,  0.49792,  0.27722,  0.99089,  0.36244],\n",
       "         [ 4.00000,  0.00000,  0.63232,  0.50000,  0.39426,  1.00000,  0.99325],\n",
       "         [ 4.00000,  0.00000,  0.58573,  0.83126,  0.37596,  0.33747,  0.92098],\n",
       "         [ 4.00000,  0.00000,  0.47863,  0.56263,  0.27445,  0.50508,  0.83411],\n",
       "         [ 4.00000,  0.00000,  0.33730,  0.50000,  0.40594,  1.00000,  0.51644],\n",
       "         [ 5.00000,  0.00000,  0.49325,  0.67137,  0.25475,  0.33019,  0.94196],\n",
       "         [ 6.00000,  0.00000,  0.24148,  0.47718,  0.47126,  0.82647,  0.75219],\n",
       "         [ 7.00000,  0.00000,  0.72245,  0.41462,  0.24153,  0.45266,  0.89693],\n",
       "         [ 8.00000,  0.00000,  0.80674,  0.72018,  0.24526,  0.33987,  0.82806],\n",
       "         [ 9.00000,  0.00000,  0.37479,  0.50000,  0.43041,  1.00000,  0.99041],\n",
       "         [ 9.00000,  0.00000,  0.68900,  0.50000,  0.40093,  1.00000,  0.97288],\n",
       "         [ 9.00000,  0.00000,  0.53167,  0.50000,  0.22420,  1.00000,  0.89874],\n",
       "         [ 9.00000,  0.00000,  0.53182,  0.51391,  0.18615,  0.39885,  0.81102],\n",
       "         [ 9.00000,  0.00000,  0.82900,  0.50000,  0.25246,  1.00000,  0.42963],\n",
       "         [10.00000,  0.00000,  0.68222,  0.76083,  0.32929,  0.40280,  0.91875],\n",
       "         [11.00000,  0.00000,  0.33259,  0.38582,  0.37295,  0.42962,  0.93021],\n",
       "         [12.00000,  0.00000,  0.50323,  0.50000,  0.45059,  1.00000,  0.96918],\n",
       "         [12.00000,  0.00000,  0.28036,  0.51712,  0.21333,  0.30089,  0.90985],\n",
       "         [12.00000,  0.00000,  0.49061,  0.96299,  0.37390,  0.07403,  0.43029],\n",
       "         [13.00000,  0.00000,  0.29481,  0.65495,  0.44887,  0.47627,  0.64541],\n",
       "         [15.00000,  0.00000,  0.45663,  0.52759,  0.35066,  0.46662,  0.89420]], device='cuda:0'),\n",
       " tensor([[ 0.00000,  0.00000,  0.67847,  0.65807,  0.17242,  0.17764],\n",
       "         [ 1.00000,  0.00000,  0.23564,  0.51939,  0.46703,  0.42998],\n",
       "         [ 2.00000,  0.00000,  0.18721,  0.55771,  0.37442,  0.54323],\n",
       "         [ 3.00000,  0.00000,  0.53183,  0.49787,  0.26257,  0.22502],\n",
       "         [ 4.00000,  0.00000,  0.47499,  0.53946,  0.26933,  0.27127],\n",
       "         [ 5.00000,  0.00000,  0.48888,  0.64358,  0.22598,  0.22591],\n",
       "         [ 6.00000,  0.00000,  0.26915,  0.46326,  0.53830,  0.64124],\n",
       "         [ 7.00000,  0.00000,  0.70232,  0.44550,  0.27623,  0.31850],\n",
       "         [ 8.00000,  0.00000,  0.80252,  0.66096,  0.22008,  0.21917],\n",
       "         [ 9.00000,  0.00000,  0.53428,  0.51797,  0.14823,  0.12379],\n",
       "         [10.00000,  0.00000,  0.69080,  0.70206,  0.32845,  0.28692],\n",
       "         [11.00000,  0.00000,  0.33760,  0.39679,  0.39576,  0.35828],\n",
       "         [12.00000,  0.00000,  0.27591,  0.51140,  0.20563,  0.20351],\n",
       "         [13.00000,  0.00000,  0.30762,  0.59206,  0.37754,  0.33073],\n",
       "         [14.00000,  0.00000,  0.44405,  0.64815,  0.07974,  0.07779],\n",
       "         [15.00000,  0.00000,  0.46940,  0.51429,  0.37159,  0.40308]]))"
      ]
     },
     "execution_count": 43,
     "metadata": {},
     "output_type": "execute_result"
    }
   ],
   "source": [
    "from utils.general import xyxy2xywh\n",
    "from copy import deepcopy\n",
    "def convert_output_to_label(imgs, preds, shapes):\n",
    "    labels = torch.zeros(0, 7).to(device)\n",
    "   \n",
    "    for i, pred in enumerate(preds):\n",
    "        label = torch.zeros(len(pred), 7).to(device)\n",
    "        h0, w0  = shapes[i][0]\n",
    "        box = scale_coords(imgs[i].shape[:2], pred[:, 0:4], shape[i][0], shape[i][1]).round()\n",
    "        box = xyxy2xywhn(pred[:, 0:4], w0, h0)\n",
    "        label[:, 0] = i\n",
    "        label[:, 1] = pred[:, 5]\n",
    "        label[:, 2:6] = box\n",
    "        label[:, 6] = pred[:, 4]\n",
    "        labels = torch.cat([labels, label])\n",
    "    \n",
    "    return labels\n",
    "\n",
    "pseudo_label = convert_output_to_label(img, pred, shape)\n",
    "pseudo_label,  labels_out"
   ]
  },
  {
   "cell_type": "code",
   "execution_count": 44,
   "metadata": {},
   "outputs": [
    {
     "data": {
      "text/plain": [
       "tensor([[ 0.00000,  0.00000,  0.40676,  0.26278,  0.11235,  0.15056,  0.95230],\n",
       "        [ 1.00000,  0.00000,  0.20394,  0.33506,  0.37228,  0.41935,  0.93433],\n",
       "        [ 2.00000,  0.00000,  0.09897,  0.07647,  0.11055,  0.15293,  0.62974],\n",
       "        [ 3.00000,  0.00000,  0.66654,  0.39371,  0.38741,  0.78743,  0.98625],\n",
       "        [ 3.00000,  0.00000,  0.34212,  0.39371,  0.41292,  0.78743,  0.93705],\n",
       "        [ 3.00000,  0.00000,  0.49489,  0.32671,  0.23160,  0.33794,  0.86399],\n",
       "        [ 3.00000,  0.00000,  0.49579,  0.39064,  0.25674,  0.78128,  0.36244],\n",
       "        [ 4.00000,  0.00000,  0.53753,  0.37144,  0.33516,  0.74288,  0.99325],\n",
       "        [ 4.00000,  0.00000,  0.49793,  0.59944,  0.31960,  0.28688,  0.92098],\n",
       "        [ 4.00000,  0.00000,  0.40688,  0.37107,  0.23331,  0.42936,  0.83411],\n",
       "        [ 4.00000,  0.00000,  0.28673,  0.37144,  0.34509,  0.74288,  0.51644],\n",
       "        [ 5.00000,  0.00000,  0.45682,  0.48307,  0.23594,  0.30581,  0.94196],\n",
       "        [ 6.00000,  0.00000,  0.14489,  0.18379,  0.28276,  0.36758,  0.75219],\n",
       "        [ 7.00000,  0.00000,  0.43347,  0.10895,  0.14492,  0.21790,  0.89693],\n",
       "        [ 8.00000,  0.00000,  0.91047,  0.69755,  0.17907,  0.40784,  0.82806],\n",
       "        [ 9.00000,  0.00000,  0.44975,  0.50000,  0.51649,  1.00000,  0.99041],\n",
       "        [ 9.00000,  0.00000,  0.79312,  0.50000,  0.41377,  1.00000,  0.97288],\n",
       "        [ 9.00000,  0.00000,  0.63800,  0.50000,  0.26904,  1.00000,  0.89874],\n",
       "        [ 9.00000,  0.00000,  0.63818,  0.45002,  0.22338,  0.47862,  0.81102],\n",
       "        [ 9.00000,  0.00000,  0.92166,  0.50000,  0.15667,  1.00000,  0.42963],\n",
       "        [10.00000,  0.00000,  0.81055,  0.74633,  0.37891,  0.48336,  0.91875],\n",
       "        [11.00000,  0.00000,  0.19955,  0.09686,  0.22377,  0.19371,  0.93021],\n",
       "        [12.00000,  0.00000,  0.46607,  0.39371,  0.41731,  0.78743,  0.96918],\n",
       "        [12.00000,  0.00000,  0.25965,  0.34021,  0.19758,  0.27867,  0.90985],\n",
       "        [12.00000,  0.00000,  0.45437,  0.75314,  0.34629,  0.06856,  0.43029],\n",
       "        [13.00000,  0.00000,  0.27304,  0.46785,  0.41572,  0.44109,  0.64541],\n",
       "        [15.00000,  0.00000,  0.38818,  0.34129,  0.29809,  0.39667,  0.89420]], device='cuda:0')"
      ]
     },
     "execution_count": 44,
     "metadata": {},
     "output_type": "execute_result"
    }
   ],
   "source": [
    "pseudo_label1 = convert_output_to_label(img, pred, shape)\n",
    "pseudo_label1"
   ]
  },
  {
   "cell_type": "code",
   "execution_count": 45,
   "metadata": {},
   "outputs": [
    {
     "data": {
      "text/plain": [
       "array([[[255, 255, 255],\n",
       "        [255, 255, 255],\n",
       "        [255, 255, 255],\n",
       "        ...,\n",
       "        [255, 255, 255],\n",
       "        [255, 255, 255],\n",
       "        [255, 255, 255]],\n",
       "\n",
       "       [[255, 255, 255],\n",
       "        [220, 220, 220],\n",
       "        [185, 185, 185],\n",
       "        ...,\n",
       "        [185, 185, 185],\n",
       "        [185, 185, 185],\n",
       "        [255, 255, 255]],\n",
       "\n",
       "       [[255, 255, 255],\n",
       "        [185, 185, 185],\n",
       "        [114, 114, 114],\n",
       "        ...,\n",
       "        [114, 114, 114],\n",
       "        [114, 114, 114],\n",
       "        [255, 255, 255]],\n",
       "\n",
       "       ...,\n",
       "\n",
       "       [[255, 255, 255],\n",
       "        [185, 185, 185],\n",
       "        [114, 114, 114],\n",
       "        ...,\n",
       "        [114, 114, 114],\n",
       "        [114, 114, 114],\n",
       "        [255, 255, 255]],\n",
       "\n",
       "       [[255, 255, 255],\n",
       "        [185, 185, 185],\n",
       "        [114, 114, 114],\n",
       "        ...,\n",
       "        [114, 114, 114],\n",
       "        [114, 114, 114],\n",
       "        [255, 255, 255]],\n",
       "\n",
       "       [[255, 255, 255],\n",
       "        [255, 255, 255],\n",
       "        [255, 255, 255],\n",
       "        ...,\n",
       "        [255, 255, 255],\n",
       "        [255, 255, 255],\n",
       "        [255, 255, 255]]], dtype=uint8)"
      ]
     },
     "execution_count": 45,
     "metadata": {},
     "output_type": "execute_result"
    }
   ],
   "source": [
    "plot_images(deepcopy(img), pseudo_label, path, \"images_out.jpg\")\n",
    "plot_images(deepcopy(img), pseudo_label1, path, \"images_out1.jpg\")\n",
    "plot_images(deepcopy(img), labels_out, path, \"images_label.jpg\")\n"
   ]
  },
  {
   "cell_type": "code",
   "execution_count": null,
   "metadata": {},
   "outputs": [],
   "source": []
  },
  {
   "cell_type": "code",
   "execution_count": null,
   "metadata": {},
   "outputs": [],
   "source": []
  },
  {
   "cell_type": "code",
   "execution_count": null,
   "metadata": {},
   "outputs": [],
   "source": []
  }
 ],
 "metadata": {
  "kernelspec": {
   "display_name": "Python 3.10.8 ('yolo')",
   "language": "python",
   "name": "python3"
  },
  "language_info": {
   "codemirror_mode": {
    "name": "ipython",
    "version": 3
   },
   "file_extension": ".py",
   "mimetype": "text/x-python",
   "name": "python",
   "nbconvert_exporter": "python",
   "pygments_lexer": "ipython3",
   "version": "3.10.11"
  },
  "orig_nbformat": 4,
  "vscode": {
   "interpreter": {
    "hash": "0b353fe36be7eef479a933b29e3de312d46af9265b96eef51026ac6ee2666eb0"
   }
  }
 },
 "nbformat": 4,
 "nbformat_minor": 2
}
