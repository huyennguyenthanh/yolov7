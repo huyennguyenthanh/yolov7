{
 "cells": [
  {
   "cell_type": "code",
   "execution_count": 1,
   "metadata": {},
   "outputs": [
    {
     "name": "stderr",
     "output_type": "stream",
     "text": [
      "/home/nguyen.thanh.huyenb/miniconda3/envs/mmdetection_v2/lib/python3.9/site-packages/tqdm/auto.py:21: TqdmWarning: IProgress not found. Please update jupyter and ipywidgets. See https://ipywidgets.readthedocs.io/en/stable/user_install.html\n",
      "  from .autonotebook import tqdm as notebook_tqdm\n"
     ]
    }
   ],
   "source": [
    "import torch\n",
    "import torch.nn as nn\n",
    "import random\n",
    "import cv2\n",
    "import matplotlib.pyplot as plt\n",
    "import numpy as np\n",
    "import sys\n",
    "sys.path.insert(0, \"/mnt/disk1/nguyen.thanh.huyenb/yolov7_train/\")"
   ]
  },
  {
   "cell_type": "code",
   "execution_count": 2,
   "metadata": {},
   "outputs": [
    {
     "data": {
      "text/plain": [
       "device(type='cuda', index=0)"
      ]
     },
     "execution_count": 2,
     "metadata": {},
     "output_type": "execute_result"
    }
   ],
   "source": [
    "device = torch.device('cuda:0' if torch.cuda.is_available() else 'cpu')\n",
    "device"
   ]
  },
  {
   "cell_type": "code",
   "execution_count": 3,
   "metadata": {},
   "outputs": [
    {
     "name": "stdout",
     "output_type": "stream",
     "text": [
      "Fusing layers... \n",
      "RepConv.fuse_repvgg_block\n",
      "RepConv.fuse_repvgg_block\n",
      "RepConv.fuse_repvgg_block\n",
      "IDetect.fuse\n"
     ]
    },
    {
     "data": {
      "text/plain": [
       "Model(\n",
       "  (model): Sequential(\n",
       "    (0): Conv(\n",
       "      (conv): Conv2d(3, 32, kernel_size=(3, 3), stride=(1, 1), padding=(1, 1))\n",
       "      (act): SiLU(inplace=True)\n",
       "    )\n",
       "    (1): Conv(\n",
       "      (conv): Conv2d(32, 64, kernel_size=(3, 3), stride=(2, 2), padding=(1, 1))\n",
       "      (act): SiLU(inplace=True)\n",
       "    )\n",
       "    (2): Conv(\n",
       "      (conv): Conv2d(64, 64, kernel_size=(3, 3), stride=(1, 1), padding=(1, 1))\n",
       "      (act): SiLU(inplace=True)\n",
       "    )\n",
       "    (3): Conv(\n",
       "      (conv): Conv2d(64, 128, kernel_size=(3, 3), stride=(2, 2), padding=(1, 1))\n",
       "      (act): SiLU(inplace=True)\n",
       "    )\n",
       "    (4): Conv(\n",
       "      (conv): Conv2d(128, 64, kernel_size=(1, 1), stride=(1, 1))\n",
       "      (act): SiLU(inplace=True)\n",
       "    )\n",
       "    (5): Conv(\n",
       "      (conv): Conv2d(128, 64, kernel_size=(1, 1), stride=(1, 1))\n",
       "      (act): SiLU(inplace=True)\n",
       "    )\n",
       "    (6): Conv(\n",
       "      (conv): Conv2d(64, 64, kernel_size=(3, 3), stride=(1, 1), padding=(1, 1))\n",
       "      (act): SiLU(inplace=True)\n",
       "    )\n",
       "    (7): Conv(\n",
       "      (conv): Conv2d(64, 64, kernel_size=(3, 3), stride=(1, 1), padding=(1, 1))\n",
       "      (act): SiLU(inplace=True)\n",
       "    )\n",
       "    (8): Conv(\n",
       "      (conv): Conv2d(64, 64, kernel_size=(3, 3), stride=(1, 1), padding=(1, 1))\n",
       "      (act): SiLU(inplace=True)\n",
       "    )\n",
       "    (9): Conv(\n",
       "      (conv): Conv2d(64, 64, kernel_size=(3, 3), stride=(1, 1), padding=(1, 1))\n",
       "      (act): SiLU(inplace=True)\n",
       "    )\n",
       "    (10): Concat()\n",
       "    (11): Conv(\n",
       "      (conv): Conv2d(256, 256, kernel_size=(1, 1), stride=(1, 1))\n",
       "      (act): SiLU(inplace=True)\n",
       "    )\n",
       "    (12): MP(\n",
       "      (m): MaxPool2d(kernel_size=2, stride=2, padding=0, dilation=1, ceil_mode=False)\n",
       "    )\n",
       "    (13): Conv(\n",
       "      (conv): Conv2d(256, 128, kernel_size=(1, 1), stride=(1, 1))\n",
       "      (act): SiLU(inplace=True)\n",
       "    )\n",
       "    (14): Conv(\n",
       "      (conv): Conv2d(256, 128, kernel_size=(1, 1), stride=(1, 1))\n",
       "      (act): SiLU(inplace=True)\n",
       "    )\n",
       "    (15): Conv(\n",
       "      (conv): Conv2d(128, 128, kernel_size=(3, 3), stride=(2, 2), padding=(1, 1))\n",
       "      (act): SiLU(inplace=True)\n",
       "    )\n",
       "    (16): Concat()\n",
       "    (17): Conv(\n",
       "      (conv): Conv2d(256, 128, kernel_size=(1, 1), stride=(1, 1))\n",
       "      (act): SiLU(inplace=True)\n",
       "    )\n",
       "    (18): Conv(\n",
       "      (conv): Conv2d(256, 128, kernel_size=(1, 1), stride=(1, 1))\n",
       "      (act): SiLU(inplace=True)\n",
       "    )\n",
       "    (19): Conv(\n",
       "      (conv): Conv2d(128, 128, kernel_size=(3, 3), stride=(1, 1), padding=(1, 1))\n",
       "      (act): SiLU(inplace=True)\n",
       "    )\n",
       "    (20): Conv(\n",
       "      (conv): Conv2d(128, 128, kernel_size=(3, 3), stride=(1, 1), padding=(1, 1))\n",
       "      (act): SiLU(inplace=True)\n",
       "    )\n",
       "    (21): Conv(\n",
       "      (conv): Conv2d(128, 128, kernel_size=(3, 3), stride=(1, 1), padding=(1, 1))\n",
       "      (act): SiLU(inplace=True)\n",
       "    )\n",
       "    (22): Conv(\n",
       "      (conv): Conv2d(128, 128, kernel_size=(3, 3), stride=(1, 1), padding=(1, 1))\n",
       "      (act): SiLU(inplace=True)\n",
       "    )\n",
       "    (23): Concat()\n",
       "    (24): Conv(\n",
       "      (conv): Conv2d(512, 512, kernel_size=(1, 1), stride=(1, 1))\n",
       "      (act): SiLU(inplace=True)\n",
       "    )\n",
       "    (25): MP(\n",
       "      (m): MaxPool2d(kernel_size=2, stride=2, padding=0, dilation=1, ceil_mode=False)\n",
       "    )\n",
       "    (26): Conv(\n",
       "      (conv): Conv2d(512, 256, kernel_size=(1, 1), stride=(1, 1))\n",
       "      (act): SiLU(inplace=True)\n",
       "    )\n",
       "    (27): Conv(\n",
       "      (conv): Conv2d(512, 256, kernel_size=(1, 1), stride=(1, 1))\n",
       "      (act): SiLU(inplace=True)\n",
       "    )\n",
       "    (28): Conv(\n",
       "      (conv): Conv2d(256, 256, kernel_size=(3, 3), stride=(2, 2), padding=(1, 1))\n",
       "      (act): SiLU(inplace=True)\n",
       "    )\n",
       "    (29): Concat()\n",
       "    (30): Conv(\n",
       "      (conv): Conv2d(512, 256, kernel_size=(1, 1), stride=(1, 1))\n",
       "      (act): SiLU(inplace=True)\n",
       "    )\n",
       "    (31): Conv(\n",
       "      (conv): Conv2d(512, 256, kernel_size=(1, 1), stride=(1, 1))\n",
       "      (act): SiLU(inplace=True)\n",
       "    )\n",
       "    (32): Conv(\n",
       "      (conv): Conv2d(256, 256, kernel_size=(3, 3), stride=(1, 1), padding=(1, 1))\n",
       "      (act): SiLU(inplace=True)\n",
       "    )\n",
       "    (33): Conv(\n",
       "      (conv): Conv2d(256, 256, kernel_size=(3, 3), stride=(1, 1), padding=(1, 1))\n",
       "      (act): SiLU(inplace=True)\n",
       "    )\n",
       "    (34): Conv(\n",
       "      (conv): Conv2d(256, 256, kernel_size=(3, 3), stride=(1, 1), padding=(1, 1))\n",
       "      (act): SiLU(inplace=True)\n",
       "    )\n",
       "    (35): Conv(\n",
       "      (conv): Conv2d(256, 256, kernel_size=(3, 3), stride=(1, 1), padding=(1, 1))\n",
       "      (act): SiLU(inplace=True)\n",
       "    )\n",
       "    (36): Concat()\n",
       "    (37): Conv(\n",
       "      (conv): Conv2d(1024, 1024, kernel_size=(1, 1), stride=(1, 1))\n",
       "      (act): SiLU(inplace=True)\n",
       "    )\n",
       "    (38): MP(\n",
       "      (m): MaxPool2d(kernel_size=2, stride=2, padding=0, dilation=1, ceil_mode=False)\n",
       "    )\n",
       "    (39): Conv(\n",
       "      (conv): Conv2d(1024, 512, kernel_size=(1, 1), stride=(1, 1))\n",
       "      (act): SiLU(inplace=True)\n",
       "    )\n",
       "    (40): Conv(\n",
       "      (conv): Conv2d(1024, 512, kernel_size=(1, 1), stride=(1, 1))\n",
       "      (act): SiLU(inplace=True)\n",
       "    )\n",
       "    (41): Conv(\n",
       "      (conv): Conv2d(512, 512, kernel_size=(3, 3), stride=(2, 2), padding=(1, 1))\n",
       "      (act): SiLU(inplace=True)\n",
       "    )\n",
       "    (42): Concat()\n",
       "    (43): Conv(\n",
       "      (conv): Conv2d(1024, 256, kernel_size=(1, 1), stride=(1, 1))\n",
       "      (act): SiLU(inplace=True)\n",
       "    )\n",
       "    (44): Conv(\n",
       "      (conv): Conv2d(1024, 256, kernel_size=(1, 1), stride=(1, 1))\n",
       "      (act): SiLU(inplace=True)\n",
       "    )\n",
       "    (45): Conv(\n",
       "      (conv): Conv2d(256, 256, kernel_size=(3, 3), stride=(1, 1), padding=(1, 1))\n",
       "      (act): SiLU(inplace=True)\n",
       "    )\n",
       "    (46): Conv(\n",
       "      (conv): Conv2d(256, 256, kernel_size=(3, 3), stride=(1, 1), padding=(1, 1))\n",
       "      (act): SiLU(inplace=True)\n",
       "    )\n",
       "    (47): Conv(\n",
       "      (conv): Conv2d(256, 256, kernel_size=(3, 3), stride=(1, 1), padding=(1, 1))\n",
       "      (act): SiLU(inplace=True)\n",
       "    )\n",
       "    (48): Conv(\n",
       "      (conv): Conv2d(256, 256, kernel_size=(3, 3), stride=(1, 1), padding=(1, 1))\n",
       "      (act): SiLU(inplace=True)\n",
       "    )\n",
       "    (49): Concat()\n",
       "    (50): Conv(\n",
       "      (conv): Conv2d(1024, 1024, kernel_size=(1, 1), stride=(1, 1))\n",
       "      (act): SiLU(inplace=True)\n",
       "    )\n",
       "    (51): SPPCSPC(\n",
       "      (cv1): Conv(\n",
       "        (conv): Conv2d(1024, 512, kernel_size=(1, 1), stride=(1, 1))\n",
       "        (act): SiLU(inplace=True)\n",
       "      )\n",
       "      (cv2): Conv(\n",
       "        (conv): Conv2d(1024, 512, kernel_size=(1, 1), stride=(1, 1))\n",
       "        (act): SiLU(inplace=True)\n",
       "      )\n",
       "      (cv3): Conv(\n",
       "        (conv): Conv2d(512, 512, kernel_size=(3, 3), stride=(1, 1), padding=(1, 1))\n",
       "        (act): SiLU(inplace=True)\n",
       "      )\n",
       "      (cv4): Conv(\n",
       "        (conv): Conv2d(512, 512, kernel_size=(1, 1), stride=(1, 1))\n",
       "        (act): SiLU(inplace=True)\n",
       "      )\n",
       "      (m): ModuleList(\n",
       "        (0): MaxPool2d(kernel_size=5, stride=1, padding=2, dilation=1, ceil_mode=False)\n",
       "        (1): MaxPool2d(kernel_size=9, stride=1, padding=4, dilation=1, ceil_mode=False)\n",
       "        (2): MaxPool2d(kernel_size=13, stride=1, padding=6, dilation=1, ceil_mode=False)\n",
       "      )\n",
       "      (cv5): Conv(\n",
       "        (conv): Conv2d(2048, 512, kernel_size=(1, 1), stride=(1, 1))\n",
       "        (act): SiLU(inplace=True)\n",
       "      )\n",
       "      (cv6): Conv(\n",
       "        (conv): Conv2d(512, 512, kernel_size=(3, 3), stride=(1, 1), padding=(1, 1))\n",
       "        (act): SiLU(inplace=True)\n",
       "      )\n",
       "      (cv7): Conv(\n",
       "        (conv): Conv2d(1024, 512, kernel_size=(1, 1), stride=(1, 1))\n",
       "        (act): SiLU(inplace=True)\n",
       "      )\n",
       "    )\n",
       "    (52): Conv(\n",
       "      (conv): Conv2d(512, 256, kernel_size=(1, 1), stride=(1, 1))\n",
       "      (act): SiLU(inplace=True)\n",
       "    )\n",
       "    (53): Upsample(scale_factor=2.0, mode=nearest)\n",
       "    (54): Conv(\n",
       "      (conv): Conv2d(1024, 256, kernel_size=(1, 1), stride=(1, 1))\n",
       "      (act): SiLU(inplace=True)\n",
       "    )\n",
       "    (55): Concat()\n",
       "    (56): Conv(\n",
       "      (conv): Conv2d(512, 256, kernel_size=(1, 1), stride=(1, 1))\n",
       "      (act): SiLU(inplace=True)\n",
       "    )\n",
       "    (57): Conv(\n",
       "      (conv): Conv2d(512, 256, kernel_size=(1, 1), stride=(1, 1))\n",
       "      (act): SiLU(inplace=True)\n",
       "    )\n",
       "    (58): Conv(\n",
       "      (conv): Conv2d(256, 128, kernel_size=(3, 3), stride=(1, 1), padding=(1, 1))\n",
       "      (act): SiLU(inplace=True)\n",
       "    )\n",
       "    (59): Conv(\n",
       "      (conv): Conv2d(128, 128, kernel_size=(3, 3), stride=(1, 1), padding=(1, 1))\n",
       "      (act): SiLU(inplace=True)\n",
       "    )\n",
       "    (60): Conv(\n",
       "      (conv): Conv2d(128, 128, kernel_size=(3, 3), stride=(1, 1), padding=(1, 1))\n",
       "      (act): SiLU(inplace=True)\n",
       "    )\n",
       "    (61): Conv(\n",
       "      (conv): Conv2d(128, 128, kernel_size=(3, 3), stride=(1, 1), padding=(1, 1))\n",
       "      (act): SiLU(inplace=True)\n",
       "    )\n",
       "    (62): Concat()\n",
       "    (63): Conv(\n",
       "      (conv): Conv2d(1024, 256, kernel_size=(1, 1), stride=(1, 1))\n",
       "      (act): SiLU(inplace=True)\n",
       "    )\n",
       "    (64): Conv(\n",
       "      (conv): Conv2d(256, 128, kernel_size=(1, 1), stride=(1, 1))\n",
       "      (act): SiLU(inplace=True)\n",
       "    )\n",
       "    (65): Upsample(scale_factor=2.0, mode=nearest)\n",
       "    (66): Conv(\n",
       "      (conv): Conv2d(512, 128, kernel_size=(1, 1), stride=(1, 1))\n",
       "      (act): SiLU(inplace=True)\n",
       "    )\n",
       "    (67): Concat()\n",
       "    (68): Conv(\n",
       "      (conv): Conv2d(256, 128, kernel_size=(1, 1), stride=(1, 1))\n",
       "      (act): SiLU(inplace=True)\n",
       "    )\n",
       "    (69): Conv(\n",
       "      (conv): Conv2d(256, 128, kernel_size=(1, 1), stride=(1, 1))\n",
       "      (act): SiLU(inplace=True)\n",
       "    )\n",
       "    (70): Conv(\n",
       "      (conv): Conv2d(128, 64, kernel_size=(3, 3), stride=(1, 1), padding=(1, 1))\n",
       "      (act): SiLU(inplace=True)\n",
       "    )\n",
       "    (71): Conv(\n",
       "      (conv): Conv2d(64, 64, kernel_size=(3, 3), stride=(1, 1), padding=(1, 1))\n",
       "      (act): SiLU(inplace=True)\n",
       "    )\n",
       "    (72): Conv(\n",
       "      (conv): Conv2d(64, 64, kernel_size=(3, 3), stride=(1, 1), padding=(1, 1))\n",
       "      (act): SiLU(inplace=True)\n",
       "    )\n",
       "    (73): Conv(\n",
       "      (conv): Conv2d(64, 64, kernel_size=(3, 3), stride=(1, 1), padding=(1, 1))\n",
       "      (act): SiLU(inplace=True)\n",
       "    )\n",
       "    (74): Concat()\n",
       "    (75): Conv(\n",
       "      (conv): Conv2d(512, 128, kernel_size=(1, 1), stride=(1, 1))\n",
       "      (act): SiLU(inplace=True)\n",
       "    )\n",
       "    (76): MP(\n",
       "      (m): MaxPool2d(kernel_size=2, stride=2, padding=0, dilation=1, ceil_mode=False)\n",
       "    )\n",
       "    (77): Conv(\n",
       "      (conv): Conv2d(128, 128, kernel_size=(1, 1), stride=(1, 1))\n",
       "      (act): SiLU(inplace=True)\n",
       "    )\n",
       "    (78): Conv(\n",
       "      (conv): Conv2d(128, 128, kernel_size=(1, 1), stride=(1, 1))\n",
       "      (act): SiLU(inplace=True)\n",
       "    )\n",
       "    (79): Conv(\n",
       "      (conv): Conv2d(128, 128, kernel_size=(3, 3), stride=(2, 2), padding=(1, 1))\n",
       "      (act): SiLU(inplace=True)\n",
       "    )\n",
       "    (80): Concat()\n",
       "    (81): Conv(\n",
       "      (conv): Conv2d(512, 256, kernel_size=(1, 1), stride=(1, 1))\n",
       "      (act): SiLU(inplace=True)\n",
       "    )\n",
       "    (82): Conv(\n",
       "      (conv): Conv2d(512, 256, kernel_size=(1, 1), stride=(1, 1))\n",
       "      (act): SiLU(inplace=True)\n",
       "    )\n",
       "    (83): Conv(\n",
       "      (conv): Conv2d(256, 128, kernel_size=(3, 3), stride=(1, 1), padding=(1, 1))\n",
       "      (act): SiLU(inplace=True)\n",
       "    )\n",
       "    (84): Conv(\n",
       "      (conv): Conv2d(128, 128, kernel_size=(3, 3), stride=(1, 1), padding=(1, 1))\n",
       "      (act): SiLU(inplace=True)\n",
       "    )\n",
       "    (85): Conv(\n",
       "      (conv): Conv2d(128, 128, kernel_size=(3, 3), stride=(1, 1), padding=(1, 1))\n",
       "      (act): SiLU(inplace=True)\n",
       "    )\n",
       "    (86): Conv(\n",
       "      (conv): Conv2d(128, 128, kernel_size=(3, 3), stride=(1, 1), padding=(1, 1))\n",
       "      (act): SiLU(inplace=True)\n",
       "    )\n",
       "    (87): Concat()\n",
       "    (88): Conv(\n",
       "      (conv): Conv2d(1024, 256, kernel_size=(1, 1), stride=(1, 1))\n",
       "      (act): SiLU(inplace=True)\n",
       "    )\n",
       "    (89): MP(\n",
       "      (m): MaxPool2d(kernel_size=2, stride=2, padding=0, dilation=1, ceil_mode=False)\n",
       "    )\n",
       "    (90): Conv(\n",
       "      (conv): Conv2d(256, 256, kernel_size=(1, 1), stride=(1, 1))\n",
       "      (act): SiLU(inplace=True)\n",
       "    )\n",
       "    (91): Conv(\n",
       "      (conv): Conv2d(256, 256, kernel_size=(1, 1), stride=(1, 1))\n",
       "      (act): SiLU(inplace=True)\n",
       "    )\n",
       "    (92): Conv(\n",
       "      (conv): Conv2d(256, 256, kernel_size=(3, 3), stride=(2, 2), padding=(1, 1))\n",
       "      (act): SiLU(inplace=True)\n",
       "    )\n",
       "    (93): Concat()\n",
       "    (94): Conv(\n",
       "      (conv): Conv2d(1024, 512, kernel_size=(1, 1), stride=(1, 1))\n",
       "      (act): SiLU(inplace=True)\n",
       "    )\n",
       "    (95): Conv(\n",
       "      (conv): Conv2d(1024, 512, kernel_size=(1, 1), stride=(1, 1))\n",
       "      (act): SiLU(inplace=True)\n",
       "    )\n",
       "    (96): Conv(\n",
       "      (conv): Conv2d(512, 256, kernel_size=(3, 3), stride=(1, 1), padding=(1, 1))\n",
       "      (act): SiLU(inplace=True)\n",
       "    )\n",
       "    (97): Conv(\n",
       "      (conv): Conv2d(256, 256, kernel_size=(3, 3), stride=(1, 1), padding=(1, 1))\n",
       "      (act): SiLU(inplace=True)\n",
       "    )\n",
       "    (98): Conv(\n",
       "      (conv): Conv2d(256, 256, kernel_size=(3, 3), stride=(1, 1), padding=(1, 1))\n",
       "      (act): SiLU(inplace=True)\n",
       "    )\n",
       "    (99): Conv(\n",
       "      (conv): Conv2d(256, 256, kernel_size=(3, 3), stride=(1, 1), padding=(1, 1))\n",
       "      (act): SiLU(inplace=True)\n",
       "    )\n",
       "    (100): Concat()\n",
       "    (101): Conv(\n",
       "      (conv): Conv2d(2048, 512, kernel_size=(1, 1), stride=(1, 1))\n",
       "      (act): SiLU(inplace=True)\n",
       "    )\n",
       "    (102): RepConv(\n",
       "      (act): SiLU(inplace=True)\n",
       "      (rbr_reparam): Conv2d(128, 256, kernel_size=(3, 3), stride=(1, 1), padding=(1, 1))\n",
       "    )\n",
       "    (103): RepConv(\n",
       "      (act): SiLU(inplace=True)\n",
       "      (rbr_reparam): Conv2d(256, 512, kernel_size=(3, 3), stride=(1, 1), padding=(1, 1))\n",
       "    )\n",
       "    (104): RepConv(\n",
       "      (act): SiLU(inplace=True)\n",
       "      (rbr_reparam): Conv2d(512, 1024, kernel_size=(3, 3), stride=(1, 1), padding=(1, 1))\n",
       "    )\n",
       "    (105): IDetect(\n",
       "      (m): ModuleList(\n",
       "        (0): Conv2d(256, 18, kernel_size=(1, 1), stride=(1, 1))\n",
       "        (1): Conv2d(512, 18, kernel_size=(1, 1), stride=(1, 1))\n",
       "        (2): Conv2d(1024, 18, kernel_size=(1, 1), stride=(1, 1))\n",
       "      )\n",
       "      (ia): ModuleList(\n",
       "        (0): ImplicitA()\n",
       "        (1): ImplicitA()\n",
       "        (2): ImplicitA()\n",
       "      )\n",
       "      (im): ModuleList(\n",
       "        (0): ImplicitM()\n",
       "        (1): ImplicitM()\n",
       "        (2): ImplicitM()\n",
       "      )\n",
       "    )\n",
       "  )\n",
       ")"
      ]
     },
     "execution_count": 3,
     "metadata": {},
     "output_type": "execute_result"
    }
   ],
   "source": [
    "from models.experimental import attempt_load\n",
    "weights = \"/mnt/disk1/nguyen.thanh.huyenb/yolov7_train/YOLOv7/base_weights/epoch_002.pt\"\n",
    "model = attempt_load(weights, map_location=device) \n",
    "model.eval()"
   ]
  },
  {
   "cell_type": "code",
   "execution_count": 4,
   "metadata": {},
   "outputs": [
    {
     "data": {
      "text/plain": [
       "(['polyp'], [[73, 59, 18]])"
      ]
     },
     "execution_count": 4,
     "metadata": {},
     "output_type": "execute_result"
    }
   ],
   "source": [
    "stride = int(model.stride.max()) \n",
    "stride\n",
    "names = model.module.names if hasattr(model, 'module') else model.names\n",
    "colors = [[random.randint(0, 255) for _ in range(3)] for _ in names]\n",
    "names, colors"
   ]
  },
  {
   "cell_type": "code",
   "execution_count": 5,
   "metadata": {},
   "outputs": [
    {
     "data": {
      "text/plain": [
       "1.0"
      ]
     },
     "execution_count": 5,
     "metadata": {},
     "output_type": "execute_result"
    }
   ],
   "source": [
    "model.gr"
   ]
  },
  {
   "attachments": {},
   "cell_type": "markdown",
   "metadata": {},
   "source": [
    "## Load image"
   ]
  },
  {
   "cell_type": "code",
   "execution_count": 14,
   "metadata": {},
   "outputs": [],
   "source": [
    "from utils.datasets import letterbox\n",
    "from utils.general import scale_coords, non_max_suppression\n",
    "from utils.semi_psuedo_label_process import non_max_suppression_pseudo_decouple, non_max_suppression_pseudo_decouple_multi_view, xyxy2xywhn\n"
   ]
  },
  {
   "cell_type": "code",
   "execution_count": 15,
   "metadata": {},
   "outputs": [],
   "source": [
    "# 3_244, 160,\n",
    "paths = ['/mnt/disk1/nguyen.thanh.huyenb/PolypsSet/PolypsSet/train2019/images/12303.jpg', '/mnt/disk1/nguyen.thanh.huyenb/PolypsSet/PolypsSet/train2019/images/22037.jpg', '/mnt/disk1/nguyen.thanh.huyenb/PolypsSet/PolypsSet/train2019/images/16006.jpg', '/mnt/disk1/nguyen.thanh.huyenb/PolypsSet/PolypsSet/train2019/images/13021.jpg', '/mnt/disk1/nguyen.thanh.huyenb/PolypsSet/PolypsSet/train2019/images/22438.jpg', '/mnt/disk1/nguyen.thanh.huyenb/PolypsSet/PolypsSet/train2019/images/21530.jpg', '/mnt/disk1/nguyen.thanh.huyenb/PolypsSet/PolypsSet/train2019/images/5966.jpg', '/mnt/disk1/nguyen.thanh.huyenb/PolypsSet/PolypsSet/train2019/images/11259.jpg', '/mnt/disk1/nguyen.thanh.huyenb/PolypsSet/PolypsSet/train2019/images/19036.jpg', '/mnt/disk1/nguyen.thanh.huyenb/PolypsSet/PolypsSet/train2019/images/14941.jpg', '/mnt/disk1/nguyen.thanh.huyenb/PolypsSet/PolypsSet/train2019/images/14393.jpg', '/mnt/disk1/nguyen.thanh.huyenb/PolypsSet/PolypsSet/train2019/images/2714.jpg', '/mnt/disk1/nguyen.thanh.huyenb/PolypsSet/PolypsSet/train2019/images/8063.jpg', '/mnt/disk1/nguyen.thanh.huyenb/PolypsSet/PolypsSet/train2019/images/2500.jpg', '/mnt/disk1/nguyen.thanh.huyenb/PolypsSet/PolypsSet/train2019/images/28623.jpg', '/mnt/disk1/nguyen.thanh.huyenb/PolypsSet/PolypsSet/train2019/images/1564.jpg']"
   ]
  },
  {
   "cell_type": "code",
   "execution_count": 16,
   "metadata": {},
   "outputs": [
    {
     "name": "stdout",
     "output_type": "stream",
     "text": [
      "/mnt/disk1/nguyen.thanh.huyenb/PolypsSet/PolypsSet/train2019/images/11141.jpg\n"
     ]
    },
    {
     "data": {
      "text/plain": [
       "array([[[0, 0, 0],\n",
       "        [0, 0, 0],\n",
       "        [0, 0, 0],\n",
       "        ...,\n",
       "        [0, 0, 0],\n",
       "        [0, 0, 0],\n",
       "        [0, 0, 0]],\n",
       "\n",
       "       [[0, 0, 0],\n",
       "        [0, 0, 0],\n",
       "        [0, 0, 0],\n",
       "        ...,\n",
       "        [0, 0, 0],\n",
       "        [0, 0, 0],\n",
       "        [0, 0, 0]],\n",
       "\n",
       "       [[0, 0, 0],\n",
       "        [0, 0, 0],\n",
       "        [0, 0, 0],\n",
       "        ...,\n",
       "        [0, 0, 0],\n",
       "        [0, 0, 0],\n",
       "        [0, 0, 0]],\n",
       "\n",
       "       ...,\n",
       "\n",
       "       [[0, 0, 0],\n",
       "        [0, 0, 0],\n",
       "        [0, 0, 0],\n",
       "        ...,\n",
       "        [0, 0, 0],\n",
       "        [0, 0, 0],\n",
       "        [0, 0, 0]],\n",
       "\n",
       "       [[0, 0, 0],\n",
       "        [0, 0, 0],\n",
       "        [0, 0, 0],\n",
       "        ...,\n",
       "        [0, 0, 0],\n",
       "        [0, 0, 0],\n",
       "        [0, 0, 0]],\n",
       "\n",
       "       [[0, 0, 0],\n",
       "        [0, 0, 0],\n",
       "        [0, 0, 0],\n",
       "        ...,\n",
       "        [0, 0, 0],\n",
       "        [0, 0, 0],\n",
       "        [0, 0, 0]]], dtype=uint8)"
      ]
     },
     "execution_count": 16,
     "metadata": {},
     "output_type": "execute_result"
    }
   ],
   "source": [
    "image_path = \"/mnt/disk1/nguyen.thanh.huyenb/PolypsSet/PolypsSet/valid/images/1_161.jpg\"\n",
    "# image_path = path[3]\n",
    "# image_path = \"/mnt/disk1/nguyen.thanh.huyenb/PolypsSet/PolypsSet/train2019/images/1564.jpg\"\n",
    "# image_path = paths[-1]\n",
    "# image_path = \"/mnt/disk1/nguyen.thanh.huyenb/PolypsSet/PolypsSet/train2019/images/21210.jpg\"\n",
    "image_path = \"/mnt/disk1/nguyen.thanh.huyenb/PolypsSet/PolypsSet/train2019/images/11141.jpg\" # too small\n",
    "print(image_path)\n",
    "image0 = cv2.imread(image_path)\n",
    "image0.shape\n",
    "image0"
   ]
  },
  {
   "cell_type": "code",
   "execution_count": 17,
   "metadata": {},
   "outputs": [
    {
     "data": {
      "text/plain": [
       "(3, 480, 640)"
      ]
     },
     "execution_count": 17,
     "metadata": {},
     "output_type": "execute_result"
    }
   ],
   "source": [
    "image = letterbox(image0, (640, 640), stride=stride)[0]\n",
    "image = image[:, :, ::-1].transpose(2, 0, 1)  # BGR to RGB, to 3x416x416\n",
    "image = np.ascontiguousarray(image)\n",
    "image.shape"
   ]
  },
  {
   "cell_type": "code",
   "execution_count": 18,
   "metadata": {},
   "outputs": [
    {
     "data": {
      "text/plain": [
       "tensor([[[[0., 0., 0.,  ..., 0., 0., 0.],\n",
       "          [0., 0., 0.,  ..., 0., 0., 0.],\n",
       "          [0., 0., 0.,  ..., 0., 0., 0.],\n",
       "          ...,\n",
       "          [0., 0., 0.,  ..., 0., 0., 0.],\n",
       "          [0., 0., 0.,  ..., 0., 0., 0.],\n",
       "          [0., 0., 0.,  ..., 0., 0., 0.]],\n",
       "\n",
       "         [[0., 0., 0.,  ..., 0., 0., 0.],\n",
       "          [0., 0., 0.,  ..., 0., 0., 0.],\n",
       "          [0., 0., 0.,  ..., 0., 0., 0.],\n",
       "          ...,\n",
       "          [0., 0., 0.,  ..., 0., 0., 0.],\n",
       "          [0., 0., 0.,  ..., 0., 0., 0.],\n",
       "          [0., 0., 0.,  ..., 0., 0., 0.]],\n",
       "\n",
       "         [[0., 0., 0.,  ..., 0., 0., 0.],\n",
       "          [0., 0., 0.,  ..., 0., 0., 0.],\n",
       "          [0., 0., 0.,  ..., 0., 0., 0.],\n",
       "          ...,\n",
       "          [0., 0., 0.,  ..., 0., 0., 0.],\n",
       "          [0., 0., 0.,  ..., 0., 0., 0.],\n",
       "          [0., 0., 0.,  ..., 0., 0., 0.]]]], device='cuda:0')"
      ]
     },
     "execution_count": 18,
     "metadata": {},
     "output_type": "execute_result"
    }
   ],
   "source": [
    "image = torch.from_numpy(image).to(device).float()\n",
    "image /= 255.0\n",
    "image = image.unsqueeze(0)\n",
    "image"
   ]
  },
  {
   "cell_type": "code",
   "execution_count": 19,
   "metadata": {},
   "outputs": [
    {
     "data": {
      "text/plain": [
       "(torch.Size([1, 18900, 6]), torch.Size([1, 42525, 6]))"
      ]
     },
     "execution_count": 19,
     "metadata": {},
     "output_type": "execute_result"
    }
   ],
   "source": [
    "with torch.no_grad():   # Calculating gradients would cause a GPU memory leak\n",
    "    out = model(image)\n",
    "with torch.no_grad():   # Calculating gradients would cause a GPU memory leak\n",
    "    out_augment = model(image, augment=True)\n",
    "out[0].shape, out_augment[0].shape"
   ]
  },
  {
   "cell_type": "code",
   "execution_count": 20,
   "metadata": {},
   "outputs": [
    {
     "name": "stdout",
     "output_type": "stream",
     "text": [
      "[tensor([[2.55444e+02, 2.70138e+02, 4.72945e+02, 4.70218e+02, 4.65297e-02, 0.00000e+00],\n",
      "        [1.53655e+02, 7.92975e+01, 2.58119e+02, 1.68929e+02, 4.07364e-02, 0.00000e+00],\n",
      "        [1.80677e+02, 2.47152e+02, 2.77451e+02, 3.44350e+02, 2.82048e-02, 0.00000e+00],\n",
      "        [2.53760e+02, 1.65212e+02, 4.18308e+02, 3.23871e+02, 2.57655e-02, 0.00000e+00],\n",
      "        [3.02135e+02, 1.47237e+02, 4.34472e+02, 2.55250e+02, 2.38604e-02, 0.00000e+00],\n",
      "        [2.73790e+02, 1.20666e+02, 4.10652e+02, 2.28049e+02, 1.78420e-02, 0.00000e+00],\n",
      "        [2.90480e+02, 2.52042e+02, 4.48096e+02, 3.75615e+02, 1.05000e-02, 0.00000e+00]], device='cuda:0')]\n",
      "polyp 0.01\n",
      "polyp 0.02\n",
      "polyp 0.02\n",
      "polyp 0.03\n",
      "polyp 0.03\n",
      "polyp 0.04\n",
      "polyp 0.05\n",
      "[tensor([[2.55444e+02, 2.70138e+02, 4.72945e+02, 4.70218e+02, 4.65297e-02, 0.00000e+00],\n",
      "        [1.53655e+02, 7.92975e+01, 2.58119e+02, 1.68929e+02, 4.07364e-02, 0.00000e+00],\n",
      "        [3.83589e+02, 1.41466e+02, 5.40081e+02, 2.81938e+02, 3.72221e-02, 0.00000e+00],\n",
      "        [2.71829e+02, 2.22807e+02, 4.28299e+02, 3.42429e+02, 3.69646e-02, 0.00000e+00],\n",
      "        [1.80677e+02, 2.47152e+02, 2.77451e+02, 3.44350e+02, 2.82048e-02, 0.00000e+00],\n",
      "        [2.58877e+02, 1.38196e+02, 4.26399e+02, 2.81645e+02, 2.38742e-02, 0.00000e+00],\n",
      "        [3.08245e+02, 1.36823e+02, 4.20986e+02, 2.27014e+02, 2.16023e-02, 0.00000e+00],\n",
      "        [9.70542e+01, 1.33309e+02, 3.77806e+02, 3.81797e+02, 1.65746e-02, 0.00000e+00],\n",
      "        [2.87966e+02, 1.50565e+02, 5.23268e+02, 3.43799e+02, 1.33631e-02, 0.00000e+00],\n",
      "        [3.38593e+02, 1.55125e+02, 4.50110e+02, 2.50583e+02, 1.30393e-02, 0.00000e+00]], device='cuda:0')]\n",
      "polyp 0.01\n",
      "polyp 0.01\n",
      "polyp 0.02\n",
      "polyp 0.02\n",
      "polyp 0.02\n",
      "polyp 0.03\n",
      "polyp 0.04\n",
      "polyp 0.04\n",
      "polyp 0.04\n",
      "polyp 0.05\n"
     ]
    }
   ],
   "source": [
    "\n",
    "def draw_image(out, image, image0, filename=\"out.png\"):\n",
    "    pred = non_max_suppression(out[0], conf_thres=0.01)\n",
    "    print(pred)\n",
    "    det = pred[0]\n",
    "    det[:, :4] = scale_coords(image.shape[2:], det[:, :4], image0.shape).round()\n",
    "   \n",
    "    for *xyxy, conf, cls in reversed(det):\n",
    "        # Convert xyxy format to xywh format\n",
    "        xyxy = [int(i.cpu()) for i in xyxy]\n",
    "        x, y, w, h =  xyxy[0], xyxy[1], xyxy[2]-xyxy[0], xyxy[3]-xyxy[1]\n",
    "\n",
    "        # Draw the bounding box on the image\n",
    "        image0 = cv2.rectangle(image0, (x, y), (x+w, y+h), (0, 255, 0), 1)\n",
    "        text = f\"{names[int(cls)]}: {conf:.2f}\"\n",
    "        image0 = cv2.putText(image0, text, (x, y-5), cv2.FONT_HERSHEY_SIMPLEX, 0.25, (0, 255, 0), 1)\n",
    "        label = f'{names[int(cls)]} {conf:.2f}'\n",
    "        print(label)\n",
    "    cv2.imwrite(filename, image0)\n",
    "   \n",
    "\n",
    "draw_image(out, image, image0, \"out.png\")\n",
    "draw_image(out_augment, image, image0, \"out_aug.png\")"
   ]
  },
  {
   "attachments": {},
   "cell_type": "markdown",
   "metadata": {},
   "source": [
    "## Dataloader"
   ]
  },
  {
   "cell_type": "code",
   "execution_count": 109,
   "metadata": {},
   "outputs": [],
   "source": [
    "from utils.datasets import create_dataloader\n",
    "from utils.datasets import LoadImagesAndLabels\n",
    "from utils.datasets_semi import LoadImagesAndLabelsSemi\n",
    "from utils.plots import plot_images\n",
    "import yaml\n",
    "from utils.general import check_img_size\n",
    "import os"
   ]
  },
  {
   "cell_type": "code",
   "execution_count": 216,
   "metadata": {},
   "outputs": [
    {
     "data": {
      "text/plain": [
       "(640, 640)"
      ]
     },
     "execution_count": 216,
     "metadata": {},
     "output_type": "execute_result"
    }
   ],
   "source": [
    "path = \"/mnt/disk1/nguyen.thanh.huyenb/PolypsSet/Semi_PolypsSet/semi_1_labels_fold_2_percent_10/train2019.2@10-unlabeled.json\"\n",
    "img_size = [640,640]\n",
    "rect = False\n",
    "batch_size = 4\n",
    "augment=True\n",
    "cache=False\n",
    "pad=0.0\n",
    "rect=False\n",
    "stride=32             \n",
    "rank=-1\n",
    "world_size=1\n",
    "workers=8\n",
    "image_weights=False\n",
    "quad=False\n",
    "prefix=''\n",
    "gs = stride = 32\n",
    "imgsz,imgsz_test = [check_img_size(x, gs) for x in img_size]\n",
    "imgsz,imgsz_test"
   ]
  },
  {
   "cell_type": "code",
   "execution_count": 217,
   "metadata": {},
   "outputs": [],
   "source": [
    "def load_hyperparameter(hyp_path):\n",
    "        \"\"\"Hyperparameters\"\"\"\n",
    "        with open(hyp_path) as f:\n",
    "            hyp = yaml.load(f, Loader=yaml.SafeLoader)\n",
    "        return hyp\n",
    "hyp = load_hyperparameter(\"/mnt/disk1/nguyen.thanh.huyenb/yolov7_train/data/hyp.scratch.p5.yaml\")\n",
    "hyp[\"mosaic\"] = 0"
   ]
  },
  {
   "cell_type": "code",
   "execution_count": 218,
   "metadata": {},
   "outputs": [
    {
     "name": "stdout",
     "output_type": "stream",
     "text": [
      "loading annotations into memory...\n",
      "Done (t=0.26s)\n",
      "creating index...\n",
      "index created!\n",
      "/mnt/disk1/nguyen.thanh.huyenb/PolypsSet/PolypsSet/train2019/labels/1.txt\n",
      "/mnt/disk1/nguyen.thanh.huyenb/PolypsSet/Semi_PolypsSet/semi_1_labels_fold_2_percent_10/train2019.2@10-unlabeled.json\n",
      "/mnt/disk1/nguyen.thanh.huyenb/PolypsSet/Semi_PolypsSet/semi_1_labels_fold_2_percent_10/train2019.2@10-unlabeled.cache\n"
     ]
    },
    {
     "name": "stderr",
     "output_type": "stream",
     "text": [
      "Scanning '/mnt/disk1/nguyen.thanh.huyenb/PolypsSet/Semi_PolypsSet/semi_1_labels_fold_2_percent_10/train2019.2@10-unlabeled.cache' images and labels... 26015 found, 0 missing, 1540 empty, 0 corrupted: 100%|██████████| 26015/26015 [00:00<?, ?it/s]\n"
     ]
    }
   ],
   "source": [
    "dataset = LoadImagesAndLabelsSemi(path, imgsz, batch_size,\n",
    "                                      augment=True,  # augment images\n",
    "                                      hyp=hyp,  # augmentation hyperparameters\n",
    "                                      rect=rect,  # rectangular training\n",
    "                                      cache_images=cache,\n",
    "                                      single_cls=True,\n",
    "                                      stride=int(stride),\n",
    "                                      pad=pad,\n",
    "                                      mosaic=True,\n",
    "                                      image_weights=image_weights,\n",
    "                                      prefix=prefix)"
   ]
  },
  {
   "cell_type": "code",
   "execution_count": 219,
   "metadata": {},
   "outputs": [],
   "source": [
    "from utils.datasets import InfiniteDataLoader\n",
    "\n",
    "batch_size = min(batch_size, len(dataset))\n",
    "nw = min([os.cpu_count() // world_size, batch_size if batch_size > 1 else 0, workers])  # number of workers\n",
    "sampler = torch.utils.data.distributed.DistributedSampler(dataset) if rank != -1 else None\n",
    "loader = torch.utils.data.DataLoader if image_weights else InfiniteDataLoader\n",
    "# Use torch.utils.data.DataLoader() if dataset.properties will update during training else InfiniteDataLoader()\n",
    "dataloader = loader(dataset,\n",
    "                    batch_size=batch_size,\n",
    "                    num_workers=nw,\n",
    "                    sampler=sampler,\n",
    "                    pin_memory=True,\n",
    "                    shuffle=True,\n",
    "                    collate_fn=LoadImagesAndLabelsSemi.collate_fn4 if quad else LoadImagesAndLabelsSemi.collate_fn)"
   ]
  },
  {
   "cell_type": "code",
   "execution_count": 220,
   "metadata": {},
   "outputs": [
    {
     "data": {
      "text/plain": [
       "(tensor([[0.00000, 0.00000, 0.55382, 0.40147, 0.14958, 0.14842],\n",
       "         [1.00000, 0.00000, 0.42410, 0.59895, 0.17713, 0.18930],\n",
       "         [2.00000, 0.00000, 0.47481, 0.58270, 0.04930, 0.04930],\n",
       "         [3.00000, 0.00000, 0.51383, 0.26174, 0.40279, 0.50021]]),\n",
       " ['/mnt/disk1/nguyen.thanh.huyenb/PolypsSet/PolypsSet/train2019/images/16741.jpg',\n",
       "  '/mnt/disk1/nguyen.thanh.huyenb/PolypsSet/PolypsSet/train2019/images/3495.jpg',\n",
       "  '/mnt/disk1/nguyen.thanh.huyenb/PolypsSet/PolypsSet/train2019/images/633.jpg',\n",
       "  '/mnt/disk1/nguyen.thanh.huyenb/PolypsSet/PolypsSet/train2019/images/9520.jpg'])"
      ]
     },
     "execution_count": 220,
     "metadata": {},
     "output_type": "execute_result"
    }
   ],
   "source": [
    "# img, labels_out, path, shapes =  next(iter(dataloader))\n",
    "label_imgs, label_targets, path, shape =  next(iter(dataloader))\n",
    "(img, img_strong) = label_imgs \n",
    "labels_out = label_targets\n",
    "plot_images(img, labels_out, path, \"images.jpg\")\n",
    "labels_out, path"
   ]
  },
  {
   "cell_type": "code",
   "execution_count": 221,
   "metadata": {},
   "outputs": [
    {
     "data": {
      "text/plain": [
       "tensor([[[[0.44706, 0.44706, 0.44706,  ..., 0.44706, 0.44706, 0.44706],\n",
       "          [0.44706, 0.44706, 0.44706,  ..., 0.44706, 0.44706, 0.44706],\n",
       "          [0.44706, 0.44706, 0.44706,  ..., 0.44706, 0.44706, 0.44706],\n",
       "          ...,\n",
       "          [0.44706, 0.44706, 0.44706,  ..., 0.44706, 0.44706, 0.44706],\n",
       "          [0.44706, 0.44706, 0.44706,  ..., 0.44706, 0.44706, 0.44706],\n",
       "          [0.44706, 0.44706, 0.44706,  ..., 0.44706, 0.44706, 0.44706]],\n",
       "\n",
       "         [[0.44706, 0.44706, 0.44706,  ..., 0.44706, 0.44706, 0.44706],\n",
       "          [0.44706, 0.44706, 0.44706,  ..., 0.44706, 0.44706, 0.44706],\n",
       "          [0.44706, 0.44706, 0.44706,  ..., 0.44706, 0.44706, 0.44706],\n",
       "          ...,\n",
       "          [0.44706, 0.44706, 0.44706,  ..., 0.44706, 0.44706, 0.44706],\n",
       "          [0.44706, 0.44706, 0.44706,  ..., 0.44706, 0.44706, 0.44706],\n",
       "          [0.44706, 0.44706, 0.44706,  ..., 0.44706, 0.44706, 0.44706]],\n",
       "\n",
       "         [[0.44706, 0.44706, 0.44706,  ..., 0.44706, 0.44706, 0.44706],\n",
       "          [0.44706, 0.44706, 0.44706,  ..., 0.44706, 0.44706, 0.44706],\n",
       "          [0.44706, 0.44706, 0.44706,  ..., 0.44706, 0.44706, 0.44706],\n",
       "          ...,\n",
       "          [0.44706, 0.44706, 0.44706,  ..., 0.44706, 0.44706, 0.44706],\n",
       "          [0.44706, 0.44706, 0.44706,  ..., 0.44706, 0.44706, 0.44706],\n",
       "          [0.44706, 0.44706, 0.44706,  ..., 0.44706, 0.44706, 0.44706]]],\n",
       "\n",
       "\n",
       "        [[[0.44706, 0.44706, 0.44706,  ..., 0.44706, 0.44706, 0.44706],\n",
       "          [0.44706, 0.44706, 0.44706,  ..., 0.44706, 0.44706, 0.44706],\n",
       "          [0.44706, 0.44706, 0.44706,  ..., 0.44706, 0.44706, 0.44706],\n",
       "          ...,\n",
       "          [0.44706, 0.44706, 0.44706,  ..., 0.00000, 0.00000, 0.00000],\n",
       "          [0.44706, 0.44706, 0.44706,  ..., 0.00000, 0.00000, 0.00000],\n",
       "          [0.44706, 0.44706, 0.44706,  ..., 0.00000, 0.00000, 0.00000]],\n",
       "\n",
       "         [[0.44706, 0.44706, 0.44706,  ..., 0.44706, 0.44706, 0.44706],\n",
       "          [0.44706, 0.44706, 0.44706,  ..., 0.44706, 0.44706, 0.44706],\n",
       "          [0.44706, 0.44706, 0.44706,  ..., 0.44706, 0.44706, 0.44706],\n",
       "          ...,\n",
       "          [0.44706, 0.44706, 0.44706,  ..., 0.00000, 0.00000, 0.00000],\n",
       "          [0.44706, 0.44706, 0.44706,  ..., 0.00000, 0.00000, 0.00000],\n",
       "          [0.44706, 0.44706, 0.44706,  ..., 0.00000, 0.00000, 0.00000]],\n",
       "\n",
       "         [[0.44706, 0.44706, 0.44706,  ..., 0.44706, 0.44706, 0.44706],\n",
       "          [0.44706, 0.44706, 0.44706,  ..., 0.44706, 0.44706, 0.44706],\n",
       "          [0.44706, 0.44706, 0.44706,  ..., 0.44706, 0.44706, 0.44706],\n",
       "          ...,\n",
       "          [0.44706, 0.44706, 0.44706,  ..., 0.00000, 0.00000, 0.00000],\n",
       "          [0.44706, 0.44706, 0.44706,  ..., 0.00000, 0.00000, 0.00000],\n",
       "          [0.44706, 0.44706, 0.44706,  ..., 0.00000, 0.00000, 0.00000]]],\n",
       "\n",
       "\n",
       "        [[[0.44706, 0.44706, 0.44706,  ..., 0.44706, 0.44706, 0.44706],\n",
       "          [0.44706, 0.44706, 0.44706,  ..., 0.44706, 0.44706, 0.44706],\n",
       "          [0.44706, 0.44706, 0.44706,  ..., 0.44706, 0.44706, 0.44706],\n",
       "          ...,\n",
       "          [0.44706, 0.44706, 0.44706,  ..., 0.44706, 0.44706, 0.44706],\n",
       "          [0.44706, 0.44706, 0.44706,  ..., 0.44706, 0.44706, 0.44706],\n",
       "          [0.44706, 0.44706, 0.44706,  ..., 0.44706, 0.44706, 0.44706]],\n",
       "\n",
       "         [[0.44706, 0.44706, 0.44706,  ..., 0.44706, 0.44706, 0.44706],\n",
       "          [0.44706, 0.44706, 0.44706,  ..., 0.44706, 0.44706, 0.44706],\n",
       "          [0.44706, 0.44706, 0.44706,  ..., 0.44706, 0.44706, 0.44706],\n",
       "          ...,\n",
       "          [0.44706, 0.44706, 0.44706,  ..., 0.44706, 0.44706, 0.44706],\n",
       "          [0.44706, 0.44706, 0.44706,  ..., 0.44706, 0.44706, 0.44706],\n",
       "          [0.44706, 0.44706, 0.44706,  ..., 0.44706, 0.44706, 0.44706]],\n",
       "\n",
       "         [[0.44706, 0.44706, 0.44706,  ..., 0.44706, 0.44706, 0.44706],\n",
       "          [0.44706, 0.44706, 0.44706,  ..., 0.44706, 0.44706, 0.44706],\n",
       "          [0.44706, 0.44706, 0.44706,  ..., 0.44706, 0.44706, 0.44706],\n",
       "          ...,\n",
       "          [0.44706, 0.44706, 0.44706,  ..., 0.44706, 0.44706, 0.44706],\n",
       "          [0.44706, 0.44706, 0.44706,  ..., 0.44706, 0.44706, 0.44706],\n",
       "          [0.44706, 0.44706, 0.44706,  ..., 0.44706, 0.44706, 0.44706]]],\n",
       "\n",
       "\n",
       "        [[[0.00000, 0.00000, 0.00000,  ..., 0.44706, 0.44706, 0.44706],\n",
       "          [0.00000, 0.00000, 0.00000,  ..., 0.44706, 0.44706, 0.44706],\n",
       "          [0.00000, 0.00000, 0.00000,  ..., 0.44706, 0.44706, 0.44706],\n",
       "          ...,\n",
       "          [0.44706, 0.44706, 0.44706,  ..., 0.44706, 0.44706, 0.44706],\n",
       "          [0.44706, 0.44706, 0.44706,  ..., 0.44706, 0.44706, 0.44706],\n",
       "          [0.44706, 0.44706, 0.44706,  ..., 0.44706, 0.44706, 0.44706]],\n",
       "\n",
       "         [[0.00000, 0.00000, 0.00000,  ..., 0.44706, 0.44706, 0.44706],\n",
       "          [0.00000, 0.00000, 0.00000,  ..., 0.44706, 0.44706, 0.44706],\n",
       "          [0.00000, 0.00000, 0.00000,  ..., 0.44706, 0.44706, 0.44706],\n",
       "          ...,\n",
       "          [0.44706, 0.44706, 0.44706,  ..., 0.44706, 0.44706, 0.44706],\n",
       "          [0.44706, 0.44706, 0.44706,  ..., 0.44706, 0.44706, 0.44706],\n",
       "          [0.44706, 0.44706, 0.44706,  ..., 0.44706, 0.44706, 0.44706]],\n",
       "\n",
       "         [[0.00000, 0.00000, 0.00000,  ..., 0.44706, 0.44706, 0.44706],\n",
       "          [0.00000, 0.00000, 0.00000,  ..., 0.44706, 0.44706, 0.44706],\n",
       "          [0.00000, 0.00000, 0.00000,  ..., 0.44706, 0.44706, 0.44706],\n",
       "          ...,\n",
       "          [0.44706, 0.44706, 0.44706,  ..., 0.44706, 0.44706, 0.44706],\n",
       "          [0.44706, 0.44706, 0.44706,  ..., 0.44706, 0.44706, 0.44706],\n",
       "          [0.44706, 0.44706, 0.44706,  ..., 0.44706, 0.44706, 0.44706]]]])"
      ]
     },
     "execution_count": 221,
     "metadata": {},
     "output_type": "execute_result"
    }
   ],
   "source": [
    "img = img.float()\n",
    "img /= 255\n",
    "img"
   ]
  },
  {
   "cell_type": "code",
   "execution_count": 222,
   "metadata": {},
   "outputs": [
    {
     "data": {
      "text/plain": [
       "(torch.Size([4, 25200, 6]), torch.Size([4, 55755, 6]))"
      ]
     },
     "execution_count": 222,
     "metadata": {},
     "output_type": "execute_result"
    }
   ],
   "source": [
    "with torch.no_grad():   # Calculating gradients would cause a GPU memory leak\n",
    "    out = model(img.to(device))\n",
    "with torch.no_grad():   # Calculating gradients would cause a GPU memory leak\n",
    "    out_aug = model(img.to(device), augment=True)\n",
    "out[0].shape, out_aug[0].shape"
   ]
  },
  {
   "cell_type": "code",
   "execution_count": 223,
   "metadata": {},
   "outputs": [],
   "source": [
    "conf_thres = 0.05\n",
    "cls_thres = 0.1\n",
    "iod_thres = 0.5"
   ]
  },
  {
   "cell_type": "code",
   "execution_count": 224,
   "metadata": {},
   "outputs": [
    {
     "data": {
      "text/plain": [
       "[tensor([[2.99351e+02, 1.90204e+02, 4.22218e+02, 2.97807e+02, 6.22224e-01, 0.00000e+00],\n",
       "         [1.33132e+02, 1.37697e+02, 3.39819e+02, 3.53421e+02, 1.21538e-01, 0.00000e+00],\n",
       "         [2.63893e+02, 5.36065e+01, 4.75085e+02, 2.98887e+02, 1.09125e-01, 0.00000e+00]], device='cuda:0'),\n",
       " tensor([[2.89632e+02, 2.83420e+02, 5.73448e+02, 5.79217e+02, 5.91744e-02, 0.00000e+00]], device='cuda:0'),\n",
       " tensor([[2.33090e+02, 2.19715e+02, 5.13446e+02, 4.59726e+02, 1.08198e-01, 0.00000e+00]], device='cuda:0'),\n",
       " tensor([[1.96078e+02, 1.28332e+02, 4.00658e+02, 3.35670e+02, 3.07579e-01, 0.00000e+00],\n",
       "         [4.31967e+02, 1.52553e+02, 5.66011e+02, 2.70786e+02, 6.68286e-02, 0.00000e+00]], device='cuda:0')]"
      ]
     },
     "execution_count": 224,
     "metadata": {},
     "output_type": "execute_result"
    }
   ],
   "source": [
    "pred = non_max_suppression(out[0][:, : , :] ,conf_thres=conf_thres, iou_thres=0.5)\n",
    "pred"
   ]
  },
  {
   "cell_type": "code",
   "execution_count": 225,
   "metadata": {},
   "outputs": [
    {
     "data": {
      "text/plain": [
       "([tensor([[2.99351e+02, 1.90204e+02, 4.22218e+02, 2.97807e+02, 6.12622e-01, 0.00000e+00],\n",
       "          [1.33132e+02, 1.37697e+02, 3.39819e+02, 3.53421e+02, 1.19500e-01, 0.00000e+00],\n",
       "          [2.63893e+02, 5.36065e+01, 4.75085e+02, 2.98887e+02, 1.07534e-01, 0.00000e+00]], device='cuda:0'),\n",
       "  tensor([[2.89632e+02, 2.83420e+02, 5.73448e+02, 5.79217e+02, 5.82581e-02, 0.00000e+00]], device='cuda:0'),\n",
       "  tensor([[2.33090e+02, 2.19715e+02, 5.13446e+02, 4.59726e+02, 1.06779e-01, 0.00000e+00]], device='cuda:0'),\n",
       "  tensor([[1.96078e+02, 1.28332e+02, 4.00658e+02, 3.35670e+02, 3.03018e-01, 0.00000e+00],\n",
       "          [4.31967e+02, 1.52553e+02, 5.66011e+02, 2.70786e+02, 6.59390e-02, 0.00000e+00]], device='cuda:0')],\n",
       " [tensor([[299.35110, 190.20398, 422.21829, 297.80676,   0.61262,   0.00000]], device='cuda:0'),\n",
       "  tensor([], device='cuda:0', size=(0, 6)),\n",
       "  tensor([], device='cuda:0', size=(0, 6)),\n",
       "  tensor([[1.96078e+02, 1.28332e+02, 4.00658e+02, 3.35670e+02, 3.03018e-01, 0.00000e+00]], device='cuda:0')])"
      ]
     },
     "execution_count": 225,
     "metadata": {},
     "output_type": "execute_result"
    }
   ],
   "source": [
    "pred1, pred_cls = non_max_suppression_pseudo_decouple(out[0],conf_thres=conf_thres, iou_thres=0.45)\n",
    "pred1, pred_cls"
   ]
  },
  {
   "cell_type": "code",
   "execution_count": 226,
   "metadata": {},
   "outputs": [
    {
     "data": {
      "text/plain": [
       "[tensor([[2.99351e+02, 1.90204e+02, 4.22218e+02, 2.97807e+02, 6.12622e-01, 0.00000e+00],\n",
       "         [1.33132e+02, 1.37697e+02, 3.39819e+02, 3.53421e+02, 1.19500e-01, 0.00000e+00],\n",
       "         [2.63893e+02, 5.36065e+01, 4.75085e+02, 2.98887e+02, 1.07534e-01, 0.00000e+00],\n",
       "         [2.87311e+02, 1.55445e+02, 4.97324e+02, 3.57888e+02, 5.60933e-02, 0.00000e+00]], device='cuda:0'),\n",
       " tensor([[2.89632e+02, 2.83420e+02, 5.73448e+02, 5.79217e+02, 5.82581e-02, 0.00000e+00],\n",
       "         [2.23748e+02, 3.91463e+02, 3.91374e+02, 5.63763e+02, 5.71005e-02, 0.00000e+00],\n",
       "         [1.41882e+02, 3.00451e+02, 4.08325e+02, 5.85907e+02, 5.40932e-02, 0.00000e+00]], device='cuda:0'),\n",
       " tensor([[2.33090e+02, 2.19715e+02, 5.13446e+02, 4.59726e+02, 1.06779e-01, 0.00000e+00]], device='cuda:0'),\n",
       " tensor([[1.96078e+02, 1.28332e+02, 4.00658e+02, 3.35670e+02, 3.03018e-01, 0.00000e+00],\n",
       "         [4.31967e+02, 1.52553e+02, 5.66011e+02, 2.70786e+02, 6.59390e-02, 0.00000e+00]], device='cuda:0')]"
      ]
     },
     "execution_count": 226,
     "metadata": {},
     "output_type": "execute_result"
    }
   ],
   "source": [
    "pred1_aug, _ = non_max_suppression_pseudo_decouple(out_aug[0],conf_thres=conf_thres, iou_thres=0.45)\n",
    "pred1_aug"
   ]
  },
  {
   "cell_type": "code",
   "execution_count": 227,
   "metadata": {},
   "outputs": [
    {
     "data": {
      "text/plain": [
       "tensor([[0.00000, 0.00000, 0.56443, 0.34831, 0.19222, 0.21478, 0.62222],\n",
       "        [0.00000, 0.00000, 0.36995, 0.35142, 0.32335, 0.43059, 0.12154],\n",
       "        [0.00000, 0.00000, 0.57804, 0.22893, 0.33040, 0.45786, 0.10912],\n",
       "        [1.00000, 0.00000, 0.67428, 0.71190, 0.44346, 0.57621, 0.05917],\n",
       "        [2.00000, 0.00000, 0.58323, 0.54108, 0.43806, 0.50002, 0.10820],\n",
       "        [3.00000, 0.00000, 0.46620, 0.31667, 0.31966, 0.43196, 0.30758],\n",
       "        [3.00000, 0.00000, 0.77967, 0.27431, 0.20944, 0.24632, 0.06683]], device='cuda:0')"
      ]
     },
     "execution_count": 227,
     "metadata": {},
     "output_type": "execute_result"
    }
   ],
   "source": [
    "from utils.general import xyxy2xywh\n",
    "from copy import deepcopy\n",
    "def convert_output_to_label(imgs, preds, shapes):\n",
    "    labels = torch.zeros(0, 7).to(device)\n",
    "   \n",
    "    for i, pred in enumerate(preds):\n",
    "        label = torch.zeros(len(pred), 7).to(device)\n",
    "        h0, w0  = shapes[i][0]\n",
    "        box = scale_coords(imgs[i].shape[:2], pred[:, 0:4], shape[i][0], shape[i][1]).round()\n",
    "        box = xyxy2xywhn(pred[:, 0:4], w0, h0)\n",
    "        label[:, 0] = i\n",
    "        label[:, 1] = pred[:, 5]\n",
    "        label[:, 2:6] = box\n",
    "        label[:, 6] = pred[:, 4]\n",
    "        labels = torch.cat([labels, label])\n",
    "    \n",
    "    return labels\n",
    "\n",
    "pseudo_label = convert_output_to_label(img, pred, shape)\n",
    "pseudo_label"
   ]
  },
  {
   "cell_type": "code",
   "execution_count": 228,
   "metadata": {},
   "outputs": [
    {
     "data": {
      "text/plain": [
       "(tensor([[0.00000, 0.00000, 0.56443, 0.34831, 0.19222, 0.21478, 0.61262],\n",
       "         [0.00000, 0.00000, 0.36995, 0.35142, 0.32335, 0.43059, 0.11950],\n",
       "         [0.00000, 0.00000, 0.57804, 0.22893, 0.33040, 0.45786, 0.10753],\n",
       "         [1.00000, 0.00000, 0.67428, 0.71190, 0.44346, 0.57621, 0.05826],\n",
       "         [2.00000, 0.00000, 0.58323, 0.54108, 0.43806, 0.50002, 0.10678],\n",
       "         [3.00000, 0.00000, 0.46620, 0.31667, 0.31966, 0.43196, 0.30302],\n",
       "         [3.00000, 0.00000, 0.77967, 0.27431, 0.20944, 0.24632, 0.06594]], device='cuda:0'),\n",
       " tensor([[0.00000, 0.00000, 0.56443, 0.34831, 0.19222, 0.21478, 0.61262],\n",
       "         [0.00000, 0.00000, 0.36995, 0.35142, 0.32335, 0.43059, 0.11950],\n",
       "         [0.00000, 0.00000, 0.57804, 0.22893, 0.33040, 0.45786, 0.10753],\n",
       "         [0.00000, 0.00000, 0.61376, 0.37359, 0.32855, 0.40408, 0.05609],\n",
       "         [1.00000, 0.00000, 0.67428, 0.71190, 0.44346, 0.57621, 0.05826],\n",
       "         [1.00000, 0.00000, 0.48056, 0.82444, 0.26191, 0.35112, 0.05710],\n",
       "         [1.00000, 0.00000, 0.42985, 0.72964, 0.41632, 0.54073, 0.05409],\n",
       "         [2.00000, 0.00000, 0.58323, 0.54108, 0.43806, 0.50002, 0.10678],\n",
       "         [3.00000, 0.00000, 0.46620, 0.31667, 0.31966, 0.43196, 0.30302],\n",
       "         [3.00000, 0.00000, 0.77967, 0.27431, 0.20944, 0.24632, 0.06594]], device='cuda:0'))"
      ]
     },
     "execution_count": 228,
     "metadata": {},
     "output_type": "execute_result"
    }
   ],
   "source": [
    "pseudo_label1 = convert_output_to_label(img, pred1, shape)\n",
    "pseudo_label1_aug = convert_output_to_label(img, pred1_aug, shape)\n",
    "pseudo_label1_cls = convert_output_to_label(img, pred_cls, shape)\n",
    "pseudo_label1, pseudo_label1_aug"
   ]
  },
  {
   "cell_type": "code",
   "execution_count": 229,
   "metadata": {},
   "outputs": [
    {
     "data": {
      "text/plain": [
       "array([[[255, 255, 255],\n",
       "        [255, 255, 255],\n",
       "        [255, 255, 255],\n",
       "        ...,\n",
       "        [255, 255, 255],\n",
       "        [255, 255, 255],\n",
       "        [255, 255, 255]],\n",
       "\n",
       "       [[255, 255, 255],\n",
       "        [255, 255, 255],\n",
       "        [255, 255, 255],\n",
       "        ...,\n",
       "        [255, 255, 255],\n",
       "        [255, 255, 255],\n",
       "        [255, 255, 255]],\n",
       "\n",
       "       [[255, 255, 255],\n",
       "        [255, 255, 255],\n",
       "        [255, 255, 255],\n",
       "        ...,\n",
       "        [255, 255, 255],\n",
       "        [255, 255, 255],\n",
       "        [255, 255, 255]],\n",
       "\n",
       "       ...,\n",
       "\n",
       "       [[255, 255, 255],\n",
       "        [255, 255, 255],\n",
       "        [255, 255, 255],\n",
       "        ...,\n",
       "        [114, 114, 114],\n",
       "        [255, 255, 255],\n",
       "        [255, 255, 255]],\n",
       "\n",
       "       [[255, 255, 255],\n",
       "        [255, 255, 255],\n",
       "        [255, 255, 255],\n",
       "        ...,\n",
       "        [255, 255, 255],\n",
       "        [255, 255, 255],\n",
       "        [255, 255, 255]],\n",
       "\n",
       "       [[255, 255, 255],\n",
       "        [255, 255, 255],\n",
       "        [255, 255, 255],\n",
       "        ...,\n",
       "        [255, 255, 255],\n",
       "        [255, 255, 255],\n",
       "        [255, 255, 255]]], dtype=uint8)"
      ]
     },
     "execution_count": 229,
     "metadata": {},
     "output_type": "execute_result"
    }
   ],
   "source": [
    "plot_images(deepcopy(img), pseudo_label, path, \"images_out.jpg\")\n",
    "plot_images(deepcopy(img), pseudo_label1, path, \"images_out1.jpg\")\n",
    "plot_images(deepcopy(img), pseudo_label1_aug, path, \"images_out1_aug.jpg\")\n",
    "\n",
    "plot_images(deepcopy(img), labels_out, path, \"images_label.jpg\")\n"
   ]
  },
  {
   "cell_type": "code",
   "execution_count": null,
   "metadata": {},
   "outputs": [],
   "source": []
  },
  {
   "cell_type": "code",
   "execution_count": null,
   "metadata": {},
   "outputs": [],
   "source": []
  },
  {
   "cell_type": "code",
   "execution_count": null,
   "metadata": {},
   "outputs": [],
   "source": []
  }
 ],
 "metadata": {
  "kernelspec": {
   "display_name": "Python 3.10.8 ('yolo')",
   "language": "python",
   "name": "python3"
  },
  "language_info": {
   "codemirror_mode": {
    "name": "ipython",
    "version": 3
   },
   "file_extension": ".py",
   "mimetype": "text/x-python",
   "name": "python",
   "nbconvert_exporter": "python",
   "pygments_lexer": "ipython3",
   "version": "3.9.16"
  },
  "orig_nbformat": 4,
  "vscode": {
   "interpreter": {
    "hash": "0b353fe36be7eef479a933b29e3de312d46af9265b96eef51026ac6ee2666eb0"
   }
  }
 },
 "nbformat": 4,
 "nbformat_minor": 2
}
